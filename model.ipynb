{
 "cells": [
  {
   "cell_type": "code",
   "execution_count": 361,
   "metadata": {},
   "outputs": [],
   "source": [
    "import pandas as pd\n",
    "import numpy as np\n",
    "from scipy import stats\n",
    "import statsmodels.formula.api as smf\n",
    "from sklearn.preprocessing import MinMaxScaler\n",
    "import re\n",
    "import plotly.express as px"
   ]
  },
  {
   "cell_type": "markdown",
   "metadata": {},
   "source": [
    "## Odczytanie danych i wstępna ocena"
   ]
  },
  {
   "cell_type": "code",
   "execution_count": 362,
   "metadata": {},
   "outputs": [
    {
     "name": "stdout",
     "output_type": "stream",
     "text": [
      "<class 'pandas.core.frame.DataFrame'>\n",
      "RangeIndex: 200 entries, 0 to 199\n",
      "Data columns (total 10 columns):\n",
      " #   Column       Non-Null Count  Dtype  \n",
      "---  ------       --------------  -----  \n",
      " 0   carat        150 non-null    float64\n",
      " 1   clarity      200 non-null    object \n",
      " 2   color        200 non-null    object \n",
      " 3   cut          200 non-null    object \n",
      " 4   x dimension  197 non-null    float64\n",
      " 5   y dimension  136 non-null    float64\n",
      " 6   z dimension  152 non-null    float64\n",
      " 7   depth        133 non-null    float64\n",
      " 8   table        168 non-null    object \n",
      " 9   price        196 non-null    float64\n",
      "dtypes: float64(6), object(4)\n",
      "memory usage: 15.8+ KB\n"
     ]
    },
    {
     "name": "stderr",
     "output_type": "stream",
     "text": [
      "/var/folders/lg/tjgc4y_d5qvc9n0f4mv4h5mc0000gn/T/ipykernel_1407/1684872643.py:1: ParserWarning:\n",
      "\n",
      "Falling back to the 'python' engine because the 'c' engine does not support regex separators (separators > 1 char and different from '\\s+' are interpreted as regex); you can avoid this warning by specifying engine='python'.\n",
      "\n"
     ]
    },
    {
     "data": {
      "text/html": [
       "<div>\n",
       "<style scoped>\n",
       "    .dataframe tbody tr th:only-of-type {\n",
       "        vertical-align: middle;\n",
       "    }\n",
       "\n",
       "    .dataframe tbody tr th {\n",
       "        vertical-align: top;\n",
       "    }\n",
       "\n",
       "    .dataframe thead th {\n",
       "        text-align: right;\n",
       "    }\n",
       "</style>\n",
       "<table border=\"1\" class=\"dataframe\">\n",
       "  <thead>\n",
       "    <tr style=\"text-align: right;\">\n",
       "      <th></th>\n",
       "      <th>carat</th>\n",
       "      <th>clarity</th>\n",
       "      <th>color</th>\n",
       "      <th>cut</th>\n",
       "      <th>x dimension</th>\n",
       "      <th>y dimension</th>\n",
       "      <th>z dimension</th>\n",
       "      <th>depth</th>\n",
       "      <th>table</th>\n",
       "      <th>price</th>\n",
       "    </tr>\n",
       "  </thead>\n",
       "  <tbody>\n",
       "    <tr>\n",
       "      <th>0</th>\n",
       "      <td>0.5</td>\n",
       "      <td>IF</td>\n",
       "      <td>D</td>\n",
       "      <td>Ideal</td>\n",
       "      <td>5.1</td>\n",
       "      <td>5.15</td>\n",
       "      <td>3.20</td>\n",
       "      <td>61.5</td>\n",
       "      <td>NaN</td>\n",
       "      <td>3000.0</td>\n",
       "    </tr>\n",
       "    <tr>\n",
       "      <th>1</th>\n",
       "      <td>0.7</td>\n",
       "      <td>vvs2</td>\n",
       "      <td>E</td>\n",
       "      <td>premium</td>\n",
       "      <td>5.7</td>\n",
       "      <td>NaN</td>\n",
       "      <td>3.52</td>\n",
       "      <td>62.0</td>\n",
       "      <td>59</td>\n",
       "      <td>4500.0</td>\n",
       "    </tr>\n",
       "    <tr>\n",
       "      <th>2</th>\n",
       "      <td>NaN</td>\n",
       "      <td>Si2</td>\n",
       "      <td>h</td>\n",
       "      <td>Good</td>\n",
       "      <td>4.3</td>\n",
       "      <td>4.31</td>\n",
       "      <td>NaN</td>\n",
       "      <td>62.3</td>\n",
       "      <td>56</td>\n",
       "      <td>700.0</td>\n",
       "    </tr>\n",
       "    <tr>\n",
       "      <th>3</th>\n",
       "      <td>1.2</td>\n",
       "      <td>if</td>\n",
       "      <td>d</td>\n",
       "      <td>ideal</td>\n",
       "      <td>NaN</td>\n",
       "      <td>6.82</td>\n",
       "      <td>4.20</td>\n",
       "      <td>61.7</td>\n",
       "      <td>58</td>\n",
       "      <td>10000.0</td>\n",
       "    </tr>\n",
       "    <tr>\n",
       "      <th>4</th>\n",
       "      <td>0.9</td>\n",
       "      <td>I1</td>\n",
       "      <td>J</td>\n",
       "      <td>Fair</td>\n",
       "      <td>6.0</td>\n",
       "      <td>NaN</td>\n",
       "      <td>3.70</td>\n",
       "      <td>61.7</td>\n",
       "      <td>NaN</td>\n",
       "      <td>2400.0</td>\n",
       "    </tr>\n",
       "  </tbody>\n",
       "</table>\n",
       "</div>"
      ],
      "text/plain": [
       "   carat clarity color      cut  x dimension  y dimension  z dimension  depth  \\\n",
       "0    0.5      IF     D    Ideal          5.1         5.15         3.20   61.5   \n",
       "1    0.7    vvs2     E  premium          5.7          NaN         3.52   62.0   \n",
       "2    NaN     Si2     h     Good          4.3         4.31          NaN   62.3   \n",
       "3    1.2      if     d    ideal          NaN         6.82         4.20   61.7   \n",
       "4    0.9      I1     J     Fair          6.0          NaN         3.70   61.7   \n",
       "\n",
       "  table    price  \n",
       "0   NaN   3000.0  \n",
       "1    59   4500.0  \n",
       "2    56    700.0  \n",
       "3    58  10000.0  \n",
       "4   NaN   2400.0  "
      ]
     },
     "metadata": {},
     "output_type": "display_data"
    }
   ],
   "source": [
    "df = pd.read_csv('messy_data.csv', sep=', ')\n",
    "df.info()\n",
    "display(df.head())"
   ]
  },
  {
   "cell_type": "markdown",
   "metadata": {},
   "source": [
    "## Duplikaty"
   ]
  },
  {
   "cell_type": "code",
   "execution_count": 363,
   "metadata": {},
   "outputs": [
    {
     "data": {
      "text/plain": [
       "0      False\n",
       "1      False\n",
       "2      False\n",
       "3      False\n",
       "4      False\n",
       "       ...  \n",
       "195    False\n",
       "196    False\n",
       "197    False\n",
       "198    False\n",
       "199    False\n",
       "Length: 200, dtype: bool"
      ]
     },
     "metadata": {},
     "output_type": "display_data"
    },
    {
     "data": {
      "text/plain": [
       "'Duplications: 0'"
      ]
     },
     "metadata": {},
     "output_type": "display_data"
    },
    {
     "data": {
      "text/html": [
       "<div>\n",
       "<style scoped>\n",
       "    .dataframe tbody tr th:only-of-type {\n",
       "        vertical-align: middle;\n",
       "    }\n",
       "\n",
       "    .dataframe tbody tr th {\n",
       "        vertical-align: top;\n",
       "    }\n",
       "\n",
       "    .dataframe thead th {\n",
       "        text-align: right;\n",
       "    }\n",
       "</style>\n",
       "<table border=\"1\" class=\"dataframe\">\n",
       "  <thead>\n",
       "    <tr style=\"text-align: right;\">\n",
       "      <th></th>\n",
       "      <th>carat</th>\n",
       "      <th>clarity</th>\n",
       "      <th>color</th>\n",
       "      <th>cut</th>\n",
       "      <th>x dimension</th>\n",
       "      <th>y dimension</th>\n",
       "      <th>z dimension</th>\n",
       "      <th>depth</th>\n",
       "      <th>table</th>\n",
       "      <th>price</th>\n",
       "    </tr>\n",
       "  </thead>\n",
       "  <tbody>\n",
       "    <tr>\n",
       "      <th>143</th>\n",
       "      <td>NaN</td>\n",
       "      <td>IF</td>\n",
       "      <td>I</td>\n",
       "      <td>Premium</td>\n",
       "      <td>6.5</td>\n",
       "      <td>6.52</td>\n",
       "      <td>4.03</td>\n",
       "      <td>62.6</td>\n",
       "      <td>NaN</td>\n",
       "      <td>7700.0</td>\n",
       "    </tr>\n",
       "    <tr>\n",
       "      <th>185</th>\n",
       "      <td>NaN</td>\n",
       "      <td>VVS1</td>\n",
       "      <td>H</td>\n",
       "      <td>Good</td>\n",
       "      <td>6.5</td>\n",
       "      <td>6.52</td>\n",
       "      <td>4.03</td>\n",
       "      <td>62.6</td>\n",
       "      <td>NaN</td>\n",
       "      <td>7900.0</td>\n",
       "    </tr>\n",
       "  </tbody>\n",
       "</table>\n",
       "</div>"
      ],
      "text/plain": [
       "     carat clarity color      cut  x dimension  y dimension  z dimension  \\\n",
       "143    NaN      IF     I  Premium          6.5         6.52         4.03   \n",
       "185    NaN    VVS1     H     Good          6.5         6.52         4.03   \n",
       "\n",
       "     depth table   price  \n",
       "143   62.6   NaN  7700.0  \n",
       "185   62.6   NaN  7900.0  "
      ]
     },
     "metadata": {},
     "output_type": "display_data"
    },
    {
     "data": {
      "text/html": [
       "<div>\n",
       "<style scoped>\n",
       "    .dataframe tbody tr th:only-of-type {\n",
       "        vertical-align: middle;\n",
       "    }\n",
       "\n",
       "    .dataframe tbody tr th {\n",
       "        vertical-align: top;\n",
       "    }\n",
       "\n",
       "    .dataframe thead th {\n",
       "        text-align: right;\n",
       "    }\n",
       "</style>\n",
       "<table border=\"1\" class=\"dataframe\">\n",
       "  <thead>\n",
       "    <tr style=\"text-align: right;\">\n",
       "      <th></th>\n",
       "      <th>carat</th>\n",
       "      <th>clarity</th>\n",
       "      <th>color</th>\n",
       "      <th>cut</th>\n",
       "      <th>x dimension</th>\n",
       "      <th>y dimension</th>\n",
       "      <th>z dimension</th>\n",
       "      <th>depth</th>\n",
       "      <th>table</th>\n",
       "      <th>price</th>\n",
       "    </tr>\n",
       "  </thead>\n",
       "  <tbody>\n",
       "    <tr>\n",
       "      <th>73</th>\n",
       "      <td>1.2</td>\n",
       "      <td>VVS1</td>\n",
       "      <td>e</td>\n",
       "      <td>Premium</td>\n",
       "      <td>6.8</td>\n",
       "      <td>NaN</td>\n",
       "      <td>4.2</td>\n",
       "      <td>62.7</td>\n",
       "      <td>58</td>\n",
       "      <td>10200.0</td>\n",
       "    </tr>\n",
       "    <tr>\n",
       "      <th>137</th>\n",
       "      <td>1.2</td>\n",
       "      <td>vvs1</td>\n",
       "      <td>G</td>\n",
       "      <td>Premium</td>\n",
       "      <td>6.8</td>\n",
       "      <td>NaN</td>\n",
       "      <td>4.2</td>\n",
       "      <td>NaN</td>\n",
       "      <td>58</td>\n",
       "      <td>10100.0</td>\n",
       "    </tr>\n",
       "  </tbody>\n",
       "</table>\n",
       "</div>"
      ],
      "text/plain": [
       "     carat clarity color      cut  x dimension  y dimension  z dimension  \\\n",
       "73     1.2    VVS1     e  Premium          6.8          NaN          4.2   \n",
       "137    1.2    vvs1     G  Premium          6.8          NaN          4.2   \n",
       "\n",
       "     depth table    price  \n",
       "73    62.7    58  10200.0  \n",
       "137    NaN    58  10100.0  "
      ]
     },
     "metadata": {},
     "output_type": "display_data"
    },
    {
     "data": {
      "text/html": [
       "<div>\n",
       "<style scoped>\n",
       "    .dataframe tbody tr th:only-of-type {\n",
       "        vertical-align: middle;\n",
       "    }\n",
       "\n",
       "    .dataframe tbody tr th {\n",
       "        vertical-align: top;\n",
       "    }\n",
       "\n",
       "    .dataframe thead th {\n",
       "        text-align: right;\n",
       "    }\n",
       "</style>\n",
       "<table border=\"1\" class=\"dataframe\">\n",
       "  <thead>\n",
       "    <tr style=\"text-align: right;\">\n",
       "      <th></th>\n",
       "      <th>carat</th>\n",
       "      <th>clarity</th>\n",
       "      <th>color</th>\n",
       "      <th>cut</th>\n",
       "      <th>x dimension</th>\n",
       "      <th>y dimension</th>\n",
       "      <th>z dimension</th>\n",
       "      <th>depth</th>\n",
       "      <th>table</th>\n",
       "      <th>price</th>\n",
       "    </tr>\n",
       "  </thead>\n",
       "  <tbody>\n",
       "    <tr>\n",
       "      <th>0</th>\n",
       "      <td>0.5</td>\n",
       "      <td>IF</td>\n",
       "      <td>D</td>\n",
       "      <td>Ideal</td>\n",
       "      <td>5.1</td>\n",
       "      <td>5.15</td>\n",
       "      <td>3.2</td>\n",
       "      <td>61.5</td>\n",
       "      <td>NaN</td>\n",
       "      <td>3000.0</td>\n",
       "    </tr>\n",
       "    <tr>\n",
       "      <th>6</th>\n",
       "      <td>0.5</td>\n",
       "      <td>if</td>\n",
       "      <td>D</td>\n",
       "      <td>Ideal</td>\n",
       "      <td>5.1</td>\n",
       "      <td>NaN</td>\n",
       "      <td>3.2</td>\n",
       "      <td>61.5</td>\n",
       "      <td>57</td>\n",
       "      <td>3100.0</td>\n",
       "    </tr>\n",
       "  </tbody>\n",
       "</table>\n",
       "</div>"
      ],
      "text/plain": [
       "   carat clarity color    cut  x dimension  y dimension  z dimension  depth  \\\n",
       "0    0.5      IF     D  Ideal          5.1         5.15          3.2   61.5   \n",
       "6    0.5      if     D  Ideal          5.1          NaN          3.2   61.5   \n",
       "\n",
       "  table   price  \n",
       "0   NaN  3000.0  \n",
       "6    57  3100.0  "
      ]
     },
     "metadata": {},
     "output_type": "display_data"
    }
   ],
   "source": [
    "display(df.duplicated())\n",
    "display(\"Duplications: {}\".format(df.duplicated().sum()))\n",
    "duplicates = df.duplicated(subset=[\"x dimension\", \"y dimension\", \"z dimension\", \"depth\", \"table\"], keep=False)\n",
    "\n",
    "display(df[duplicates])\n",
    "duplicates = df.duplicated(subset=[\"carat\", \"cut\"], keep=False)\n",
    "\n",
    "# To check \"carat\" and \"cut\" duplicates\n",
    "# for i in df['carat'].unique():\n",
    "#     display(df[duplicates][df[duplicates]['carat'] == i])\n",
    "\n",
    "display(df.loc[[73, 137]])\n",
    "display(df.loc[[0, 6]])"
   ]
  },
  {
   "cell_type": "markdown",
   "metadata": {},
   "source": [
    "## Mapowanie niewłaściwych wartości do NaN i ustandaryzowanie wartości kategorycznych"
   ]
  },
  {
   "cell_type": "code",
   "execution_count": 364,
   "metadata": {},
   "outputs": [
    {
     "data": {
      "text/plain": [
       "'carat number of null values: 50'"
      ]
     },
     "metadata": {},
     "output_type": "display_data"
    },
    {
     "data": {
      "text/plain": [
       "'clarity number of null values: 0'"
      ]
     },
     "metadata": {},
     "output_type": "display_data"
    },
    {
     "data": {
      "text/plain": [
       "'color number of null values: 0'"
      ]
     },
     "metadata": {},
     "output_type": "display_data"
    },
    {
     "data": {
      "text/plain": [
       "'cut number of null values: 0'"
      ]
     },
     "metadata": {},
     "output_type": "display_data"
    },
    {
     "data": {
      "text/plain": [
       "'x dimension number of null values: 3'"
      ]
     },
     "metadata": {},
     "output_type": "display_data"
    },
    {
     "data": {
      "text/plain": [
       "'y dimension number of null values: 64'"
      ]
     },
     "metadata": {},
     "output_type": "display_data"
    },
    {
     "data": {
      "text/plain": [
       "'z dimension number of null values: 48'"
      ]
     },
     "metadata": {},
     "output_type": "display_data"
    },
    {
     "data": {
      "text/plain": [
       "'depth number of null values: 67'"
      ]
     },
     "metadata": {},
     "output_type": "display_data"
    },
    {
     "data": {
      "text/plain": [
       "'table number of null values: 32'"
      ]
     },
     "metadata": {},
     "output_type": "display_data"
    },
    {
     "data": {
      "text/plain": [
       "'price number of null values: 4'"
      ]
     },
     "metadata": {},
     "output_type": "display_data"
    }
   ],
   "source": [
    "for col in df:\n",
    "    display('{} number of null values: {}'.format(col, df[col].isna().sum()))"
   ]
  },
  {
   "cell_type": "code",
   "execution_count": 365,
   "metadata": {},
   "outputs": [
    {
     "data": {
      "text/plain": [
       "\"clarity unique values: ['IF' 'vvs2' 'Si2' 'if' 'I1' 'Si1' 'Vvs1' 'SI2' 'vvs1' 'si2' 'si1' 'i1'\\n 'VVS1' 'VVS2']\""
      ]
     },
     "metadata": {},
     "output_type": "display_data"
    },
    {
     "data": {
      "text/plain": [
       "\"clarity unique values after uppercase transformation: ['IF' 'VVS2' 'SI2' 'I1' 'SI1' 'VVS1']\""
      ]
     },
     "metadata": {},
     "output_type": "display_data"
    },
    {
     "data": {
      "text/plain": [
       "\"color unique values: ['D' 'E' 'h' 'd' 'J' 'G' 'f' 'I' 'F' 'Colorless' 'j' 'e' 'H' 'g'\\n 'colorless']\""
      ]
     },
     "metadata": {},
     "output_type": "display_data"
    },
    {
     "data": {
      "text/plain": [
       "\"color unique values after uppercase transformation: ['D' 'E' 'H' 'J' 'G' 'F' 'I' 'COLORLESS']\""
      ]
     },
     "metadata": {},
     "output_type": "display_data"
    },
    {
     "data": {
      "text/plain": [
       "\"cut unique values: ['Ideal' 'premium' 'Good' 'ideal' 'Fair' 'very Good' 'good' 'Very good'\\n 'very good' 'fair' 'Premium' 'Very Good']\""
      ]
     },
     "metadata": {},
     "output_type": "display_data"
    },
    {
     "data": {
      "text/plain": [
       "\"cut unique values after uppercase transformation: ['IDEAL' 'PREMIUM' 'GOOD' 'FAIR' 'VERY GOOD']\""
      ]
     },
     "metadata": {},
     "output_type": "display_data"
    }
   ],
   "source": [
    "for col in ('clarity', 'color', 'cut'):\n",
    "    display('{} unique values: {}'.format(col, df[col].unique()))\n",
    "    df[col] = df[col].str.upper()\n",
    "    display('{} unique values after uppercase transformation: {}'.format(col, df[col].unique()))"
   ]
  },
  {
   "cell_type": "code",
   "execution_count": 366,
   "metadata": {},
   "outputs": [
    {
     "name": "stdout",
     "output_type": "stream",
     "text": [
      "<class 'pandas.core.frame.DataFrame'>\n",
      "RangeIndex: 200 entries, 0 to 199\n",
      "Data columns (total 10 columns):\n",
      " #   Column       Non-Null Count  Dtype   \n",
      "---  ------       --------------  -----   \n",
      " 0   carat        150 non-null    float64 \n",
      " 1   clarity      200 non-null    category\n",
      " 2   color        200 non-null    category\n",
      " 3   cut          200 non-null    category\n",
      " 4   x dimension  197 non-null    float64 \n",
      " 5   y dimension  136 non-null    float64 \n",
      " 6   z dimension  152 non-null    float64 \n",
      " 7   depth        133 non-null    float64 \n",
      " 8   table        168 non-null    object  \n",
      " 9   price        196 non-null    float64 \n",
      "dtypes: category(3), float64(6), object(1)\n",
      "memory usage: 12.4+ KB\n"
     ]
    }
   ],
   "source": [
    "df['clarity'] = df['clarity'].astype('category')\n",
    "df['color'] = df['color'].astype('category')\n",
    "df['cut'] = df['cut'].astype('category')\n",
    "\n",
    "df.info()"
   ]
  },
  {
   "cell_type": "code",
   "execution_count": 367,
   "metadata": {},
   "outputs": [
    {
     "data": {
      "text/plain": [
       "array([nan, '59', '56', '58', '57', ',', '58,', '54', '57,', '60', '55'],\n",
       "      dtype=object)"
      ]
     },
     "execution_count": 367,
     "metadata": {},
     "output_type": "execute_result"
    }
   ],
   "source": [
    "df['table'].unique()"
   ]
  },
  {
   "cell_type": "code",
   "execution_count": 368,
   "metadata": {},
   "outputs": [
    {
     "data": {
      "text/plain": [
       "array([nan, '59', '56', '58', '57', '', '54', '60', '55'], dtype=object)"
      ]
     },
     "metadata": {},
     "output_type": "display_data"
    },
    {
     "data": {
      "text/plain": [
       "array([nan, '59', '56', '58', '57', '54', '60', '55'], dtype=object)"
      ]
     },
     "metadata": {},
     "output_type": "display_data"
    },
    {
     "name": "stdout",
     "output_type": "stream",
     "text": [
      "<class 'pandas.core.frame.DataFrame'>\n",
      "RangeIndex: 200 entries, 0 to 199\n",
      "Data columns (total 10 columns):\n",
      " #   Column       Non-Null Count  Dtype   \n",
      "---  ------       --------------  -----   \n",
      " 0   carat        150 non-null    float64 \n",
      " 1   clarity      200 non-null    category\n",
      " 2   color        200 non-null    category\n",
      " 3   cut          200 non-null    category\n",
      " 4   x dimension  197 non-null    float64 \n",
      " 5   y dimension  136 non-null    float64 \n",
      " 6   z dimension  152 non-null    float64 \n",
      " 7   depth        133 non-null    float64 \n",
      " 8   table        167 non-null    float64 \n",
      " 9   price        196 non-null    float64 \n",
      "dtypes: category(3), float64(7)\n",
      "memory usage: 12.4 KB\n"
     ]
    }
   ],
   "source": [
    "df['table'] = df['table'].str.replace(\",\", \"\")\n",
    "display(df['table'].unique())\n",
    "df.replace({\"\": np.nan}, inplace=True)\n",
    "display(df['table'].unique())\n",
    "df['table'] = df['table'].astype('float64')\n",
    "df.info()"
   ]
  },
  {
   "cell_type": "markdown",
   "metadata": {},
   "source": [
    "## Uzupełnienie brakujących wartości medianą"
   ]
  },
  {
   "cell_type": "code",
   "execution_count": 369,
   "metadata": {},
   "outputs": [
    {
     "name": "stdout",
     "output_type": "stream",
     "text": [
      "<class 'pandas.core.frame.DataFrame'>\n",
      "RangeIndex: 200 entries, 0 to 199\n",
      "Data columns (total 10 columns):\n",
      " #   Column       Non-Null Count  Dtype   \n",
      "---  ------       --------------  -----   \n",
      " 0   carat        200 non-null    float64 \n",
      " 1   clarity      200 non-null    category\n",
      " 2   color        200 non-null    category\n",
      " 3   cut          200 non-null    category\n",
      " 4   x dimension  200 non-null    float64 \n",
      " 5   y dimension  200 non-null    float64 \n",
      " 6   z dimension  200 non-null    float64 \n",
      " 7   depth        200 non-null    float64 \n",
      " 8   table        200 non-null    float64 \n",
      " 9   price        200 non-null    float64 \n",
      "dtypes: category(3), float64(7)\n",
      "memory usage: 12.4 KB\n"
     ]
    }
   ],
   "source": [
    "df['carat'].fillna(df['carat'].median(), inplace=True)\n",
    "df['x dimension'].fillna(df['x dimension'].median(), inplace=True)\n",
    "df['y dimension'].fillna(df['y dimension'].median(), inplace=True)\n",
    "df['z dimension'].fillna(df['z dimension'].median(), inplace=True)\n",
    "df['depth'].fillna(df['depth'].median(), inplace=True)\n",
    "df['table'].fillna(df['table'].median(), inplace=True)\n",
    "df['price'].fillna(df['price'].median(), inplace=True)\n",
    "\n",
    "df.info()"
   ]
  },
  {
   "cell_type": "code",
   "execution_count": 370,
   "metadata": {},
   "outputs": [
    {
     "data": {
      "text/html": [
       "<div>\n",
       "<style scoped>\n",
       "    .dataframe tbody tr th:only-of-type {\n",
       "        vertical-align: middle;\n",
       "    }\n",
       "\n",
       "    .dataframe tbody tr th {\n",
       "        vertical-align: top;\n",
       "    }\n",
       "\n",
       "    .dataframe thead th {\n",
       "        text-align: right;\n",
       "    }\n",
       "</style>\n",
       "<table border=\"1\" class=\"dataframe\">\n",
       "  <thead>\n",
       "    <tr style=\"text-align: right;\">\n",
       "      <th></th>\n",
       "      <th>carat</th>\n",
       "      <th>clarity</th>\n",
       "      <th>color</th>\n",
       "      <th>cut</th>\n",
       "      <th>x dimension</th>\n",
       "      <th>y dimension</th>\n",
       "      <th>z dimension</th>\n",
       "      <th>depth</th>\n",
       "      <th>table</th>\n",
       "      <th>price</th>\n",
       "    </tr>\n",
       "  </thead>\n",
       "  <tbody>\n",
       "    <tr>\n",
       "      <th>0</th>\n",
       "      <td>0.50</td>\n",
       "      <td>IF</td>\n",
       "      <td>D</td>\n",
       "      <td>IDEAL</td>\n",
       "      <td>5.1</td>\n",
       "      <td>5.15</td>\n",
       "      <td>3.200</td>\n",
       "      <td>61.5</td>\n",
       "      <td>57.0</td>\n",
       "      <td>3000.0</td>\n",
       "    </tr>\n",
       "    <tr>\n",
       "      <th>1</th>\n",
       "      <td>0.70</td>\n",
       "      <td>VVS2</td>\n",
       "      <td>E</td>\n",
       "      <td>PREMIUM</td>\n",
       "      <td>5.7</td>\n",
       "      <td>5.85</td>\n",
       "      <td>3.520</td>\n",
       "      <td>62.0</td>\n",
       "      <td>59.0</td>\n",
       "      <td>4500.0</td>\n",
       "    </tr>\n",
       "    <tr>\n",
       "      <th>2</th>\n",
       "      <td>0.75</td>\n",
       "      <td>SI2</td>\n",
       "      <td>H</td>\n",
       "      <td>GOOD</td>\n",
       "      <td>4.3</td>\n",
       "      <td>4.31</td>\n",
       "      <td>3.715</td>\n",
       "      <td>62.3</td>\n",
       "      <td>56.0</td>\n",
       "      <td>700.0</td>\n",
       "    </tr>\n",
       "    <tr>\n",
       "      <th>3</th>\n",
       "      <td>1.20</td>\n",
       "      <td>IF</td>\n",
       "      <td>D</td>\n",
       "      <td>IDEAL</td>\n",
       "      <td>5.9</td>\n",
       "      <td>6.82</td>\n",
       "      <td>4.200</td>\n",
       "      <td>61.7</td>\n",
       "      <td>58.0</td>\n",
       "      <td>10000.0</td>\n",
       "    </tr>\n",
       "    <tr>\n",
       "      <th>4</th>\n",
       "      <td>0.90</td>\n",
       "      <td>I1</td>\n",
       "      <td>J</td>\n",
       "      <td>FAIR</td>\n",
       "      <td>6.0</td>\n",
       "      <td>5.85</td>\n",
       "      <td>3.700</td>\n",
       "      <td>61.7</td>\n",
       "      <td>57.0</td>\n",
       "      <td>2400.0</td>\n",
       "    </tr>\n",
       "  </tbody>\n",
       "</table>\n",
       "</div>"
      ],
      "text/plain": [
       "   carat clarity color      cut  x dimension  y dimension  z dimension  depth  \\\n",
       "0   0.50      IF     D    IDEAL          5.1         5.15        3.200   61.5   \n",
       "1   0.70    VVS2     E  PREMIUM          5.7         5.85        3.520   62.0   \n",
       "2   0.75     SI2     H     GOOD          4.3         4.31        3.715   62.3   \n",
       "3   1.20      IF     D    IDEAL          5.9         6.82        4.200   61.7   \n",
       "4   0.90      I1     J     FAIR          6.0         5.85        3.700   61.7   \n",
       "\n",
       "   table    price  \n",
       "0   57.0   3000.0  \n",
       "1   59.0   4500.0  \n",
       "2   56.0    700.0  \n",
       "3   58.0  10000.0  \n",
       "4   57.0   2400.0  "
      ]
     },
     "execution_count": 370,
     "metadata": {},
     "output_type": "execute_result"
    }
   ],
   "source": [
    "df.head()"
   ]
  },
  {
   "cell_type": "code",
   "execution_count": 371,
   "metadata": {},
   "outputs": [],
   "source": [
    "df.to_csv('data_cleaned.csv', index=False)"
   ]
  },
  {
   "cell_type": "code",
   "execution_count": 372,
   "metadata": {},
   "outputs": [
    {
     "data": {
      "text/html": [
       "<div>\n",
       "<style scoped>\n",
       "    .dataframe tbody tr th:only-of-type {\n",
       "        vertical-align: middle;\n",
       "    }\n",
       "\n",
       "    .dataframe tbody tr th {\n",
       "        vertical-align: top;\n",
       "    }\n",
       "\n",
       "    .dataframe thead th {\n",
       "        text-align: right;\n",
       "    }\n",
       "</style>\n",
       "<table border=\"1\" class=\"dataframe\">\n",
       "  <thead>\n",
       "    <tr style=\"text-align: right;\">\n",
       "      <th></th>\n",
       "      <th>carat</th>\n",
       "      <th>xdimension</th>\n",
       "      <th>ydimension</th>\n",
       "      <th>zdimension</th>\n",
       "      <th>depth</th>\n",
       "      <th>table</th>\n",
       "      <th>clarity</th>\n",
       "      <th>color</th>\n",
       "      <th>cut</th>\n",
       "      <th>price</th>\n",
       "    </tr>\n",
       "  </thead>\n",
       "  <tbody>\n",
       "    <tr>\n",
       "      <th>0</th>\n",
       "      <td>0.214286</td>\n",
       "      <td>0.352941</td>\n",
       "      <td>0.371681</td>\n",
       "      <td>0.377990</td>\n",
       "      <td>0.166667</td>\n",
       "      <td>0.500000</td>\n",
       "      <td>IF</td>\n",
       "      <td>D</td>\n",
       "      <td>IDEAL</td>\n",
       "      <td>3000.0</td>\n",
       "    </tr>\n",
       "    <tr>\n",
       "      <th>1</th>\n",
       "      <td>0.357143</td>\n",
       "      <td>0.529412</td>\n",
       "      <td>0.578171</td>\n",
       "      <td>0.531100</td>\n",
       "      <td>0.444444</td>\n",
       "      <td>0.833333</td>\n",
       "      <td>VVS2</td>\n",
       "      <td>E</td>\n",
       "      <td>PREMIUM</td>\n",
       "      <td>4500.0</td>\n",
       "    </tr>\n",
       "    <tr>\n",
       "      <th>2</th>\n",
       "      <td>0.392857</td>\n",
       "      <td>0.117647</td>\n",
       "      <td>0.123894</td>\n",
       "      <td>0.624402</td>\n",
       "      <td>0.611111</td>\n",
       "      <td>0.333333</td>\n",
       "      <td>SI2</td>\n",
       "      <td>H</td>\n",
       "      <td>GOOD</td>\n",
       "      <td>700.0</td>\n",
       "    </tr>\n",
       "    <tr>\n",
       "      <th>3</th>\n",
       "      <td>0.714286</td>\n",
       "      <td>0.588235</td>\n",
       "      <td>0.864307</td>\n",
       "      <td>0.856459</td>\n",
       "      <td>0.277778</td>\n",
       "      <td>0.666667</td>\n",
       "      <td>IF</td>\n",
       "      <td>D</td>\n",
       "      <td>IDEAL</td>\n",
       "      <td>10000.0</td>\n",
       "    </tr>\n",
       "    <tr>\n",
       "      <th>4</th>\n",
       "      <td>0.500000</td>\n",
       "      <td>0.617647</td>\n",
       "      <td>0.578171</td>\n",
       "      <td>0.617225</td>\n",
       "      <td>0.277778</td>\n",
       "      <td>0.500000</td>\n",
       "      <td>I1</td>\n",
       "      <td>J</td>\n",
       "      <td>FAIR</td>\n",
       "      <td>2400.0</td>\n",
       "    </tr>\n",
       "    <tr>\n",
       "      <th>...</th>\n",
       "      <td>...</td>\n",
       "      <td>...</td>\n",
       "      <td>...</td>\n",
       "      <td>...</td>\n",
       "      <td>...</td>\n",
       "      <td>...</td>\n",
       "      <td>...</td>\n",
       "      <td>...</td>\n",
       "      <td>...</td>\n",
       "      <td>...</td>\n",
       "    </tr>\n",
       "    <tr>\n",
       "      <th>195</th>\n",
       "      <td>0.178571</td>\n",
       "      <td>0.294118</td>\n",
       "      <td>0.294985</td>\n",
       "      <td>0.624402</td>\n",
       "      <td>0.666667</td>\n",
       "      <td>0.833333</td>\n",
       "      <td>SI1</td>\n",
       "      <td>F</td>\n",
       "      <td>VERY GOOD</td>\n",
       "      <td>2300.0</td>\n",
       "    </tr>\n",
       "    <tr>\n",
       "      <th>196</th>\n",
       "      <td>0.750000</td>\n",
       "      <td>0.882353</td>\n",
       "      <td>0.578171</td>\n",
       "      <td>0.889952</td>\n",
       "      <td>0.611111</td>\n",
       "      <td>0.166667</td>\n",
       "      <td>VVS2</td>\n",
       "      <td>H</td>\n",
       "      <td>GOOD</td>\n",
       "      <td>10400.0</td>\n",
       "    </tr>\n",
       "    <tr>\n",
       "      <th>197</th>\n",
       "      <td>0.250000</td>\n",
       "      <td>0.411765</td>\n",
       "      <td>0.578171</td>\n",
       "      <td>0.416268</td>\n",
       "      <td>0.611111</td>\n",
       "      <td>0.500000</td>\n",
       "      <td>I1</td>\n",
       "      <td>I</td>\n",
       "      <td>PREMIUM</td>\n",
       "      <td>150000.0</td>\n",
       "    </tr>\n",
       "    <tr>\n",
       "      <th>198</th>\n",
       "      <td>0.464286</td>\n",
       "      <td>0.647059</td>\n",
       "      <td>0.660767</td>\n",
       "      <td>0.655502</td>\n",
       "      <td>0.611111</td>\n",
       "      <td>0.666667</td>\n",
       "      <td>SI2</td>\n",
       "      <td>E</td>\n",
       "      <td>FAIR</td>\n",
       "      <td>6300.0</td>\n",
       "    </tr>\n",
       "    <tr>\n",
       "      <th>199</th>\n",
       "      <td>0.392857</td>\n",
       "      <td>0.735294</td>\n",
       "      <td>0.749263</td>\n",
       "      <td>0.746411</td>\n",
       "      <td>0.722222</td>\n",
       "      <td>0.500000</td>\n",
       "      <td>VVS1</td>\n",
       "      <td>G</td>\n",
       "      <td>VERY GOOD</td>\n",
       "      <td>7500.0</td>\n",
       "    </tr>\n",
       "  </tbody>\n",
       "</table>\n",
       "<p>200 rows × 10 columns</p>\n",
       "</div>"
      ],
      "text/plain": [
       "        carat  xdimension  ydimension  zdimension     depth     table clarity  \\\n",
       "0    0.214286    0.352941    0.371681    0.377990  0.166667  0.500000      IF   \n",
       "1    0.357143    0.529412    0.578171    0.531100  0.444444  0.833333    VVS2   \n",
       "2    0.392857    0.117647    0.123894    0.624402  0.611111  0.333333     SI2   \n",
       "3    0.714286    0.588235    0.864307    0.856459  0.277778  0.666667      IF   \n",
       "4    0.500000    0.617647    0.578171    0.617225  0.277778  0.500000      I1   \n",
       "..        ...         ...         ...         ...       ...       ...     ...   \n",
       "195  0.178571    0.294118    0.294985    0.624402  0.666667  0.833333     SI1   \n",
       "196  0.750000    0.882353    0.578171    0.889952  0.611111  0.166667    VVS2   \n",
       "197  0.250000    0.411765    0.578171    0.416268  0.611111  0.500000      I1   \n",
       "198  0.464286    0.647059    0.660767    0.655502  0.611111  0.666667     SI2   \n",
       "199  0.392857    0.735294    0.749263    0.746411  0.722222  0.500000    VVS1   \n",
       "\n",
       "    color        cut     price  \n",
       "0       D      IDEAL    3000.0  \n",
       "1       E    PREMIUM    4500.0  \n",
       "2       H       GOOD     700.0  \n",
       "3       D      IDEAL   10000.0  \n",
       "4       J       FAIR    2400.0  \n",
       "..    ...        ...       ...  \n",
       "195     F  VERY GOOD    2300.0  \n",
       "196     H       GOOD   10400.0  \n",
       "197     I    PREMIUM  150000.0  \n",
       "198     E       FAIR    6300.0  \n",
       "199     G  VERY GOOD    7500.0  \n",
       "\n",
       "[200 rows x 10 columns]"
      ]
     },
     "metadata": {},
     "output_type": "display_data"
    }
   ],
   "source": [
    "df_numeric_values = df[['carat', 'x dimension', 'y dimension', 'z dimension', 'depth', 'table']].values\n",
    "df_numeric_columns = df[['carat', 'x dimension', 'y dimension', 'z dimension', 'depth', 'table']].columns\n",
    "min_max_scaler = MinMaxScaler()\n",
    "df_numeric_values_scaled = min_max_scaler.fit_transform(df_numeric_values)\n",
    "x = pd.DataFrame(data=df_numeric_values_scaled, columns=df_numeric_columns)\n",
    "remaining_data = {'clarity': df['clarity'].values, 'color': df['color'].values, 'cut': df['cut'].values, 'price': df['price']}\n",
    "x.rename(columns=lambda x : re.sub(r\"\\s+\", \"\", x), inplace=True)\n",
    "normalized_df = x.assign(**remaining_data)\n",
    "display(normalized_df)"
   ]
  },
  {
   "cell_type": "code",
   "execution_count": 373,
   "metadata": {},
   "outputs": [],
   "source": [
    "model = smf.ols(formula=\"price ~ carat + xdimension + ydimension + zdimension + depth + table + C(clarity) + C(color) + C(cut)\", data=normalized_df).fit()"
   ]
  },
  {
   "cell_type": "code",
   "execution_count": 374,
   "metadata": {},
   "outputs": [
    {
     "data": {
      "text/html": [
       "<table class=\"simpletable\">\n",
       "<caption>OLS Regression Results</caption>\n",
       "<tr>\n",
       "  <th>Dep. Variable:</th>          <td>price</td>      <th>  R-squared:         </th> <td>   0.177</td>\n",
       "</tr>\n",
       "<tr>\n",
       "  <th>Model:</th>                   <td>OLS</td>       <th>  Adj. R-squared:    </th> <td>   0.074</td>\n",
       "</tr>\n",
       "<tr>\n",
       "  <th>Method:</th>             <td>Least Squares</td>  <th>  F-statistic:       </th> <td>   1.727</td>\n",
       "</tr>\n",
       "<tr>\n",
       "  <th>Date:</th>             <td>Sun, 04 Feb 2024</td> <th>  Prob (F-statistic):</th>  <td>0.0282</td> \n",
       "</tr>\n",
       "<tr>\n",
       "  <th>Time:</th>                 <td>00:28:48</td>     <th>  Log-Likelihood:    </th> <td> -2381.6</td>\n",
       "</tr>\n",
       "<tr>\n",
       "  <th>No. Observations:</th>      <td>   200</td>      <th>  AIC:               </th> <td>   4809.</td>\n",
       "</tr>\n",
       "<tr>\n",
       "  <th>Df Residuals:</th>          <td>   177</td>      <th>  BIC:               </th> <td>   4885.</td>\n",
       "</tr>\n",
       "<tr>\n",
       "  <th>Df Model:</th>              <td>    22</td>      <th>                     </th>     <td> </td>   \n",
       "</tr>\n",
       "<tr>\n",
       "  <th>Covariance Type:</th>      <td>nonrobust</td>    <th>                     </th>     <td> </td>   \n",
       "</tr>\n",
       "</table>\n",
       "<table class=\"simpletable\">\n",
       "<tr>\n",
       "           <td></td>              <th>coef</th>     <th>std err</th>      <th>t</th>      <th>P>|t|</th>  <th>[0.025</th>    <th>0.975]</th>  \n",
       "</tr>\n",
       "<tr>\n",
       "  <th>Intercept</th>           <td>  896.8654</td> <td> 2.15e+04</td> <td>    0.042</td> <td> 0.967</td> <td>-4.15e+04</td> <td> 4.33e+04</td>\n",
       "</tr>\n",
       "<tr>\n",
       "  <th>C(clarity)[T.IF]</th>    <td>-6575.4307</td> <td> 1.15e+04</td> <td>   -0.573</td> <td> 0.568</td> <td>-2.92e+04</td> <td> 1.61e+04</td>\n",
       "</tr>\n",
       "<tr>\n",
       "  <th>C(clarity)[T.SI1]</th>   <td>-1.691e+04</td> <td> 1.05e+04</td> <td>   -1.612</td> <td> 0.109</td> <td>-3.76e+04</td> <td> 3796.523</td>\n",
       "</tr>\n",
       "<tr>\n",
       "  <th>C(clarity)[T.SI2]</th>   <td>-1831.4370</td> <td> 9582.916</td> <td>   -0.191</td> <td> 0.849</td> <td>-2.07e+04</td> <td> 1.71e+04</td>\n",
       "</tr>\n",
       "<tr>\n",
       "  <th>C(clarity)[T.VVS1]</th>  <td>-9336.6332</td> <td> 1.06e+04</td> <td>   -0.880</td> <td> 0.380</td> <td>-3.03e+04</td> <td> 1.16e+04</td>\n",
       "</tr>\n",
       "<tr>\n",
       "  <th>C(clarity)[T.VVS2]</th>  <td>-2666.8265</td> <td> 1.02e+04</td> <td>   -0.261</td> <td> 0.795</td> <td>-2.29e+04</td> <td> 1.75e+04</td>\n",
       "</tr>\n",
       "<tr>\n",
       "  <th>C(color)[T.D]</th>       <td> 3.364e+04</td> <td> 1.75e+04</td> <td>    1.927</td> <td> 0.056</td> <td> -816.681</td> <td> 6.81e+04</td>\n",
       "</tr>\n",
       "<tr>\n",
       "  <th>C(color)[T.E]</th>       <td> -327.2464</td> <td> 1.68e+04</td> <td>   -0.019</td> <td> 0.984</td> <td>-3.35e+04</td> <td> 3.29e+04</td>\n",
       "</tr>\n",
       "<tr>\n",
       "  <th>C(color)[T.F]</th>       <td> 4970.6895</td> <td> 1.62e+04</td> <td>    0.307</td> <td> 0.759</td> <td>-2.69e+04</td> <td> 3.69e+04</td>\n",
       "</tr>\n",
       "<tr>\n",
       "  <th>C(color)[T.G]</th>       <td> 1.359e+04</td> <td> 1.58e+04</td> <td>    0.862</td> <td> 0.390</td> <td>-1.75e+04</td> <td> 4.47e+04</td>\n",
       "</tr>\n",
       "<tr>\n",
       "  <th>C(color)[T.H]</th>       <td> 1338.2037</td> <td> 1.65e+04</td> <td>    0.081</td> <td> 0.935</td> <td>-3.12e+04</td> <td> 3.39e+04</td>\n",
       "</tr>\n",
       "<tr>\n",
       "  <th>C(color)[T.I]</th>       <td> 8580.0580</td> <td> 1.62e+04</td> <td>    0.530</td> <td> 0.597</td> <td>-2.34e+04</td> <td> 4.05e+04</td>\n",
       "</tr>\n",
       "<tr>\n",
       "  <th>C(color)[T.J]</th>       <td>  252.9119</td> <td> 1.98e+04</td> <td>    0.013</td> <td> 0.990</td> <td>-3.88e+04</td> <td> 3.93e+04</td>\n",
       "</tr>\n",
       "<tr>\n",
       "  <th>C(cut)[T.GOOD]</th>      <td>-1.846e+04</td> <td> 9184.502</td> <td>   -2.010</td> <td> 0.046</td> <td>-3.66e+04</td> <td> -333.765</td>\n",
       "</tr>\n",
       "<tr>\n",
       "  <th>C(cut)[T.IDEAL]</th>     <td>-1.085e+04</td> <td> 1.02e+04</td> <td>   -1.064</td> <td> 0.289</td> <td> -3.1e+04</td> <td> 9267.212</td>\n",
       "</tr>\n",
       "<tr>\n",
       "  <th>C(cut)[T.PREMIUM]</th>   <td>-9951.7113</td> <td> 1.01e+04</td> <td>   -0.987</td> <td> 0.325</td> <td>-2.98e+04</td> <td> 9938.064</td>\n",
       "</tr>\n",
       "<tr>\n",
       "  <th>C(cut)[T.VERY GOOD]</th> <td> 3378.0235</td> <td> 9608.349</td> <td>    0.352</td> <td> 0.726</td> <td>-1.56e+04</td> <td> 2.23e+04</td>\n",
       "</tr>\n",
       "<tr>\n",
       "  <th>carat</th>               <td>-9864.2794</td> <td> 2.98e+04</td> <td>   -0.330</td> <td> 0.741</td> <td>-6.88e+04</td> <td>  4.9e+04</td>\n",
       "</tr>\n",
       "<tr>\n",
       "  <th>xdimension</th>          <td>  8.29e+04</td> <td> 4.34e+04</td> <td>    1.908</td> <td> 0.058</td> <td>-2838.610</td> <td> 1.69e+05</td>\n",
       "</tr>\n",
       "<tr>\n",
       "  <th>ydimension</th>          <td>-8.465e+04</td> <td> 2.76e+04</td> <td>   -3.068</td> <td> 0.002</td> <td>-1.39e+05</td> <td>-3.02e+04</td>\n",
       "</tr>\n",
       "<tr>\n",
       "  <th>zdimension</th>          <td>-5763.3694</td> <td>  2.9e+04</td> <td>   -0.199</td> <td> 0.843</td> <td>-6.29e+04</td> <td> 5.14e+04</td>\n",
       "</tr>\n",
       "<tr>\n",
       "  <th>depth</th>               <td> 1.697e+04</td> <td> 2.16e+04</td> <td>    0.786</td> <td> 0.433</td> <td>-2.56e+04</td> <td> 5.95e+04</td>\n",
       "</tr>\n",
       "<tr>\n",
       "  <th>table</th>               <td> 2.588e+04</td> <td> 1.46e+04</td> <td>    1.767</td> <td> 0.079</td> <td>-3021.522</td> <td> 5.48e+04</td>\n",
       "</tr>\n",
       "</table>\n",
       "<table class=\"simpletable\">\n",
       "<tr>\n",
       "  <th>Omnibus:</th>       <td>237.336</td> <th>  Durbin-Watson:     </th> <td>   1.977</td>\n",
       "</tr>\n",
       "<tr>\n",
       "  <th>Prob(Omnibus):</th> <td> 0.000</td>  <th>  Jarque-Bera (JB):  </th> <td>7972.497</td>\n",
       "</tr>\n",
       "<tr>\n",
       "  <th>Skew:</th>          <td> 4.996</td>  <th>  Prob(JB):          </th> <td>    0.00</td>\n",
       "</tr>\n",
       "<tr>\n",
       "  <th>Kurtosis:</th>      <td>32.272</td>  <th>  Cond. No.          </th> <td>    37.1</td>\n",
       "</tr>\n",
       "</table><br/><br/>Notes:<br/>[1] Standard Errors assume that the covariance matrix of the errors is correctly specified."
      ],
      "text/latex": [
       "\\begin{center}\n",
       "\\begin{tabular}{lclc}\n",
       "\\toprule\n",
       "\\textbf{Dep. Variable:}      &      price       & \\textbf{  R-squared:         } &     0.177   \\\\\n",
       "\\textbf{Model:}              &       OLS        & \\textbf{  Adj. R-squared:    } &     0.074   \\\\\n",
       "\\textbf{Method:}             &  Least Squares   & \\textbf{  F-statistic:       } &     1.727   \\\\\n",
       "\\textbf{Date:}               & Sun, 04 Feb 2024 & \\textbf{  Prob (F-statistic):} &   0.0282    \\\\\n",
       "\\textbf{Time:}               &     00:28:48     & \\textbf{  Log-Likelihood:    } &   -2381.6   \\\\\n",
       "\\textbf{No. Observations:}   &         200      & \\textbf{  AIC:               } &     4809.   \\\\\n",
       "\\textbf{Df Residuals:}       &         177      & \\textbf{  BIC:               } &     4885.   \\\\\n",
       "\\textbf{Df Model:}           &          22      & \\textbf{                     } &             \\\\\n",
       "\\textbf{Covariance Type:}    &    nonrobust     & \\textbf{                     } &             \\\\\n",
       "\\bottomrule\n",
       "\\end{tabular}\n",
       "\\begin{tabular}{lcccccc}\n",
       "                             & \\textbf{coef} & \\textbf{std err} & \\textbf{t} & \\textbf{P$> |$t$|$} & \\textbf{[0.025} & \\textbf{0.975]}  \\\\\n",
       "\\midrule\n",
       "\\textbf{Intercept}           &     896.8654  &     2.15e+04     &     0.042  &         0.967        &    -4.15e+04    &     4.33e+04     \\\\\n",
       "\\textbf{C(clarity)[T.IF]}    &   -6575.4307  &     1.15e+04     &    -0.573  &         0.568        &    -2.92e+04    &     1.61e+04     \\\\\n",
       "\\textbf{C(clarity)[T.SI1]}   &   -1.691e+04  &     1.05e+04     &    -1.612  &         0.109        &    -3.76e+04    &     3796.523     \\\\\n",
       "\\textbf{C(clarity)[T.SI2]}   &   -1831.4370  &     9582.916     &    -0.191  &         0.849        &    -2.07e+04    &     1.71e+04     \\\\\n",
       "\\textbf{C(clarity)[T.VVS1]}  &   -9336.6332  &     1.06e+04     &    -0.880  &         0.380        &    -3.03e+04    &     1.16e+04     \\\\\n",
       "\\textbf{C(clarity)[T.VVS2]}  &   -2666.8265  &     1.02e+04     &    -0.261  &         0.795        &    -2.29e+04    &     1.75e+04     \\\\\n",
       "\\textbf{C(color)[T.D]}       &    3.364e+04  &     1.75e+04     &     1.927  &         0.056        &     -816.681    &     6.81e+04     \\\\\n",
       "\\textbf{C(color)[T.E]}       &    -327.2464  &     1.68e+04     &    -0.019  &         0.984        &    -3.35e+04    &     3.29e+04     \\\\\n",
       "\\textbf{C(color)[T.F]}       &    4970.6895  &     1.62e+04     &     0.307  &         0.759        &    -2.69e+04    &     3.69e+04     \\\\\n",
       "\\textbf{C(color)[T.G]}       &    1.359e+04  &     1.58e+04     &     0.862  &         0.390        &    -1.75e+04    &     4.47e+04     \\\\\n",
       "\\textbf{C(color)[T.H]}       &    1338.2037  &     1.65e+04     &     0.081  &         0.935        &    -3.12e+04    &     3.39e+04     \\\\\n",
       "\\textbf{C(color)[T.I]}       &    8580.0580  &     1.62e+04     &     0.530  &         0.597        &    -2.34e+04    &     4.05e+04     \\\\\n",
       "\\textbf{C(color)[T.J]}       &     252.9119  &     1.98e+04     &     0.013  &         0.990        &    -3.88e+04    &     3.93e+04     \\\\\n",
       "\\textbf{C(cut)[T.GOOD]}      &   -1.846e+04  &     9184.502     &    -2.010  &         0.046        &    -3.66e+04    &     -333.765     \\\\\n",
       "\\textbf{C(cut)[T.IDEAL]}     &   -1.085e+04  &     1.02e+04     &    -1.064  &         0.289        &     -3.1e+04    &     9267.212     \\\\\n",
       "\\textbf{C(cut)[T.PREMIUM]}   &   -9951.7113  &     1.01e+04     &    -0.987  &         0.325        &    -2.98e+04    &     9938.064     \\\\\n",
       "\\textbf{C(cut)[T.VERY GOOD]} &    3378.0235  &     9608.349     &     0.352  &         0.726        &    -1.56e+04    &     2.23e+04     \\\\\n",
       "\\textbf{carat}               &   -9864.2794  &     2.98e+04     &    -0.330  &         0.741        &    -6.88e+04    &      4.9e+04     \\\\\n",
       "\\textbf{xdimension}          &     8.29e+04  &     4.34e+04     &     1.908  &         0.058        &    -2838.610    &     1.69e+05     \\\\\n",
       "\\textbf{ydimension}          &   -8.465e+04  &     2.76e+04     &    -3.068  &         0.002        &    -1.39e+05    &    -3.02e+04     \\\\\n",
       "\\textbf{zdimension}          &   -5763.3694  &      2.9e+04     &    -0.199  &         0.843        &    -6.29e+04    &     5.14e+04     \\\\\n",
       "\\textbf{depth}               &    1.697e+04  &     2.16e+04     &     0.786  &         0.433        &    -2.56e+04    &     5.95e+04     \\\\\n",
       "\\textbf{table}               &    2.588e+04  &     1.46e+04     &     1.767  &         0.079        &    -3021.522    &     5.48e+04     \\\\\n",
       "\\bottomrule\n",
       "\\end{tabular}\n",
       "\\begin{tabular}{lclc}\n",
       "\\textbf{Omnibus:}       & 237.336 & \\textbf{  Durbin-Watson:     } &    1.977  \\\\\n",
       "\\textbf{Prob(Omnibus):} &   0.000 & \\textbf{  Jarque-Bera (JB):  } & 7972.497  \\\\\n",
       "\\textbf{Skew:}          &   4.996 & \\textbf{  Prob(JB):          } &     0.00  \\\\\n",
       "\\textbf{Kurtosis:}      &  32.272 & \\textbf{  Cond. No.          } &     37.1  \\\\\n",
       "\\bottomrule\n",
       "\\end{tabular}\n",
       "%\\caption{OLS Regression Results}\n",
       "\\end{center}\n",
       "\n",
       "Notes: \\newline\n",
       " [1] Standard Errors assume that the covariance matrix of the errors is correctly specified."
      ],
      "text/plain": [
       "<class 'statsmodels.iolib.summary.Summary'>\n",
       "\"\"\"\n",
       "                            OLS Regression Results                            \n",
       "==============================================================================\n",
       "Dep. Variable:                  price   R-squared:                       0.177\n",
       "Model:                            OLS   Adj. R-squared:                  0.074\n",
       "Method:                 Least Squares   F-statistic:                     1.727\n",
       "Date:                Sun, 04 Feb 2024   Prob (F-statistic):             0.0282\n",
       "Time:                        00:28:48   Log-Likelihood:                -2381.6\n",
       "No. Observations:                 200   AIC:                             4809.\n",
       "Df Residuals:                     177   BIC:                             4885.\n",
       "Df Model:                          22                                         \n",
       "Covariance Type:            nonrobust                                         \n",
       "=======================================================================================\n",
       "                          coef    std err          t      P>|t|      [0.025      0.975]\n",
       "---------------------------------------------------------------------------------------\n",
       "Intercept             896.8654   2.15e+04      0.042      0.967   -4.15e+04    4.33e+04\n",
       "C(clarity)[T.IF]    -6575.4307   1.15e+04     -0.573      0.568   -2.92e+04    1.61e+04\n",
       "C(clarity)[T.SI1]   -1.691e+04   1.05e+04     -1.612      0.109   -3.76e+04    3796.523\n",
       "C(clarity)[T.SI2]   -1831.4370   9582.916     -0.191      0.849   -2.07e+04    1.71e+04\n",
       "C(clarity)[T.VVS1]  -9336.6332   1.06e+04     -0.880      0.380   -3.03e+04    1.16e+04\n",
       "C(clarity)[T.VVS2]  -2666.8265   1.02e+04     -0.261      0.795   -2.29e+04    1.75e+04\n",
       "C(color)[T.D]        3.364e+04   1.75e+04      1.927      0.056    -816.681    6.81e+04\n",
       "C(color)[T.E]        -327.2464   1.68e+04     -0.019      0.984   -3.35e+04    3.29e+04\n",
       "C(color)[T.F]        4970.6895   1.62e+04      0.307      0.759   -2.69e+04    3.69e+04\n",
       "C(color)[T.G]        1.359e+04   1.58e+04      0.862      0.390   -1.75e+04    4.47e+04\n",
       "C(color)[T.H]        1338.2037   1.65e+04      0.081      0.935   -3.12e+04    3.39e+04\n",
       "C(color)[T.I]        8580.0580   1.62e+04      0.530      0.597   -2.34e+04    4.05e+04\n",
       "C(color)[T.J]         252.9119   1.98e+04      0.013      0.990   -3.88e+04    3.93e+04\n",
       "C(cut)[T.GOOD]      -1.846e+04   9184.502     -2.010      0.046   -3.66e+04    -333.765\n",
       "C(cut)[T.IDEAL]     -1.085e+04   1.02e+04     -1.064      0.289    -3.1e+04    9267.212\n",
       "C(cut)[T.PREMIUM]   -9951.7113   1.01e+04     -0.987      0.325   -2.98e+04    9938.064\n",
       "C(cut)[T.VERY GOOD]  3378.0235   9608.349      0.352      0.726   -1.56e+04    2.23e+04\n",
       "carat               -9864.2794   2.98e+04     -0.330      0.741   -6.88e+04     4.9e+04\n",
       "xdimension            8.29e+04   4.34e+04      1.908      0.058   -2838.610    1.69e+05\n",
       "ydimension          -8.465e+04   2.76e+04     -3.068      0.002   -1.39e+05   -3.02e+04\n",
       "zdimension          -5763.3694    2.9e+04     -0.199      0.843   -6.29e+04    5.14e+04\n",
       "depth                1.697e+04   2.16e+04      0.786      0.433   -2.56e+04    5.95e+04\n",
       "table                2.588e+04   1.46e+04      1.767      0.079   -3021.522    5.48e+04\n",
       "==============================================================================\n",
       "Omnibus:                      237.336   Durbin-Watson:                   1.977\n",
       "Prob(Omnibus):                  0.000   Jarque-Bera (JB):             7972.497\n",
       "Skew:                           4.996   Prob(JB):                         0.00\n",
       "Kurtosis:                      32.272   Cond. No.                         37.1\n",
       "==============================================================================\n",
       "\n",
       "Notes:\n",
       "[1] Standard Errors assume that the covariance matrix of the errors is correctly specified.\n",
       "\"\"\""
      ]
     },
     "metadata": {},
     "output_type": "display_data"
    }
   ],
   "source": [
    "display(model.summary())"
   ]
  },
  {
   "cell_type": "code",
   "execution_count": 375,
   "metadata": {},
   "outputs": [
    {
     "name": "stdout",
     "output_type": "stream",
     "text": [
      "Model P Values: [0.966729   0.56770152 0.10881739 0.8486547  0.37988474 0.79477683\n",
      " 0.05562121 0.98449352 0.75885974 0.39002661 0.93547615 0.596888\n",
      " 0.98982171 0.04597147 0.28859211 0.32479167 0.72557767 0.74143086\n",
      " 0.05799452 0.00249771 0.84253939 0.4326365  0.07892656]\n",
      "Model Coef: [   896.86539568  -6575.43067383 -16912.04328655  -1831.43695671\n",
      "  -9336.63318805  -2666.82650913  33638.45048851   -327.24642635\n",
      "   4970.68946517  13590.69024123   1338.20368715   8580.05803878\n",
      "    252.91186789 -18458.98665802 -10851.08558102  -9951.71129034\n",
      "   3378.02353329  -9864.27941314  82898.0237829  -84646.37917569\n",
      "  -5763.36941178  16969.0089416   25881.10411933]\n",
      "Model Std Errs: [21471.43692143 11485.22378773 10493.54696105  9582.91573818\n",
      " 10606.0664744  10237.12873341 17459.27466561 16813.59916916\n",
      " 16167.29387782 15772.22105976 16506.32544735 16193.728019\n",
      " 19797.44706059  9184.50177858 10194.44317256 10078.64538921\n",
      "  9608.34898678 29848.66351013 43444.89124871 27594.50663\n",
      " 28970.64581999 21575.82182922 14645.68159376]\n"
     ]
    }
   ],
   "source": [
    "print(\"Model P Values:\", model.pvalues.values)\n",
    "print(\"Model Coef:\", model.params.values)\n",
    "print(\"Model Std Errs:\", model.bse.values)"
   ]
  },
  {
   "cell_type": "code",
   "execution_count": 376,
   "metadata": {},
   "outputs": [
    {
     "ename": "ValueError",
     "evalue": "Mime type rendering requires nbformat>=4.2.0 but it is not installed",
     "output_type": "error",
     "traceback": [
      "\u001b[0;31m---------------------------------------------------------------------------\u001b[0m",
      "\u001b[0;31mValueError\u001b[0m                                Traceback (most recent call last)",
      "File \u001b[0;32m~/school/s18410_PAD_project/.conda/lib/python3.11/site-packages/IPython/core/formatters.py:922\u001b[0m, in \u001b[0;36mIPythonDisplayFormatter.__call__\u001b[0;34m(self, obj)\u001b[0m\n\u001b[1;32m    920\u001b[0m method \u001b[38;5;241m=\u001b[39m get_real_method(obj, \u001b[38;5;28mself\u001b[39m\u001b[38;5;241m.\u001b[39mprint_method)\n\u001b[1;32m    921\u001b[0m \u001b[38;5;28;01mif\u001b[39;00m method \u001b[38;5;129;01mis\u001b[39;00m \u001b[38;5;129;01mnot\u001b[39;00m \u001b[38;5;28;01mNone\u001b[39;00m:\n\u001b[0;32m--> 922\u001b[0m     \u001b[43mmethod\u001b[49m\u001b[43m(\u001b[49m\u001b[43m)\u001b[49m\n\u001b[1;32m    923\u001b[0m     \u001b[38;5;28;01mreturn\u001b[39;00m \u001b[38;5;28;01mTrue\u001b[39;00m\n",
      "File \u001b[0;32m~/school/s18410_PAD_project/.conda/lib/python3.11/site-packages/plotly/basedatatypes.py:832\u001b[0m, in \u001b[0;36mBaseFigure._ipython_display_\u001b[0;34m(self)\u001b[0m\n\u001b[1;32m    829\u001b[0m \u001b[38;5;28;01mimport\u001b[39;00m \u001b[38;5;21;01mplotly\u001b[39;00m\u001b[38;5;21;01m.\u001b[39;00m\u001b[38;5;21;01mio\u001b[39;00m \u001b[38;5;28;01mas\u001b[39;00m \u001b[38;5;21;01mpio\u001b[39;00m\n\u001b[1;32m    831\u001b[0m \u001b[38;5;28;01mif\u001b[39;00m pio\u001b[38;5;241m.\u001b[39mrenderers\u001b[38;5;241m.\u001b[39mrender_on_display \u001b[38;5;129;01mand\u001b[39;00m pio\u001b[38;5;241m.\u001b[39mrenderers\u001b[38;5;241m.\u001b[39mdefault:\n\u001b[0;32m--> 832\u001b[0m     \u001b[43mpio\u001b[49m\u001b[38;5;241;43m.\u001b[39;49m\u001b[43mshow\u001b[49m\u001b[43m(\u001b[49m\u001b[38;5;28;43mself\u001b[39;49m\u001b[43m)\u001b[49m\n\u001b[1;32m    833\u001b[0m \u001b[38;5;28;01melse\u001b[39;00m:\n\u001b[1;32m    834\u001b[0m     \u001b[38;5;28mprint\u001b[39m(\u001b[38;5;28mrepr\u001b[39m(\u001b[38;5;28mself\u001b[39m))\n",
      "File \u001b[0;32m~/school/s18410_PAD_project/.conda/lib/python3.11/site-packages/plotly/io/_renderers.py:394\u001b[0m, in \u001b[0;36mshow\u001b[0;34m(fig, renderer, validate, **kwargs)\u001b[0m\n\u001b[1;32m    389\u001b[0m         \u001b[38;5;28;01mraise\u001b[39;00m \u001b[38;5;167;01mValueError\u001b[39;00m(\n\u001b[1;32m    390\u001b[0m             \u001b[38;5;124m\"\u001b[39m\u001b[38;5;124mMime type rendering requires ipython but it is not installed\u001b[39m\u001b[38;5;124m\"\u001b[39m\n\u001b[1;32m    391\u001b[0m         )\n\u001b[1;32m    393\u001b[0m     \u001b[38;5;28;01mif\u001b[39;00m \u001b[38;5;129;01mnot\u001b[39;00m nbformat \u001b[38;5;129;01mor\u001b[39;00m Version(nbformat\u001b[38;5;241m.\u001b[39m__version__) \u001b[38;5;241m<\u001b[39m Version(\u001b[38;5;124m\"\u001b[39m\u001b[38;5;124m4.2.0\u001b[39m\u001b[38;5;124m\"\u001b[39m):\n\u001b[0;32m--> 394\u001b[0m         \u001b[38;5;28;01mraise\u001b[39;00m \u001b[38;5;167;01mValueError\u001b[39;00m(\n\u001b[1;32m    395\u001b[0m             \u001b[38;5;124m\"\u001b[39m\u001b[38;5;124mMime type rendering requires nbformat>=4.2.0 but it is not installed\u001b[39m\u001b[38;5;124m\"\u001b[39m\n\u001b[1;32m    396\u001b[0m         )\n\u001b[1;32m    398\u001b[0m     ipython_display\u001b[38;5;241m.\u001b[39mdisplay(bundle, raw\u001b[38;5;241m=\u001b[39m\u001b[38;5;28;01mTrue\u001b[39;00m)\n\u001b[1;32m    400\u001b[0m \u001b[38;5;66;03m# external renderers\u001b[39;00m\n",
      "\u001b[0;31mValueError\u001b[0m: Mime type rendering requires nbformat>=4.2.0 but it is not installed"
     ]
    },
    {
     "data": {
      "application/vnd.plotly.v1+json": {
       "config": {
        "plotlyServerURL": "https://plot.ly"
       },
       "data": [
        {
         "coloraxis": "coloraxis",
         "hovertemplate": "x: %{x}<br>y: %{y}<br>color: %{z}<extra></extra>",
         "name": "0",
         "texttemplate": "%{z}",
         "type": "heatmap",
         "x": [
          "carat",
          "x dimension",
          "y dimension",
          "z dimension",
          "depth",
          "table",
          "price"
         ],
         "xaxis": "x",
         "y": [
          "carat",
          "x dimension",
          "y dimension",
          "z dimension",
          "depth",
          "table",
          "price"
         ],
         "yaxis": "y",
         "z": [
          [
           1,
           0.8695134159374972,
           0.6616370738632253,
           0.7392899732708867,
           0.3544418776529555,
           0.21953077742341984,
           0.14921534460900177
          ],
          [
           0.8695134159374972,
           1,
           0.8115996638858626,
           0.8331948790179232,
           0.3898526825944856,
           0.24487820258577014,
           0.17236333884434496
          ],
          [
           0.6616370738632253,
           0.8115996638858626,
           1,
           0.5698855046436002,
           0.2940081570797776,
           0.16333153935961586,
           0.03552236035000421
          ],
          [
           0.7392899732708867,
           0.8331948790179232,
           0.5698855046436002,
           1,
           0.35405702490244,
           0.17681654771630828,
           0.159161577179291
          ],
          [
           0.3544418776529555,
           0.3898526825944856,
           0.2940081570797776,
           0.35405702490244,
           1,
           0.028578351351541683,
           0.05720811271078592
          ],
          [
           0.21953077742341984,
           0.24487820258577014,
           0.16333153935961586,
           0.17681654771630828,
           0.028578351351541683,
           1,
           0.1583779242643314
          ],
          [
           0.14921534460900177,
           0.17236333884434496,
           0.03552236035000421,
           0.159161577179291,
           0.05720811271078592,
           0.1583779242643314,
           1
          ]
         ]
        }
       ],
       "layout": {
        "coloraxis": {
         "colorscale": [
          [
           0,
           "rgb(75, 41, 145)"
          ],
          [
           0.16666666666666666,
           "rgb(135, 44, 162)"
          ],
          [
           0.3333333333333333,
           "rgb(192, 54, 157)"
          ],
          [
           0.5,
           "rgb(234, 79, 136)"
          ],
          [
           0.6666666666666666,
           "rgb(250, 120, 118)"
          ],
          [
           0.8333333333333334,
           "rgb(246, 169, 122)"
          ],
          [
           1,
           "rgb(237, 217, 163)"
          ]
         ]
        },
        "template": {
         "data": {
          "bar": [
           {
            "error_x": {
             "color": "#2a3f5f"
            },
            "error_y": {
             "color": "#2a3f5f"
            },
            "marker": {
             "line": {
              "color": "#E5ECF6",
              "width": 0.5
             },
             "pattern": {
              "fillmode": "overlay",
              "size": 10,
              "solidity": 0.2
             }
            },
            "type": "bar"
           }
          ],
          "barpolar": [
           {
            "marker": {
             "line": {
              "color": "#E5ECF6",
              "width": 0.5
             },
             "pattern": {
              "fillmode": "overlay",
              "size": 10,
              "solidity": 0.2
             }
            },
            "type": "barpolar"
           }
          ],
          "carpet": [
           {
            "aaxis": {
             "endlinecolor": "#2a3f5f",
             "gridcolor": "white",
             "linecolor": "white",
             "minorgridcolor": "white",
             "startlinecolor": "#2a3f5f"
            },
            "baxis": {
             "endlinecolor": "#2a3f5f",
             "gridcolor": "white",
             "linecolor": "white",
             "minorgridcolor": "white",
             "startlinecolor": "#2a3f5f"
            },
            "type": "carpet"
           }
          ],
          "choropleth": [
           {
            "colorbar": {
             "outlinewidth": 0,
             "ticks": ""
            },
            "type": "choropleth"
           }
          ],
          "contour": [
           {
            "colorbar": {
             "outlinewidth": 0,
             "ticks": ""
            },
            "colorscale": [
             [
              0,
              "#0d0887"
             ],
             [
              0.1111111111111111,
              "#46039f"
             ],
             [
              0.2222222222222222,
              "#7201a8"
             ],
             [
              0.3333333333333333,
              "#9c179e"
             ],
             [
              0.4444444444444444,
              "#bd3786"
             ],
             [
              0.5555555555555556,
              "#d8576b"
             ],
             [
              0.6666666666666666,
              "#ed7953"
             ],
             [
              0.7777777777777778,
              "#fb9f3a"
             ],
             [
              0.8888888888888888,
              "#fdca26"
             ],
             [
              1,
              "#f0f921"
             ]
            ],
            "type": "contour"
           }
          ],
          "contourcarpet": [
           {
            "colorbar": {
             "outlinewidth": 0,
             "ticks": ""
            },
            "type": "contourcarpet"
           }
          ],
          "heatmap": [
           {
            "colorbar": {
             "outlinewidth": 0,
             "ticks": ""
            },
            "colorscale": [
             [
              0,
              "#0d0887"
             ],
             [
              0.1111111111111111,
              "#46039f"
             ],
             [
              0.2222222222222222,
              "#7201a8"
             ],
             [
              0.3333333333333333,
              "#9c179e"
             ],
             [
              0.4444444444444444,
              "#bd3786"
             ],
             [
              0.5555555555555556,
              "#d8576b"
             ],
             [
              0.6666666666666666,
              "#ed7953"
             ],
             [
              0.7777777777777778,
              "#fb9f3a"
             ],
             [
              0.8888888888888888,
              "#fdca26"
             ],
             [
              1,
              "#f0f921"
             ]
            ],
            "type": "heatmap"
           }
          ],
          "heatmapgl": [
           {
            "colorbar": {
             "outlinewidth": 0,
             "ticks": ""
            },
            "colorscale": [
             [
              0,
              "#0d0887"
             ],
             [
              0.1111111111111111,
              "#46039f"
             ],
             [
              0.2222222222222222,
              "#7201a8"
             ],
             [
              0.3333333333333333,
              "#9c179e"
             ],
             [
              0.4444444444444444,
              "#bd3786"
             ],
             [
              0.5555555555555556,
              "#d8576b"
             ],
             [
              0.6666666666666666,
              "#ed7953"
             ],
             [
              0.7777777777777778,
              "#fb9f3a"
             ],
             [
              0.8888888888888888,
              "#fdca26"
             ],
             [
              1,
              "#f0f921"
             ]
            ],
            "type": "heatmapgl"
           }
          ],
          "histogram": [
           {
            "marker": {
             "pattern": {
              "fillmode": "overlay",
              "size": 10,
              "solidity": 0.2
             }
            },
            "type": "histogram"
           }
          ],
          "histogram2d": [
           {
            "colorbar": {
             "outlinewidth": 0,
             "ticks": ""
            },
            "colorscale": [
             [
              0,
              "#0d0887"
             ],
             [
              0.1111111111111111,
              "#46039f"
             ],
             [
              0.2222222222222222,
              "#7201a8"
             ],
             [
              0.3333333333333333,
              "#9c179e"
             ],
             [
              0.4444444444444444,
              "#bd3786"
             ],
             [
              0.5555555555555556,
              "#d8576b"
             ],
             [
              0.6666666666666666,
              "#ed7953"
             ],
             [
              0.7777777777777778,
              "#fb9f3a"
             ],
             [
              0.8888888888888888,
              "#fdca26"
             ],
             [
              1,
              "#f0f921"
             ]
            ],
            "type": "histogram2d"
           }
          ],
          "histogram2dcontour": [
           {
            "colorbar": {
             "outlinewidth": 0,
             "ticks": ""
            },
            "colorscale": [
             [
              0,
              "#0d0887"
             ],
             [
              0.1111111111111111,
              "#46039f"
             ],
             [
              0.2222222222222222,
              "#7201a8"
             ],
             [
              0.3333333333333333,
              "#9c179e"
             ],
             [
              0.4444444444444444,
              "#bd3786"
             ],
             [
              0.5555555555555556,
              "#d8576b"
             ],
             [
              0.6666666666666666,
              "#ed7953"
             ],
             [
              0.7777777777777778,
              "#fb9f3a"
             ],
             [
              0.8888888888888888,
              "#fdca26"
             ],
             [
              1,
              "#f0f921"
             ]
            ],
            "type": "histogram2dcontour"
           }
          ],
          "mesh3d": [
           {
            "colorbar": {
             "outlinewidth": 0,
             "ticks": ""
            },
            "type": "mesh3d"
           }
          ],
          "parcoords": [
           {
            "line": {
             "colorbar": {
              "outlinewidth": 0,
              "ticks": ""
             }
            },
            "type": "parcoords"
           }
          ],
          "pie": [
           {
            "automargin": true,
            "type": "pie"
           }
          ],
          "scatter": [
           {
            "fillpattern": {
             "fillmode": "overlay",
             "size": 10,
             "solidity": 0.2
            },
            "type": "scatter"
           }
          ],
          "scatter3d": [
           {
            "line": {
             "colorbar": {
              "outlinewidth": 0,
              "ticks": ""
             }
            },
            "marker": {
             "colorbar": {
              "outlinewidth": 0,
              "ticks": ""
             }
            },
            "type": "scatter3d"
           }
          ],
          "scattercarpet": [
           {
            "marker": {
             "colorbar": {
              "outlinewidth": 0,
              "ticks": ""
             }
            },
            "type": "scattercarpet"
           }
          ],
          "scattergeo": [
           {
            "marker": {
             "colorbar": {
              "outlinewidth": 0,
              "ticks": ""
             }
            },
            "type": "scattergeo"
           }
          ],
          "scattergl": [
           {
            "marker": {
             "colorbar": {
              "outlinewidth": 0,
              "ticks": ""
             }
            },
            "type": "scattergl"
           }
          ],
          "scattermapbox": [
           {
            "marker": {
             "colorbar": {
              "outlinewidth": 0,
              "ticks": ""
             }
            },
            "type": "scattermapbox"
           }
          ],
          "scatterpolar": [
           {
            "marker": {
             "colorbar": {
              "outlinewidth": 0,
              "ticks": ""
             }
            },
            "type": "scatterpolar"
           }
          ],
          "scatterpolargl": [
           {
            "marker": {
             "colorbar": {
              "outlinewidth": 0,
              "ticks": ""
             }
            },
            "type": "scatterpolargl"
           }
          ],
          "scatterternary": [
           {
            "marker": {
             "colorbar": {
              "outlinewidth": 0,
              "ticks": ""
             }
            },
            "type": "scatterternary"
           }
          ],
          "surface": [
           {
            "colorbar": {
             "outlinewidth": 0,
             "ticks": ""
            },
            "colorscale": [
             [
              0,
              "#0d0887"
             ],
             [
              0.1111111111111111,
              "#46039f"
             ],
             [
              0.2222222222222222,
              "#7201a8"
             ],
             [
              0.3333333333333333,
              "#9c179e"
             ],
             [
              0.4444444444444444,
              "#bd3786"
             ],
             [
              0.5555555555555556,
              "#d8576b"
             ],
             [
              0.6666666666666666,
              "#ed7953"
             ],
             [
              0.7777777777777778,
              "#fb9f3a"
             ],
             [
              0.8888888888888888,
              "#fdca26"
             ],
             [
              1,
              "#f0f921"
             ]
            ],
            "type": "surface"
           }
          ],
          "table": [
           {
            "cells": {
             "fill": {
              "color": "#EBF0F8"
             },
             "line": {
              "color": "white"
             }
            },
            "header": {
             "fill": {
              "color": "#C8D4E3"
             },
             "line": {
              "color": "white"
             }
            },
            "type": "table"
           }
          ]
         },
         "layout": {
          "annotationdefaults": {
           "arrowcolor": "#2a3f5f",
           "arrowhead": 0,
           "arrowwidth": 1
          },
          "autotypenumbers": "strict",
          "coloraxis": {
           "colorbar": {
            "outlinewidth": 0,
            "ticks": ""
           }
          },
          "colorscale": {
           "diverging": [
            [
             0,
             "#8e0152"
            ],
            [
             0.1,
             "#c51b7d"
            ],
            [
             0.2,
             "#de77ae"
            ],
            [
             0.3,
             "#f1b6da"
            ],
            [
             0.4,
             "#fde0ef"
            ],
            [
             0.5,
             "#f7f7f7"
            ],
            [
             0.6,
             "#e6f5d0"
            ],
            [
             0.7,
             "#b8e186"
            ],
            [
             0.8,
             "#7fbc41"
            ],
            [
             0.9,
             "#4d9221"
            ],
            [
             1,
             "#276419"
            ]
           ],
           "sequential": [
            [
             0,
             "#0d0887"
            ],
            [
             0.1111111111111111,
             "#46039f"
            ],
            [
             0.2222222222222222,
             "#7201a8"
            ],
            [
             0.3333333333333333,
             "#9c179e"
            ],
            [
             0.4444444444444444,
             "#bd3786"
            ],
            [
             0.5555555555555556,
             "#d8576b"
            ],
            [
             0.6666666666666666,
             "#ed7953"
            ],
            [
             0.7777777777777778,
             "#fb9f3a"
            ],
            [
             0.8888888888888888,
             "#fdca26"
            ],
            [
             1,
             "#f0f921"
            ]
           ],
           "sequentialminus": [
            [
             0,
             "#0d0887"
            ],
            [
             0.1111111111111111,
             "#46039f"
            ],
            [
             0.2222222222222222,
             "#7201a8"
            ],
            [
             0.3333333333333333,
             "#9c179e"
            ],
            [
             0.4444444444444444,
             "#bd3786"
            ],
            [
             0.5555555555555556,
             "#d8576b"
            ],
            [
             0.6666666666666666,
             "#ed7953"
            ],
            [
             0.7777777777777778,
             "#fb9f3a"
            ],
            [
             0.8888888888888888,
             "#fdca26"
            ],
            [
             1,
             "#f0f921"
            ]
           ]
          },
          "colorway": [
           "#636efa",
           "#EF553B",
           "#00cc96",
           "#ab63fa",
           "#FFA15A",
           "#19d3f3",
           "#FF6692",
           "#B6E880",
           "#FF97FF",
           "#FECB52"
          ],
          "font": {
           "color": "#2a3f5f"
          },
          "geo": {
           "bgcolor": "white",
           "lakecolor": "white",
           "landcolor": "#E5ECF6",
           "showlakes": true,
           "showland": true,
           "subunitcolor": "white"
          },
          "hoverlabel": {
           "align": "left"
          },
          "hovermode": "closest",
          "mapbox": {
           "style": "light"
          },
          "paper_bgcolor": "white",
          "plot_bgcolor": "#E5ECF6",
          "polar": {
           "angularaxis": {
            "gridcolor": "white",
            "linecolor": "white",
            "ticks": ""
           },
           "bgcolor": "#E5ECF6",
           "radialaxis": {
            "gridcolor": "white",
            "linecolor": "white",
            "ticks": ""
           }
          },
          "scene": {
           "xaxis": {
            "backgroundcolor": "#E5ECF6",
            "gridcolor": "white",
            "gridwidth": 2,
            "linecolor": "white",
            "showbackground": true,
            "ticks": "",
            "zerolinecolor": "white"
           },
           "yaxis": {
            "backgroundcolor": "#E5ECF6",
            "gridcolor": "white",
            "gridwidth": 2,
            "linecolor": "white",
            "showbackground": true,
            "ticks": "",
            "zerolinecolor": "white"
           },
           "zaxis": {
            "backgroundcolor": "#E5ECF6",
            "gridcolor": "white",
            "gridwidth": 2,
            "linecolor": "white",
            "showbackground": true,
            "ticks": "",
            "zerolinecolor": "white"
           }
          },
          "shapedefaults": {
           "line": {
            "color": "#2a3f5f"
           }
          },
          "ternary": {
           "aaxis": {
            "gridcolor": "white",
            "linecolor": "white",
            "ticks": ""
           },
           "baxis": {
            "gridcolor": "white",
            "linecolor": "white",
            "ticks": ""
           },
           "bgcolor": "#E5ECF6",
           "caxis": {
            "gridcolor": "white",
            "linecolor": "white",
            "ticks": ""
           }
          },
          "title": {
           "x": 0.05
          },
          "xaxis": {
           "automargin": true,
           "gridcolor": "white",
           "linecolor": "white",
           "ticks": "",
           "title": {
            "standoff": 15
           },
           "zerolinecolor": "white",
           "zerolinewidth": 2
          },
          "yaxis": {
           "automargin": true,
           "gridcolor": "white",
           "linecolor": "white",
           "ticks": "",
           "title": {
            "standoff": 15
           },
           "zerolinecolor": "white",
           "zerolinewidth": 2
          }
         }
        },
        "title": {
         "text": "Correlation heatmap for price and variables"
        },
        "xaxis": {
         "anchor": "y",
         "constrain": "domain",
         "domain": [
          0,
          1
         ],
         "scaleanchor": "y"
        },
        "yaxis": {
         "anchor": "x",
         "autorange": "reversed",
         "constrain": "domain",
         "domain": [
          0,
          1
         ]
        }
       }
      },
      "text/html": [
       "<div>                        <script type=\"text/javascript\">window.PlotlyConfig = {MathJaxConfig: 'local'};</script>\n",
       "        <script charset=\"utf-8\" src=\"https://cdn.plot.ly/plotly-2.27.0.min.js\"></script>                <div id=\"f8a46673-7e91-4cf5-83d1-faf76f855b14\" class=\"plotly-graph-div\" style=\"height:100%; width:100%;\"></div>            <script type=\"text/javascript\">                                    window.PLOTLYENV=window.PLOTLYENV || {};                                    if (document.getElementById(\"f8a46673-7e91-4cf5-83d1-faf76f855b14\")) {                    Plotly.newPlot(                        \"f8a46673-7e91-4cf5-83d1-faf76f855b14\",                        [{\"coloraxis\":\"coloraxis\",\"name\":\"0\",\"texttemplate\":\"%{z}\",\"x\":[\"carat\",\"x dimension\",\"y dimension\",\"z dimension\",\"depth\",\"table\",\"price\"],\"y\":[\"carat\",\"x dimension\",\"y dimension\",\"z dimension\",\"depth\",\"table\",\"price\"],\"z\":[[1.0,0.8695134159374972,0.6616370738632253,0.7392899732708867,0.3544418776529555,0.21953077742341984,0.14921534460900177],[0.8695134159374972,1.0,0.8115996638858626,0.8331948790179232,0.3898526825944856,0.24487820258577014,0.17236333884434496],[0.6616370738632253,0.8115996638858626,1.0,0.5698855046436002,0.2940081570797776,0.16333153935961586,0.03552236035000421],[0.7392899732708867,0.8331948790179232,0.5698855046436002,1.0,0.35405702490244,0.17681654771630828,0.159161577179291],[0.3544418776529555,0.3898526825944856,0.2940081570797776,0.35405702490244,1.0,0.028578351351541683,0.05720811271078592],[0.21953077742341984,0.24487820258577014,0.16333153935961586,0.17681654771630828,0.028578351351541683,1.0,0.1583779242643314],[0.14921534460900177,0.17236333884434496,0.03552236035000421,0.159161577179291,0.05720811271078592,0.1583779242643314,1.0]],\"type\":\"heatmap\",\"xaxis\":\"x\",\"yaxis\":\"y\",\"hovertemplate\":\"x: %{x}\\u003cbr\\u003ey: %{y}\\u003cbr\\u003ecolor: %{z}\\u003cextra\\u003e\\u003c\\u002fextra\\u003e\"}],                        {\"template\":{\"data\":{\"histogram2dcontour\":[{\"type\":\"histogram2dcontour\",\"colorbar\":{\"outlinewidth\":0,\"ticks\":\"\"},\"colorscale\":[[0.0,\"#0d0887\"],[0.1111111111111111,\"#46039f\"],[0.2222222222222222,\"#7201a8\"],[0.3333333333333333,\"#9c179e\"],[0.4444444444444444,\"#bd3786\"],[0.5555555555555556,\"#d8576b\"],[0.6666666666666666,\"#ed7953\"],[0.7777777777777778,\"#fb9f3a\"],[0.8888888888888888,\"#fdca26\"],[1.0,\"#f0f921\"]]}],\"choropleth\":[{\"type\":\"choropleth\",\"colorbar\":{\"outlinewidth\":0,\"ticks\":\"\"}}],\"histogram2d\":[{\"type\":\"histogram2d\",\"colorbar\":{\"outlinewidth\":0,\"ticks\":\"\"},\"colorscale\":[[0.0,\"#0d0887\"],[0.1111111111111111,\"#46039f\"],[0.2222222222222222,\"#7201a8\"],[0.3333333333333333,\"#9c179e\"],[0.4444444444444444,\"#bd3786\"],[0.5555555555555556,\"#d8576b\"],[0.6666666666666666,\"#ed7953\"],[0.7777777777777778,\"#fb9f3a\"],[0.8888888888888888,\"#fdca26\"],[1.0,\"#f0f921\"]]}],\"heatmap\":[{\"type\":\"heatmap\",\"colorbar\":{\"outlinewidth\":0,\"ticks\":\"\"},\"colorscale\":[[0.0,\"#0d0887\"],[0.1111111111111111,\"#46039f\"],[0.2222222222222222,\"#7201a8\"],[0.3333333333333333,\"#9c179e\"],[0.4444444444444444,\"#bd3786\"],[0.5555555555555556,\"#d8576b\"],[0.6666666666666666,\"#ed7953\"],[0.7777777777777778,\"#fb9f3a\"],[0.8888888888888888,\"#fdca26\"],[1.0,\"#f0f921\"]]}],\"heatmapgl\":[{\"type\":\"heatmapgl\",\"colorbar\":{\"outlinewidth\":0,\"ticks\":\"\"},\"colorscale\":[[0.0,\"#0d0887\"],[0.1111111111111111,\"#46039f\"],[0.2222222222222222,\"#7201a8\"],[0.3333333333333333,\"#9c179e\"],[0.4444444444444444,\"#bd3786\"],[0.5555555555555556,\"#d8576b\"],[0.6666666666666666,\"#ed7953\"],[0.7777777777777778,\"#fb9f3a\"],[0.8888888888888888,\"#fdca26\"],[1.0,\"#f0f921\"]]}],\"contourcarpet\":[{\"type\":\"contourcarpet\",\"colorbar\":{\"outlinewidth\":0,\"ticks\":\"\"}}],\"contour\":[{\"type\":\"contour\",\"colorbar\":{\"outlinewidth\":0,\"ticks\":\"\"},\"colorscale\":[[0.0,\"#0d0887\"],[0.1111111111111111,\"#46039f\"],[0.2222222222222222,\"#7201a8\"],[0.3333333333333333,\"#9c179e\"],[0.4444444444444444,\"#bd3786\"],[0.5555555555555556,\"#d8576b\"],[0.6666666666666666,\"#ed7953\"],[0.7777777777777778,\"#fb9f3a\"],[0.8888888888888888,\"#fdca26\"],[1.0,\"#f0f921\"]]}],\"surface\":[{\"type\":\"surface\",\"colorbar\":{\"outlinewidth\":0,\"ticks\":\"\"},\"colorscale\":[[0.0,\"#0d0887\"],[0.1111111111111111,\"#46039f\"],[0.2222222222222222,\"#7201a8\"],[0.3333333333333333,\"#9c179e\"],[0.4444444444444444,\"#bd3786\"],[0.5555555555555556,\"#d8576b\"],[0.6666666666666666,\"#ed7953\"],[0.7777777777777778,\"#fb9f3a\"],[0.8888888888888888,\"#fdca26\"],[1.0,\"#f0f921\"]]}],\"mesh3d\":[{\"type\":\"mesh3d\",\"colorbar\":{\"outlinewidth\":0,\"ticks\":\"\"}}],\"scatter\":[{\"fillpattern\":{\"fillmode\":\"overlay\",\"size\":10,\"solidity\":0.2},\"type\":\"scatter\"}],\"parcoords\":[{\"type\":\"parcoords\",\"line\":{\"colorbar\":{\"outlinewidth\":0,\"ticks\":\"\"}}}],\"scatterpolargl\":[{\"type\":\"scatterpolargl\",\"marker\":{\"colorbar\":{\"outlinewidth\":0,\"ticks\":\"\"}}}],\"bar\":[{\"error_x\":{\"color\":\"#2a3f5f\"},\"error_y\":{\"color\":\"#2a3f5f\"},\"marker\":{\"line\":{\"color\":\"#E5ECF6\",\"width\":0.5},\"pattern\":{\"fillmode\":\"overlay\",\"size\":10,\"solidity\":0.2}},\"type\":\"bar\"}],\"scattergeo\":[{\"type\":\"scattergeo\",\"marker\":{\"colorbar\":{\"outlinewidth\":0,\"ticks\":\"\"}}}],\"scatterpolar\":[{\"type\":\"scatterpolar\",\"marker\":{\"colorbar\":{\"outlinewidth\":0,\"ticks\":\"\"}}}],\"histogram\":[{\"marker\":{\"pattern\":{\"fillmode\":\"overlay\",\"size\":10,\"solidity\":0.2}},\"type\":\"histogram\"}],\"scattergl\":[{\"type\":\"scattergl\",\"marker\":{\"colorbar\":{\"outlinewidth\":0,\"ticks\":\"\"}}}],\"scatter3d\":[{\"type\":\"scatter3d\",\"line\":{\"colorbar\":{\"outlinewidth\":0,\"ticks\":\"\"}},\"marker\":{\"colorbar\":{\"outlinewidth\":0,\"ticks\":\"\"}}}],\"scattermapbox\":[{\"type\":\"scattermapbox\",\"marker\":{\"colorbar\":{\"outlinewidth\":0,\"ticks\":\"\"}}}],\"scatterternary\":[{\"type\":\"scatterternary\",\"marker\":{\"colorbar\":{\"outlinewidth\":0,\"ticks\":\"\"}}}],\"scattercarpet\":[{\"type\":\"scattercarpet\",\"marker\":{\"colorbar\":{\"outlinewidth\":0,\"ticks\":\"\"}}}],\"carpet\":[{\"aaxis\":{\"endlinecolor\":\"#2a3f5f\",\"gridcolor\":\"white\",\"linecolor\":\"white\",\"minorgridcolor\":\"white\",\"startlinecolor\":\"#2a3f5f\"},\"baxis\":{\"endlinecolor\":\"#2a3f5f\",\"gridcolor\":\"white\",\"linecolor\":\"white\",\"minorgridcolor\":\"white\",\"startlinecolor\":\"#2a3f5f\"},\"type\":\"carpet\"}],\"table\":[{\"cells\":{\"fill\":{\"color\":\"#EBF0F8\"},\"line\":{\"color\":\"white\"}},\"header\":{\"fill\":{\"color\":\"#C8D4E3\"},\"line\":{\"color\":\"white\"}},\"type\":\"table\"}],\"barpolar\":[{\"marker\":{\"line\":{\"color\":\"#E5ECF6\",\"width\":0.5},\"pattern\":{\"fillmode\":\"overlay\",\"size\":10,\"solidity\":0.2}},\"type\":\"barpolar\"}],\"pie\":[{\"automargin\":true,\"type\":\"pie\"}]},\"layout\":{\"autotypenumbers\":\"strict\",\"colorway\":[\"#636efa\",\"#EF553B\",\"#00cc96\",\"#ab63fa\",\"#FFA15A\",\"#19d3f3\",\"#FF6692\",\"#B6E880\",\"#FF97FF\",\"#FECB52\"],\"font\":{\"color\":\"#2a3f5f\"},\"hovermode\":\"closest\",\"hoverlabel\":{\"align\":\"left\"},\"paper_bgcolor\":\"white\",\"plot_bgcolor\":\"#E5ECF6\",\"polar\":{\"bgcolor\":\"#E5ECF6\",\"angularaxis\":{\"gridcolor\":\"white\",\"linecolor\":\"white\",\"ticks\":\"\"},\"radialaxis\":{\"gridcolor\":\"white\",\"linecolor\":\"white\",\"ticks\":\"\"}},\"ternary\":{\"bgcolor\":\"#E5ECF6\",\"aaxis\":{\"gridcolor\":\"white\",\"linecolor\":\"white\",\"ticks\":\"\"},\"baxis\":{\"gridcolor\":\"white\",\"linecolor\":\"white\",\"ticks\":\"\"},\"caxis\":{\"gridcolor\":\"white\",\"linecolor\":\"white\",\"ticks\":\"\"}},\"coloraxis\":{\"colorbar\":{\"outlinewidth\":0,\"ticks\":\"\"}},\"colorscale\":{\"sequential\":[[0.0,\"#0d0887\"],[0.1111111111111111,\"#46039f\"],[0.2222222222222222,\"#7201a8\"],[0.3333333333333333,\"#9c179e\"],[0.4444444444444444,\"#bd3786\"],[0.5555555555555556,\"#d8576b\"],[0.6666666666666666,\"#ed7953\"],[0.7777777777777778,\"#fb9f3a\"],[0.8888888888888888,\"#fdca26\"],[1.0,\"#f0f921\"]],\"sequentialminus\":[[0.0,\"#0d0887\"],[0.1111111111111111,\"#46039f\"],[0.2222222222222222,\"#7201a8\"],[0.3333333333333333,\"#9c179e\"],[0.4444444444444444,\"#bd3786\"],[0.5555555555555556,\"#d8576b\"],[0.6666666666666666,\"#ed7953\"],[0.7777777777777778,\"#fb9f3a\"],[0.8888888888888888,\"#fdca26\"],[1.0,\"#f0f921\"]],\"diverging\":[[0,\"#8e0152\"],[0.1,\"#c51b7d\"],[0.2,\"#de77ae\"],[0.3,\"#f1b6da\"],[0.4,\"#fde0ef\"],[0.5,\"#f7f7f7\"],[0.6,\"#e6f5d0\"],[0.7,\"#b8e186\"],[0.8,\"#7fbc41\"],[0.9,\"#4d9221\"],[1,\"#276419\"]]},\"xaxis\":{\"gridcolor\":\"white\",\"linecolor\":\"white\",\"ticks\":\"\",\"title\":{\"standoff\":15},\"zerolinecolor\":\"white\",\"automargin\":true,\"zerolinewidth\":2},\"yaxis\":{\"gridcolor\":\"white\",\"linecolor\":\"white\",\"ticks\":\"\",\"title\":{\"standoff\":15},\"zerolinecolor\":\"white\",\"automargin\":true,\"zerolinewidth\":2},\"scene\":{\"xaxis\":{\"backgroundcolor\":\"#E5ECF6\",\"gridcolor\":\"white\",\"linecolor\":\"white\",\"showbackground\":true,\"ticks\":\"\",\"zerolinecolor\":\"white\",\"gridwidth\":2},\"yaxis\":{\"backgroundcolor\":\"#E5ECF6\",\"gridcolor\":\"white\",\"linecolor\":\"white\",\"showbackground\":true,\"ticks\":\"\",\"zerolinecolor\":\"white\",\"gridwidth\":2},\"zaxis\":{\"backgroundcolor\":\"#E5ECF6\",\"gridcolor\":\"white\",\"linecolor\":\"white\",\"showbackground\":true,\"ticks\":\"\",\"zerolinecolor\":\"white\",\"gridwidth\":2}},\"shapedefaults\":{\"line\":{\"color\":\"#2a3f5f\"}},\"annotationdefaults\":{\"arrowcolor\":\"#2a3f5f\",\"arrowhead\":0,\"arrowwidth\":1},\"geo\":{\"bgcolor\":\"white\",\"landcolor\":\"#E5ECF6\",\"subunitcolor\":\"white\",\"showland\":true,\"showlakes\":true,\"lakecolor\":\"white\"},\"title\":{\"x\":0.05},\"mapbox\":{\"style\":\"light\"}}},\"xaxis\":{\"anchor\":\"y\",\"domain\":[0.0,1.0],\"scaleanchor\":\"y\",\"constrain\":\"domain\"},\"yaxis\":{\"anchor\":\"x\",\"domain\":[0.0,1.0],\"autorange\":\"reversed\",\"constrain\":\"domain\"},\"coloraxis\":{\"colorscale\":[[0.0,\"rgb(75, 41, 145)\"],[0.16666666666666666,\"rgb(135, 44, 162)\"],[0.3333333333333333,\"rgb(192, 54, 157)\"],[0.5,\"rgb(234, 79, 136)\"],[0.6666666666666666,\"rgb(250, 120, 118)\"],[0.8333333333333334,\"rgb(246, 169, 122)\"],[1.0,\"rgb(237, 217, 163)\"]]},\"title\":{\"text\":\"Correlation heatmap for price and variables\"}},                        {\"responsive\": true}                    )                };                            </script>        </div>"
      ],
      "text/plain": [
       "Figure({\n",
       "    'data': [{'coloraxis': 'coloraxis',\n",
       "              'hovertemplate': 'x: %{x}<br>y: %{y}<br>color: %{z}<extra></extra>',\n",
       "              'name': '0',\n",
       "              'texttemplate': '%{z}',\n",
       "              'type': 'heatmap',\n",
       "              'x': array(['carat', 'x dimension', 'y dimension', 'z dimension', 'depth', 'table',\n",
       "                          'price'], dtype=object),\n",
       "              'xaxis': 'x',\n",
       "              'y': array(['carat', 'x dimension', 'y dimension', 'z dimension', 'depth', 'table',\n",
       "                          'price'], dtype=object),\n",
       "              'yaxis': 'y',\n",
       "              'z': array([[1.        , 0.86951342, 0.66163707, 0.73928997, 0.35444188,\n",
       "                           0.21953078, 0.14921534],\n",
       "                          [0.86951342, 1.        , 0.81159966, 0.83319488, 0.38985268,\n",
       "                           0.2448782 , 0.17236334],\n",
       "                          [0.66163707, 0.81159966, 1.        , 0.5698855 , 0.29400816,\n",
       "                           0.16333154, 0.03552236],\n",
       "                          [0.73928997, 0.83319488, 0.5698855 , 1.        , 0.35405702,\n",
       "                           0.17681655, 0.15916158],\n",
       "                          [0.35444188, 0.38985268, 0.29400816, 0.35405702, 1.        ,\n",
       "                           0.02857835, 0.05720811],\n",
       "                          [0.21953078, 0.2448782 , 0.16333154, 0.17681655, 0.02857835,\n",
       "                           1.        , 0.15837792],\n",
       "                          [0.14921534, 0.17236334, 0.03552236, 0.15916158, 0.05720811,\n",
       "                           0.15837792, 1.        ]])}],\n",
       "    'layout': {'coloraxis': {'colorscale': [[0.0, 'rgb(75, 41, 145)'],\n",
       "                                            [0.16666666666666666, 'rgb(135, 44,\n",
       "                                            162)'], [0.3333333333333333, 'rgb(192,\n",
       "                                            54, 157)'], [0.5, 'rgb(234, 79, 136)'],\n",
       "                                            [0.6666666666666666, 'rgb(250, 120,\n",
       "                                            118)'], [0.8333333333333334, 'rgb(246,\n",
       "                                            169, 122)'], [1.0, 'rgb(237, 217,\n",
       "                                            163)']]},\n",
       "               'template': '...',\n",
       "               'title': {'text': 'Correlation heatmap for price and variables'},\n",
       "               'xaxis': {'anchor': 'y', 'constrain': 'domain', 'domain': [0.0, 1.0], 'scaleanchor': 'y'},\n",
       "               'yaxis': {'anchor': 'x', 'autorange': 'reversed', 'constrain': 'domain', 'domain': [0.0, 1.0]}}\n",
       "})"
      ]
     },
     "execution_count": 376,
     "metadata": {},
     "output_type": "execute_result"
    }
   ],
   "source": [
    "px.imshow(df[['carat', 'x dimension', 'y dimension', 'z dimension', 'depth', 'table', 'price']].corr(), color_continuous_scale='Agsunset', title=\"Correlation heatmap for price and variables\",text_auto=True)"
   ]
  },
  {
   "cell_type": "code",
   "execution_count": 377,
   "metadata": {},
   "outputs": [],
   "source": [
    "def determine_outlier_thresholds_iqr(dataframe, col_name, th1=0.25, th3=0.75):\n",
    "    quartile1 = dataframe[col_name].quantile(th1)\n",
    "    quartile3 = dataframe[col_name].quantile(th3)\n",
    "    iqr = quartile3 - quartile1\n",
    "    upper_limit = quartile3 + 1.5 * iqr\n",
    "    lower_limit = quartile1 - 1.5 * iqr\n",
    "    return lower_limit, upper_limit\n",
    "\n",
    "def check_outliers_iqr(dataframe, col_name):\n",
    "    lower_limit, upper_limit = determine_outlier_thresholds_iqr(dataframe, col_name)\n",
    "    if dataframe[(dataframe[col_name] > upper_limit) | (dataframe[col_name] < lower_limit)].any(axis=None):\n",
    "        return True\n",
    "    else:\n",
    "        return False\n",
    "    \n",
    "def replace_with_thresholds_iqr(dataframe, cols, th1=0.05, th3=0.95, replace=False):\n",
    "    from tabulate import tabulate\n",
    "    data = []\n",
    "    for col_name in cols:\n",
    "        outliers = check_outliers_iqr(dataframe, col_name)\n",
    "        count = None\n",
    "        lower_limit, upper_limit = determine_outlier_thresholds_iqr(dataframe, col_name, th1, th3)\n",
    "        if outliers:\n",
    "            count = dataframe[(dataframe[col_name] > upper_limit) | (dataframe[col_name] < lower_limit)][col_name].count()\n",
    "            if replace:\n",
    "                dataframe.loc[(dataframe[col_name] < lower_limit), col_name] = lower_limit\n",
    "                dataframe.loc[(dataframe[col_name] > upper_limit), col_name] = upper_limit\n",
    "        outliers_status = check_outliers_iqr(dataframe, col_name)\n",
    "        data.append([outliers, outliers_status, count, col_name, lower_limit, upper_limit])\n",
    "    table = tabulate(data, headers=['Outliers (Previously)', 'Outliers', 'Count', 'Column', 'Lower Limit', 'Upper Limit'], tablefmt='rst', numalign='right')\n",
    "    print(\"Removing Outliers using IQR\")\n",
    "    print(table)"
   ]
  },
  {
   "cell_type": "code",
   "execution_count": 378,
   "metadata": {},
   "outputs": [
    {
     "data": {
      "text/html": [
       "<div>\n",
       "<style scoped>\n",
       "    .dataframe tbody tr th:only-of-type {\n",
       "        vertical-align: middle;\n",
       "    }\n",
       "\n",
       "    .dataframe tbody tr th {\n",
       "        vertical-align: top;\n",
       "    }\n",
       "\n",
       "    .dataframe thead th {\n",
       "        text-align: right;\n",
       "    }\n",
       "</style>\n",
       "<table border=\"1\" class=\"dataframe\">\n",
       "  <thead>\n",
       "    <tr style=\"text-align: right;\">\n",
       "      <th></th>\n",
       "      <th>carat</th>\n",
       "      <th>x dimension</th>\n",
       "      <th>y dimension</th>\n",
       "      <th>z dimension</th>\n",
       "      <th>depth</th>\n",
       "      <th>table</th>\n",
       "      <th>price</th>\n",
       "    </tr>\n",
       "  </thead>\n",
       "  <tbody>\n",
       "    <tr>\n",
       "      <th>0</th>\n",
       "      <td>0.214286</td>\n",
       "      <td>0.352941</td>\n",
       "      <td>0.371681</td>\n",
       "      <td>0.377990</td>\n",
       "      <td>0.166667</td>\n",
       "      <td>0.500000</td>\n",
       "      <td>3000.0</td>\n",
       "    </tr>\n",
       "    <tr>\n",
       "      <th>1</th>\n",
       "      <td>0.357143</td>\n",
       "      <td>0.529412</td>\n",
       "      <td>0.578171</td>\n",
       "      <td>0.531100</td>\n",
       "      <td>0.444444</td>\n",
       "      <td>0.833333</td>\n",
       "      <td>4500.0</td>\n",
       "    </tr>\n",
       "    <tr>\n",
       "      <th>2</th>\n",
       "      <td>0.392857</td>\n",
       "      <td>0.117647</td>\n",
       "      <td>0.123894</td>\n",
       "      <td>0.624402</td>\n",
       "      <td>0.611111</td>\n",
       "      <td>0.333333</td>\n",
       "      <td>700.0</td>\n",
       "    </tr>\n",
       "    <tr>\n",
       "      <th>3</th>\n",
       "      <td>0.714286</td>\n",
       "      <td>0.588235</td>\n",
       "      <td>0.864307</td>\n",
       "      <td>0.856459</td>\n",
       "      <td>0.277778</td>\n",
       "      <td>0.666667</td>\n",
       "      <td>10000.0</td>\n",
       "    </tr>\n",
       "    <tr>\n",
       "      <th>4</th>\n",
       "      <td>0.500000</td>\n",
       "      <td>0.617647</td>\n",
       "      <td>0.578171</td>\n",
       "      <td>0.617225</td>\n",
       "      <td>0.277778</td>\n",
       "      <td>0.500000</td>\n",
       "      <td>2400.0</td>\n",
       "    </tr>\n",
       "    <tr>\n",
       "      <th>...</th>\n",
       "      <td>...</td>\n",
       "      <td>...</td>\n",
       "      <td>...</td>\n",
       "      <td>...</td>\n",
       "      <td>...</td>\n",
       "      <td>...</td>\n",
       "      <td>...</td>\n",
       "    </tr>\n",
       "    <tr>\n",
       "      <th>195</th>\n",
       "      <td>0.178571</td>\n",
       "      <td>0.294118</td>\n",
       "      <td>0.294985</td>\n",
       "      <td>0.624402</td>\n",
       "      <td>0.666667</td>\n",
       "      <td>0.833333</td>\n",
       "      <td>2300.0</td>\n",
       "    </tr>\n",
       "    <tr>\n",
       "      <th>196</th>\n",
       "      <td>0.750000</td>\n",
       "      <td>0.882353</td>\n",
       "      <td>0.578171</td>\n",
       "      <td>0.889952</td>\n",
       "      <td>0.611111</td>\n",
       "      <td>0.166667</td>\n",
       "      <td>10400.0</td>\n",
       "    </tr>\n",
       "    <tr>\n",
       "      <th>197</th>\n",
       "      <td>0.250000</td>\n",
       "      <td>0.411765</td>\n",
       "      <td>0.578171</td>\n",
       "      <td>0.416268</td>\n",
       "      <td>0.611111</td>\n",
       "      <td>0.500000</td>\n",
       "      <td>150000.0</td>\n",
       "    </tr>\n",
       "    <tr>\n",
       "      <th>198</th>\n",
       "      <td>0.464286</td>\n",
       "      <td>0.647059</td>\n",
       "      <td>0.660767</td>\n",
       "      <td>0.655502</td>\n",
       "      <td>0.611111</td>\n",
       "      <td>0.666667</td>\n",
       "      <td>6300.0</td>\n",
       "    </tr>\n",
       "    <tr>\n",
       "      <th>199</th>\n",
       "      <td>0.392857</td>\n",
       "      <td>0.735294</td>\n",
       "      <td>0.749263</td>\n",
       "      <td>0.746411</td>\n",
       "      <td>0.722222</td>\n",
       "      <td>0.500000</td>\n",
       "      <td>7500.0</td>\n",
       "    </tr>\n",
       "  </tbody>\n",
       "</table>\n",
       "<p>200 rows × 7 columns</p>\n",
       "</div>"
      ],
      "text/plain": [
       "        carat  x dimension  y dimension  z dimension     depth     table  \\\n",
       "0    0.214286     0.352941     0.371681     0.377990  0.166667  0.500000   \n",
       "1    0.357143     0.529412     0.578171     0.531100  0.444444  0.833333   \n",
       "2    0.392857     0.117647     0.123894     0.624402  0.611111  0.333333   \n",
       "3    0.714286     0.588235     0.864307     0.856459  0.277778  0.666667   \n",
       "4    0.500000     0.617647     0.578171     0.617225  0.277778  0.500000   \n",
       "..        ...          ...          ...          ...       ...       ...   \n",
       "195  0.178571     0.294118     0.294985     0.624402  0.666667  0.833333   \n",
       "196  0.750000     0.882353     0.578171     0.889952  0.611111  0.166667   \n",
       "197  0.250000     0.411765     0.578171     0.416268  0.611111  0.500000   \n",
       "198  0.464286     0.647059     0.660767     0.655502  0.611111  0.666667   \n",
       "199  0.392857     0.735294     0.749263     0.746411  0.722222  0.500000   \n",
       "\n",
       "        price  \n",
       "0      3000.0  \n",
       "1      4500.0  \n",
       "2       700.0  \n",
       "3     10000.0  \n",
       "4      2400.0  \n",
       "..        ...  \n",
       "195    2300.0  \n",
       "196   10400.0  \n",
       "197  150000.0  \n",
       "198    6300.0  \n",
       "199    7500.0  \n",
       "\n",
       "[200 rows x 7 columns]"
      ]
     },
     "metadata": {},
     "output_type": "display_data"
    },
    {
     "name": "stdout",
     "output_type": "stream",
     "text": [
      "Removing Outliers using IQR\n",
      "=======================  ==========  =======  ===========  =============  =============\n",
      "Outliers (Previously)    Outliers      Count  Column         Lower Limit    Upper Limit\n",
      "=======================  ==========  =======  ===========  =============  =============\n",
      "True                     False             2  carat            -0.111607       0.924107\n",
      "False                    False                x dimension      -0.117647        1.29412\n",
      "True                     False            16  y dimension       0.239676       0.929941\n",
      "True                     False             2  z dimension       0.157297        1.09988\n",
      "True                     False            35  depth             0.388889       0.833333\n",
      "False                    False                table            -0.166667        1.16667\n",
      "True                     False             5  price                -5350          15850\n",
      "=======================  ==========  =======  ===========  =============  =============\n"
     ]
    },
    {
     "data": {
      "text/html": [
       "<div>\n",
       "<style scoped>\n",
       "    .dataframe tbody tr th:only-of-type {\n",
       "        vertical-align: middle;\n",
       "    }\n",
       "\n",
       "    .dataframe tbody tr th {\n",
       "        vertical-align: top;\n",
       "    }\n",
       "\n",
       "    .dataframe thead th {\n",
       "        text-align: right;\n",
       "    }\n",
       "</style>\n",
       "<table border=\"1\" class=\"dataframe\">\n",
       "  <thead>\n",
       "    <tr style=\"text-align: right;\">\n",
       "      <th></th>\n",
       "      <th>carat</th>\n",
       "      <th>xdimension</th>\n",
       "      <th>ydimension</th>\n",
       "      <th>zdimension</th>\n",
       "      <th>depth</th>\n",
       "      <th>table</th>\n",
       "      <th>price</th>\n",
       "      <th>clarity</th>\n",
       "      <th>color</th>\n",
       "      <th>cut</th>\n",
       "    </tr>\n",
       "  </thead>\n",
       "  <tbody>\n",
       "    <tr>\n",
       "      <th>0</th>\n",
       "      <td>0.214286</td>\n",
       "      <td>0.352941</td>\n",
       "      <td>0.371681</td>\n",
       "      <td>0.377990</td>\n",
       "      <td>0.388889</td>\n",
       "      <td>0.500000</td>\n",
       "      <td>3000.0</td>\n",
       "      <td>IF</td>\n",
       "      <td>D</td>\n",
       "      <td>IDEAL</td>\n",
       "    </tr>\n",
       "    <tr>\n",
       "      <th>1</th>\n",
       "      <td>0.357143</td>\n",
       "      <td>0.529412</td>\n",
       "      <td>0.578171</td>\n",
       "      <td>0.531100</td>\n",
       "      <td>0.444444</td>\n",
       "      <td>0.833333</td>\n",
       "      <td>4500.0</td>\n",
       "      <td>VVS2</td>\n",
       "      <td>E</td>\n",
       "      <td>PREMIUM</td>\n",
       "    </tr>\n",
       "    <tr>\n",
       "      <th>2</th>\n",
       "      <td>0.392857</td>\n",
       "      <td>0.117647</td>\n",
       "      <td>0.239676</td>\n",
       "      <td>0.624402</td>\n",
       "      <td>0.611111</td>\n",
       "      <td>0.333333</td>\n",
       "      <td>700.0</td>\n",
       "      <td>SI2</td>\n",
       "      <td>H</td>\n",
       "      <td>GOOD</td>\n",
       "    </tr>\n",
       "    <tr>\n",
       "      <th>3</th>\n",
       "      <td>0.714286</td>\n",
       "      <td>0.588235</td>\n",
       "      <td>0.864307</td>\n",
       "      <td>0.856459</td>\n",
       "      <td>0.388889</td>\n",
       "      <td>0.666667</td>\n",
       "      <td>10000.0</td>\n",
       "      <td>IF</td>\n",
       "      <td>D</td>\n",
       "      <td>IDEAL</td>\n",
       "    </tr>\n",
       "    <tr>\n",
       "      <th>4</th>\n",
       "      <td>0.500000</td>\n",
       "      <td>0.617647</td>\n",
       "      <td>0.578171</td>\n",
       "      <td>0.617225</td>\n",
       "      <td>0.388889</td>\n",
       "      <td>0.500000</td>\n",
       "      <td>2400.0</td>\n",
       "      <td>I1</td>\n",
       "      <td>J</td>\n",
       "      <td>FAIR</td>\n",
       "    </tr>\n",
       "    <tr>\n",
       "      <th>...</th>\n",
       "      <td>...</td>\n",
       "      <td>...</td>\n",
       "      <td>...</td>\n",
       "      <td>...</td>\n",
       "      <td>...</td>\n",
       "      <td>...</td>\n",
       "      <td>...</td>\n",
       "      <td>...</td>\n",
       "      <td>...</td>\n",
       "      <td>...</td>\n",
       "    </tr>\n",
       "    <tr>\n",
       "      <th>195</th>\n",
       "      <td>0.178571</td>\n",
       "      <td>0.294118</td>\n",
       "      <td>0.294985</td>\n",
       "      <td>0.624402</td>\n",
       "      <td>0.666667</td>\n",
       "      <td>0.833333</td>\n",
       "      <td>2300.0</td>\n",
       "      <td>SI1</td>\n",
       "      <td>F</td>\n",
       "      <td>VERY GOOD</td>\n",
       "    </tr>\n",
       "    <tr>\n",
       "      <th>196</th>\n",
       "      <td>0.750000</td>\n",
       "      <td>0.882353</td>\n",
       "      <td>0.578171</td>\n",
       "      <td>0.889952</td>\n",
       "      <td>0.611111</td>\n",
       "      <td>0.166667</td>\n",
       "      <td>10400.0</td>\n",
       "      <td>VVS2</td>\n",
       "      <td>H</td>\n",
       "      <td>GOOD</td>\n",
       "    </tr>\n",
       "    <tr>\n",
       "      <th>197</th>\n",
       "      <td>0.250000</td>\n",
       "      <td>0.411765</td>\n",
       "      <td>0.578171</td>\n",
       "      <td>0.416268</td>\n",
       "      <td>0.611111</td>\n",
       "      <td>0.500000</td>\n",
       "      <td>15850.0</td>\n",
       "      <td>I1</td>\n",
       "      <td>I</td>\n",
       "      <td>PREMIUM</td>\n",
       "    </tr>\n",
       "    <tr>\n",
       "      <th>198</th>\n",
       "      <td>0.464286</td>\n",
       "      <td>0.647059</td>\n",
       "      <td>0.660767</td>\n",
       "      <td>0.655502</td>\n",
       "      <td>0.611111</td>\n",
       "      <td>0.666667</td>\n",
       "      <td>6300.0</td>\n",
       "      <td>SI2</td>\n",
       "      <td>E</td>\n",
       "      <td>FAIR</td>\n",
       "    </tr>\n",
       "    <tr>\n",
       "      <th>199</th>\n",
       "      <td>0.392857</td>\n",
       "      <td>0.735294</td>\n",
       "      <td>0.749263</td>\n",
       "      <td>0.746411</td>\n",
       "      <td>0.722222</td>\n",
       "      <td>0.500000</td>\n",
       "      <td>7500.0</td>\n",
       "      <td>VVS1</td>\n",
       "      <td>G</td>\n",
       "      <td>VERY GOOD</td>\n",
       "    </tr>\n",
       "  </tbody>\n",
       "</table>\n",
       "<p>200 rows × 10 columns</p>\n",
       "</div>"
      ],
      "text/plain": [
       "        carat  xdimension  ydimension  zdimension     depth     table  \\\n",
       "0    0.214286    0.352941    0.371681    0.377990  0.388889  0.500000   \n",
       "1    0.357143    0.529412    0.578171    0.531100  0.444444  0.833333   \n",
       "2    0.392857    0.117647    0.239676    0.624402  0.611111  0.333333   \n",
       "3    0.714286    0.588235    0.864307    0.856459  0.388889  0.666667   \n",
       "4    0.500000    0.617647    0.578171    0.617225  0.388889  0.500000   \n",
       "..        ...         ...         ...         ...       ...       ...   \n",
       "195  0.178571    0.294118    0.294985    0.624402  0.666667  0.833333   \n",
       "196  0.750000    0.882353    0.578171    0.889952  0.611111  0.166667   \n",
       "197  0.250000    0.411765    0.578171    0.416268  0.611111  0.500000   \n",
       "198  0.464286    0.647059    0.660767    0.655502  0.611111  0.666667   \n",
       "199  0.392857    0.735294    0.749263    0.746411  0.722222  0.500000   \n",
       "\n",
       "       price clarity color        cut  \n",
       "0     3000.0      IF     D      IDEAL  \n",
       "1     4500.0    VVS2     E    PREMIUM  \n",
       "2      700.0     SI2     H       GOOD  \n",
       "3    10000.0      IF     D      IDEAL  \n",
       "4     2400.0      I1     J       FAIR  \n",
       "..       ...     ...   ...        ...  \n",
       "195   2300.0     SI1     F  VERY GOOD  \n",
       "196  10400.0    VVS2     H       GOOD  \n",
       "197  15850.0      I1     I    PREMIUM  \n",
       "198   6300.0     SI2     E       FAIR  \n",
       "199   7500.0    VVS1     G  VERY GOOD  \n",
       "\n",
       "[200 rows x 10 columns]"
      ]
     },
     "metadata": {},
     "output_type": "display_data"
    }
   ],
   "source": [
    "df_numeric_values = df[['carat', 'x dimension', 'y dimension', 'z dimension', 'depth', 'table']].values\n",
    "df_numeric_columns = df[['carat', 'x dimension', 'y dimension', 'z dimension', 'depth', 'table']].columns\n",
    "min_max_scaler = MinMaxScaler()\n",
    "df_numeric_values_scaled = min_max_scaler.fit_transform(df_numeric_values)\n",
    "x = pd.DataFrame(data=df_numeric_values_scaled, columns=df_numeric_columns)\n",
    "x = x.assign(price=df['price'])\n",
    "display(x)\n",
    "replace_with_thresholds_iqr(x, ['carat', 'x dimension', 'y dimension', 'z dimension', 'depth', 'table', 'price'], 0.25, 0.75, True)\n",
    "remaining_data = {'clarity': df['clarity'].values, 'color': df['color'].values, 'cut': df['cut'].values}\n",
    "normalized_df = x.assign(**remaining_data)\n",
    "normalized_df.to_csv('data_normalized.csv', index=False)\n",
    "normalized_df.rename(columns=lambda x : re.sub(r\"\\s+\", \"\", x), inplace=True)\n",
    "display(normalized_df)"
   ]
  },
  {
   "cell_type": "code",
   "execution_count": 379,
   "metadata": {},
   "outputs": [
    {
     "ename": "ValueError",
     "evalue": "Mime type rendering requires nbformat>=4.2.0 but it is not installed",
     "output_type": "error",
     "traceback": [
      "\u001b[0;31m---------------------------------------------------------------------------\u001b[0m",
      "\u001b[0;31mValueError\u001b[0m                                Traceback (most recent call last)",
      "File \u001b[0;32m~/school/s18410_PAD_project/.conda/lib/python3.11/site-packages/IPython/core/formatters.py:922\u001b[0m, in \u001b[0;36mIPythonDisplayFormatter.__call__\u001b[0;34m(self, obj)\u001b[0m\n\u001b[1;32m    920\u001b[0m method \u001b[38;5;241m=\u001b[39m get_real_method(obj, \u001b[38;5;28mself\u001b[39m\u001b[38;5;241m.\u001b[39mprint_method)\n\u001b[1;32m    921\u001b[0m \u001b[38;5;28;01mif\u001b[39;00m method \u001b[38;5;129;01mis\u001b[39;00m \u001b[38;5;129;01mnot\u001b[39;00m \u001b[38;5;28;01mNone\u001b[39;00m:\n\u001b[0;32m--> 922\u001b[0m     \u001b[43mmethod\u001b[49m\u001b[43m(\u001b[49m\u001b[43m)\u001b[49m\n\u001b[1;32m    923\u001b[0m     \u001b[38;5;28;01mreturn\u001b[39;00m \u001b[38;5;28;01mTrue\u001b[39;00m\n",
      "File \u001b[0;32m~/school/s18410_PAD_project/.conda/lib/python3.11/site-packages/plotly/basedatatypes.py:832\u001b[0m, in \u001b[0;36mBaseFigure._ipython_display_\u001b[0;34m(self)\u001b[0m\n\u001b[1;32m    829\u001b[0m \u001b[38;5;28;01mimport\u001b[39;00m \u001b[38;5;21;01mplotly\u001b[39;00m\u001b[38;5;21;01m.\u001b[39;00m\u001b[38;5;21;01mio\u001b[39;00m \u001b[38;5;28;01mas\u001b[39;00m \u001b[38;5;21;01mpio\u001b[39;00m\n\u001b[1;32m    831\u001b[0m \u001b[38;5;28;01mif\u001b[39;00m pio\u001b[38;5;241m.\u001b[39mrenderers\u001b[38;5;241m.\u001b[39mrender_on_display \u001b[38;5;129;01mand\u001b[39;00m pio\u001b[38;5;241m.\u001b[39mrenderers\u001b[38;5;241m.\u001b[39mdefault:\n\u001b[0;32m--> 832\u001b[0m     \u001b[43mpio\u001b[49m\u001b[38;5;241;43m.\u001b[39;49m\u001b[43mshow\u001b[49m\u001b[43m(\u001b[49m\u001b[38;5;28;43mself\u001b[39;49m\u001b[43m)\u001b[49m\n\u001b[1;32m    833\u001b[0m \u001b[38;5;28;01melse\u001b[39;00m:\n\u001b[1;32m    834\u001b[0m     \u001b[38;5;28mprint\u001b[39m(\u001b[38;5;28mrepr\u001b[39m(\u001b[38;5;28mself\u001b[39m))\n",
      "File \u001b[0;32m~/school/s18410_PAD_project/.conda/lib/python3.11/site-packages/plotly/io/_renderers.py:394\u001b[0m, in \u001b[0;36mshow\u001b[0;34m(fig, renderer, validate, **kwargs)\u001b[0m\n\u001b[1;32m    389\u001b[0m         \u001b[38;5;28;01mraise\u001b[39;00m \u001b[38;5;167;01mValueError\u001b[39;00m(\n\u001b[1;32m    390\u001b[0m             \u001b[38;5;124m\"\u001b[39m\u001b[38;5;124mMime type rendering requires ipython but it is not installed\u001b[39m\u001b[38;5;124m\"\u001b[39m\n\u001b[1;32m    391\u001b[0m         )\n\u001b[1;32m    393\u001b[0m     \u001b[38;5;28;01mif\u001b[39;00m \u001b[38;5;129;01mnot\u001b[39;00m nbformat \u001b[38;5;129;01mor\u001b[39;00m Version(nbformat\u001b[38;5;241m.\u001b[39m__version__) \u001b[38;5;241m<\u001b[39m Version(\u001b[38;5;124m\"\u001b[39m\u001b[38;5;124m4.2.0\u001b[39m\u001b[38;5;124m\"\u001b[39m):\n\u001b[0;32m--> 394\u001b[0m         \u001b[38;5;28;01mraise\u001b[39;00m \u001b[38;5;167;01mValueError\u001b[39;00m(\n\u001b[1;32m    395\u001b[0m             \u001b[38;5;124m\"\u001b[39m\u001b[38;5;124mMime type rendering requires nbformat>=4.2.0 but it is not installed\u001b[39m\u001b[38;5;124m\"\u001b[39m\n\u001b[1;32m    396\u001b[0m         )\n\u001b[1;32m    398\u001b[0m     ipython_display\u001b[38;5;241m.\u001b[39mdisplay(bundle, raw\u001b[38;5;241m=\u001b[39m\u001b[38;5;28;01mTrue\u001b[39;00m)\n\u001b[1;32m    400\u001b[0m \u001b[38;5;66;03m# external renderers\u001b[39;00m\n",
      "\u001b[0;31mValueError\u001b[0m: Mime type rendering requires nbformat>=4.2.0 but it is not installed"
     ]
    },
    {
     "data": {
      "application/vnd.plotly.v1+json": {
       "config": {
        "plotlyServerURL": "https://plot.ly"
       },
       "data": [
        {
         "coloraxis": "coloraxis",
         "hovertemplate": "x: %{x}<br>y: %{y}<br>color: %{z}<extra></extra>",
         "name": "0",
         "texttemplate": "%{z}",
         "type": "heatmap",
         "x": [
          "carat",
          "xdimension",
          "ydimension",
          "zdimension",
          "depth",
          "table",
          "price"
         ],
         "xaxis": "x",
         "y": [
          "carat",
          "xdimension",
          "ydimension",
          "zdimension",
          "depth",
          "table",
          "price"
         ],
         "yaxis": "y",
         "z": [
          [
           1,
           0.8705770460763064,
           0.6639579241661253,
           0.7404777928412415,
           0.3847936255765131,
           0.22489360743258377,
           0.7528586324560548
          ],
          [
           0.8705770460763064,
           1,
           0.8034203439663309,
           0.83220530792048,
           0.4082683150941549,
           0.24487820258577062,
           0.794435474296969
          ],
          [
           0.6639579241661253,
           0.8034203439663309,
           1,
           0.5653450826762939,
           0.2949734253908194,
           0.16744099208023494,
           0.5922841218691463
          ],
          [
           0.7404777928412415,
           0.83220530792048,
           0.5653450826762939,
           1,
           0.3648688704918677,
           0.17942678561306163,
           0.6975528195642171
          ],
          [
           0.3847936255765131,
           0.4082683150941549,
           0.2949734253908194,
           0.3648688704918677,
           1,
           0.03232744580428351,
           0.3534948447055892
          ],
          [
           0.22489360743258377,
           0.24487820258577062,
           0.16744099208023494,
           0.17942678561306163,
           0.03232744580428351,
           1,
           0.3360556204437399
          ],
          [
           0.7528586324560548,
           0.794435474296969,
           0.5922841218691463,
           0.6975528195642171,
           0.3534948447055892,
           0.3360556204437399,
           1
          ]
         ]
        }
       ],
       "layout": {
        "coloraxis": {
         "colorscale": [
          [
           0,
           "rgb(75, 41, 145)"
          ],
          [
           0.16666666666666666,
           "rgb(135, 44, 162)"
          ],
          [
           0.3333333333333333,
           "rgb(192, 54, 157)"
          ],
          [
           0.5,
           "rgb(234, 79, 136)"
          ],
          [
           0.6666666666666666,
           "rgb(250, 120, 118)"
          ],
          [
           0.8333333333333334,
           "rgb(246, 169, 122)"
          ],
          [
           1,
           "rgb(237, 217, 163)"
          ]
         ]
        },
        "template": {
         "data": {
          "bar": [
           {
            "error_x": {
             "color": "#2a3f5f"
            },
            "error_y": {
             "color": "#2a3f5f"
            },
            "marker": {
             "line": {
              "color": "#E5ECF6",
              "width": 0.5
             },
             "pattern": {
              "fillmode": "overlay",
              "size": 10,
              "solidity": 0.2
             }
            },
            "type": "bar"
           }
          ],
          "barpolar": [
           {
            "marker": {
             "line": {
              "color": "#E5ECF6",
              "width": 0.5
             },
             "pattern": {
              "fillmode": "overlay",
              "size": 10,
              "solidity": 0.2
             }
            },
            "type": "barpolar"
           }
          ],
          "carpet": [
           {
            "aaxis": {
             "endlinecolor": "#2a3f5f",
             "gridcolor": "white",
             "linecolor": "white",
             "minorgridcolor": "white",
             "startlinecolor": "#2a3f5f"
            },
            "baxis": {
             "endlinecolor": "#2a3f5f",
             "gridcolor": "white",
             "linecolor": "white",
             "minorgridcolor": "white",
             "startlinecolor": "#2a3f5f"
            },
            "type": "carpet"
           }
          ],
          "choropleth": [
           {
            "colorbar": {
             "outlinewidth": 0,
             "ticks": ""
            },
            "type": "choropleth"
           }
          ],
          "contour": [
           {
            "colorbar": {
             "outlinewidth": 0,
             "ticks": ""
            },
            "colorscale": [
             [
              0,
              "#0d0887"
             ],
             [
              0.1111111111111111,
              "#46039f"
             ],
             [
              0.2222222222222222,
              "#7201a8"
             ],
             [
              0.3333333333333333,
              "#9c179e"
             ],
             [
              0.4444444444444444,
              "#bd3786"
             ],
             [
              0.5555555555555556,
              "#d8576b"
             ],
             [
              0.6666666666666666,
              "#ed7953"
             ],
             [
              0.7777777777777778,
              "#fb9f3a"
             ],
             [
              0.8888888888888888,
              "#fdca26"
             ],
             [
              1,
              "#f0f921"
             ]
            ],
            "type": "contour"
           }
          ],
          "contourcarpet": [
           {
            "colorbar": {
             "outlinewidth": 0,
             "ticks": ""
            },
            "type": "contourcarpet"
           }
          ],
          "heatmap": [
           {
            "colorbar": {
             "outlinewidth": 0,
             "ticks": ""
            },
            "colorscale": [
             [
              0,
              "#0d0887"
             ],
             [
              0.1111111111111111,
              "#46039f"
             ],
             [
              0.2222222222222222,
              "#7201a8"
             ],
             [
              0.3333333333333333,
              "#9c179e"
             ],
             [
              0.4444444444444444,
              "#bd3786"
             ],
             [
              0.5555555555555556,
              "#d8576b"
             ],
             [
              0.6666666666666666,
              "#ed7953"
             ],
             [
              0.7777777777777778,
              "#fb9f3a"
             ],
             [
              0.8888888888888888,
              "#fdca26"
             ],
             [
              1,
              "#f0f921"
             ]
            ],
            "type": "heatmap"
           }
          ],
          "heatmapgl": [
           {
            "colorbar": {
             "outlinewidth": 0,
             "ticks": ""
            },
            "colorscale": [
             [
              0,
              "#0d0887"
             ],
             [
              0.1111111111111111,
              "#46039f"
             ],
             [
              0.2222222222222222,
              "#7201a8"
             ],
             [
              0.3333333333333333,
              "#9c179e"
             ],
             [
              0.4444444444444444,
              "#bd3786"
             ],
             [
              0.5555555555555556,
              "#d8576b"
             ],
             [
              0.6666666666666666,
              "#ed7953"
             ],
             [
              0.7777777777777778,
              "#fb9f3a"
             ],
             [
              0.8888888888888888,
              "#fdca26"
             ],
             [
              1,
              "#f0f921"
             ]
            ],
            "type": "heatmapgl"
           }
          ],
          "histogram": [
           {
            "marker": {
             "pattern": {
              "fillmode": "overlay",
              "size": 10,
              "solidity": 0.2
             }
            },
            "type": "histogram"
           }
          ],
          "histogram2d": [
           {
            "colorbar": {
             "outlinewidth": 0,
             "ticks": ""
            },
            "colorscale": [
             [
              0,
              "#0d0887"
             ],
             [
              0.1111111111111111,
              "#46039f"
             ],
             [
              0.2222222222222222,
              "#7201a8"
             ],
             [
              0.3333333333333333,
              "#9c179e"
             ],
             [
              0.4444444444444444,
              "#bd3786"
             ],
             [
              0.5555555555555556,
              "#d8576b"
             ],
             [
              0.6666666666666666,
              "#ed7953"
             ],
             [
              0.7777777777777778,
              "#fb9f3a"
             ],
             [
              0.8888888888888888,
              "#fdca26"
             ],
             [
              1,
              "#f0f921"
             ]
            ],
            "type": "histogram2d"
           }
          ],
          "histogram2dcontour": [
           {
            "colorbar": {
             "outlinewidth": 0,
             "ticks": ""
            },
            "colorscale": [
             [
              0,
              "#0d0887"
             ],
             [
              0.1111111111111111,
              "#46039f"
             ],
             [
              0.2222222222222222,
              "#7201a8"
             ],
             [
              0.3333333333333333,
              "#9c179e"
             ],
             [
              0.4444444444444444,
              "#bd3786"
             ],
             [
              0.5555555555555556,
              "#d8576b"
             ],
             [
              0.6666666666666666,
              "#ed7953"
             ],
             [
              0.7777777777777778,
              "#fb9f3a"
             ],
             [
              0.8888888888888888,
              "#fdca26"
             ],
             [
              1,
              "#f0f921"
             ]
            ],
            "type": "histogram2dcontour"
           }
          ],
          "mesh3d": [
           {
            "colorbar": {
             "outlinewidth": 0,
             "ticks": ""
            },
            "type": "mesh3d"
           }
          ],
          "parcoords": [
           {
            "line": {
             "colorbar": {
              "outlinewidth": 0,
              "ticks": ""
             }
            },
            "type": "parcoords"
           }
          ],
          "pie": [
           {
            "automargin": true,
            "type": "pie"
           }
          ],
          "scatter": [
           {
            "fillpattern": {
             "fillmode": "overlay",
             "size": 10,
             "solidity": 0.2
            },
            "type": "scatter"
           }
          ],
          "scatter3d": [
           {
            "line": {
             "colorbar": {
              "outlinewidth": 0,
              "ticks": ""
             }
            },
            "marker": {
             "colorbar": {
              "outlinewidth": 0,
              "ticks": ""
             }
            },
            "type": "scatter3d"
           }
          ],
          "scattercarpet": [
           {
            "marker": {
             "colorbar": {
              "outlinewidth": 0,
              "ticks": ""
             }
            },
            "type": "scattercarpet"
           }
          ],
          "scattergeo": [
           {
            "marker": {
             "colorbar": {
              "outlinewidth": 0,
              "ticks": ""
             }
            },
            "type": "scattergeo"
           }
          ],
          "scattergl": [
           {
            "marker": {
             "colorbar": {
              "outlinewidth": 0,
              "ticks": ""
             }
            },
            "type": "scattergl"
           }
          ],
          "scattermapbox": [
           {
            "marker": {
             "colorbar": {
              "outlinewidth": 0,
              "ticks": ""
             }
            },
            "type": "scattermapbox"
           }
          ],
          "scatterpolar": [
           {
            "marker": {
             "colorbar": {
              "outlinewidth": 0,
              "ticks": ""
             }
            },
            "type": "scatterpolar"
           }
          ],
          "scatterpolargl": [
           {
            "marker": {
             "colorbar": {
              "outlinewidth": 0,
              "ticks": ""
             }
            },
            "type": "scatterpolargl"
           }
          ],
          "scatterternary": [
           {
            "marker": {
             "colorbar": {
              "outlinewidth": 0,
              "ticks": ""
             }
            },
            "type": "scatterternary"
           }
          ],
          "surface": [
           {
            "colorbar": {
             "outlinewidth": 0,
             "ticks": ""
            },
            "colorscale": [
             [
              0,
              "#0d0887"
             ],
             [
              0.1111111111111111,
              "#46039f"
             ],
             [
              0.2222222222222222,
              "#7201a8"
             ],
             [
              0.3333333333333333,
              "#9c179e"
             ],
             [
              0.4444444444444444,
              "#bd3786"
             ],
             [
              0.5555555555555556,
              "#d8576b"
             ],
             [
              0.6666666666666666,
              "#ed7953"
             ],
             [
              0.7777777777777778,
              "#fb9f3a"
             ],
             [
              0.8888888888888888,
              "#fdca26"
             ],
             [
              1,
              "#f0f921"
             ]
            ],
            "type": "surface"
           }
          ],
          "table": [
           {
            "cells": {
             "fill": {
              "color": "#EBF0F8"
             },
             "line": {
              "color": "white"
             }
            },
            "header": {
             "fill": {
              "color": "#C8D4E3"
             },
             "line": {
              "color": "white"
             }
            },
            "type": "table"
           }
          ]
         },
         "layout": {
          "annotationdefaults": {
           "arrowcolor": "#2a3f5f",
           "arrowhead": 0,
           "arrowwidth": 1
          },
          "autotypenumbers": "strict",
          "coloraxis": {
           "colorbar": {
            "outlinewidth": 0,
            "ticks": ""
           }
          },
          "colorscale": {
           "diverging": [
            [
             0,
             "#8e0152"
            ],
            [
             0.1,
             "#c51b7d"
            ],
            [
             0.2,
             "#de77ae"
            ],
            [
             0.3,
             "#f1b6da"
            ],
            [
             0.4,
             "#fde0ef"
            ],
            [
             0.5,
             "#f7f7f7"
            ],
            [
             0.6,
             "#e6f5d0"
            ],
            [
             0.7,
             "#b8e186"
            ],
            [
             0.8,
             "#7fbc41"
            ],
            [
             0.9,
             "#4d9221"
            ],
            [
             1,
             "#276419"
            ]
           ],
           "sequential": [
            [
             0,
             "#0d0887"
            ],
            [
             0.1111111111111111,
             "#46039f"
            ],
            [
             0.2222222222222222,
             "#7201a8"
            ],
            [
             0.3333333333333333,
             "#9c179e"
            ],
            [
             0.4444444444444444,
             "#bd3786"
            ],
            [
             0.5555555555555556,
             "#d8576b"
            ],
            [
             0.6666666666666666,
             "#ed7953"
            ],
            [
             0.7777777777777778,
             "#fb9f3a"
            ],
            [
             0.8888888888888888,
             "#fdca26"
            ],
            [
             1,
             "#f0f921"
            ]
           ],
           "sequentialminus": [
            [
             0,
             "#0d0887"
            ],
            [
             0.1111111111111111,
             "#46039f"
            ],
            [
             0.2222222222222222,
             "#7201a8"
            ],
            [
             0.3333333333333333,
             "#9c179e"
            ],
            [
             0.4444444444444444,
             "#bd3786"
            ],
            [
             0.5555555555555556,
             "#d8576b"
            ],
            [
             0.6666666666666666,
             "#ed7953"
            ],
            [
             0.7777777777777778,
             "#fb9f3a"
            ],
            [
             0.8888888888888888,
             "#fdca26"
            ],
            [
             1,
             "#f0f921"
            ]
           ]
          },
          "colorway": [
           "#636efa",
           "#EF553B",
           "#00cc96",
           "#ab63fa",
           "#FFA15A",
           "#19d3f3",
           "#FF6692",
           "#B6E880",
           "#FF97FF",
           "#FECB52"
          ],
          "font": {
           "color": "#2a3f5f"
          },
          "geo": {
           "bgcolor": "white",
           "lakecolor": "white",
           "landcolor": "#E5ECF6",
           "showlakes": true,
           "showland": true,
           "subunitcolor": "white"
          },
          "hoverlabel": {
           "align": "left"
          },
          "hovermode": "closest",
          "mapbox": {
           "style": "light"
          },
          "paper_bgcolor": "white",
          "plot_bgcolor": "#E5ECF6",
          "polar": {
           "angularaxis": {
            "gridcolor": "white",
            "linecolor": "white",
            "ticks": ""
           },
           "bgcolor": "#E5ECF6",
           "radialaxis": {
            "gridcolor": "white",
            "linecolor": "white",
            "ticks": ""
           }
          },
          "scene": {
           "xaxis": {
            "backgroundcolor": "#E5ECF6",
            "gridcolor": "white",
            "gridwidth": 2,
            "linecolor": "white",
            "showbackground": true,
            "ticks": "",
            "zerolinecolor": "white"
           },
           "yaxis": {
            "backgroundcolor": "#E5ECF6",
            "gridcolor": "white",
            "gridwidth": 2,
            "linecolor": "white",
            "showbackground": true,
            "ticks": "",
            "zerolinecolor": "white"
           },
           "zaxis": {
            "backgroundcolor": "#E5ECF6",
            "gridcolor": "white",
            "gridwidth": 2,
            "linecolor": "white",
            "showbackground": true,
            "ticks": "",
            "zerolinecolor": "white"
           }
          },
          "shapedefaults": {
           "line": {
            "color": "#2a3f5f"
           }
          },
          "ternary": {
           "aaxis": {
            "gridcolor": "white",
            "linecolor": "white",
            "ticks": ""
           },
           "baxis": {
            "gridcolor": "white",
            "linecolor": "white",
            "ticks": ""
           },
           "bgcolor": "#E5ECF6",
           "caxis": {
            "gridcolor": "white",
            "linecolor": "white",
            "ticks": ""
           }
          },
          "title": {
           "x": 0.05
          },
          "xaxis": {
           "automargin": true,
           "gridcolor": "white",
           "linecolor": "white",
           "ticks": "",
           "title": {
            "standoff": 15
           },
           "zerolinecolor": "white",
           "zerolinewidth": 2
          },
          "yaxis": {
           "automargin": true,
           "gridcolor": "white",
           "linecolor": "white",
           "ticks": "",
           "title": {
            "standoff": 15
           },
           "zerolinecolor": "white",
           "zerolinewidth": 2
          }
         }
        },
        "title": {
         "text": "Correlation heatmap for price and variables"
        },
        "xaxis": {
         "anchor": "y",
         "constrain": "domain",
         "domain": [
          0,
          1
         ],
         "scaleanchor": "y"
        },
        "yaxis": {
         "anchor": "x",
         "autorange": "reversed",
         "constrain": "domain",
         "domain": [
          0,
          1
         ]
        }
       }
      },
      "text/html": [
       "<div>                        <script type=\"text/javascript\">window.PlotlyConfig = {MathJaxConfig: 'local'};</script>\n",
       "        <script charset=\"utf-8\" src=\"https://cdn.plot.ly/plotly-2.27.0.min.js\"></script>                <div id=\"49b0d2f9-ecc8-4855-be51-bcd33281480f\" class=\"plotly-graph-div\" style=\"height:100%; width:100%;\"></div>            <script type=\"text/javascript\">                                    window.PLOTLYENV=window.PLOTLYENV || {};                                    if (document.getElementById(\"49b0d2f9-ecc8-4855-be51-bcd33281480f\")) {                    Plotly.newPlot(                        \"49b0d2f9-ecc8-4855-be51-bcd33281480f\",                        [{\"coloraxis\":\"coloraxis\",\"name\":\"0\",\"texttemplate\":\"%{z}\",\"x\":[\"carat\",\"xdimension\",\"ydimension\",\"zdimension\",\"depth\",\"table\",\"price\"],\"y\":[\"carat\",\"xdimension\",\"ydimension\",\"zdimension\",\"depth\",\"table\",\"price\"],\"z\":[[1.0,0.8705770460763064,0.6639579241661253,0.7404777928412415,0.3847936255765131,0.22489360743258377,0.7528586324560548],[0.8705770460763064,1.0,0.8034203439663309,0.83220530792048,0.4082683150941549,0.24487820258577062,0.794435474296969],[0.6639579241661253,0.8034203439663309,1.0,0.5653450826762939,0.2949734253908194,0.16744099208023494,0.5922841218691463],[0.7404777928412415,0.83220530792048,0.5653450826762939,1.0,0.3648688704918677,0.17942678561306163,0.6975528195642171],[0.3847936255765131,0.4082683150941549,0.2949734253908194,0.3648688704918677,1.0,0.03232744580428351,0.3534948447055892],[0.22489360743258377,0.24487820258577062,0.16744099208023494,0.17942678561306163,0.03232744580428351,1.0,0.3360556204437399],[0.7528586324560548,0.794435474296969,0.5922841218691463,0.6975528195642171,0.3534948447055892,0.3360556204437399,1.0]],\"type\":\"heatmap\",\"xaxis\":\"x\",\"yaxis\":\"y\",\"hovertemplate\":\"x: %{x}\\u003cbr\\u003ey: %{y}\\u003cbr\\u003ecolor: %{z}\\u003cextra\\u003e\\u003c\\u002fextra\\u003e\"}],                        {\"template\":{\"data\":{\"histogram2dcontour\":[{\"type\":\"histogram2dcontour\",\"colorbar\":{\"outlinewidth\":0,\"ticks\":\"\"},\"colorscale\":[[0.0,\"#0d0887\"],[0.1111111111111111,\"#46039f\"],[0.2222222222222222,\"#7201a8\"],[0.3333333333333333,\"#9c179e\"],[0.4444444444444444,\"#bd3786\"],[0.5555555555555556,\"#d8576b\"],[0.6666666666666666,\"#ed7953\"],[0.7777777777777778,\"#fb9f3a\"],[0.8888888888888888,\"#fdca26\"],[1.0,\"#f0f921\"]]}],\"choropleth\":[{\"type\":\"choropleth\",\"colorbar\":{\"outlinewidth\":0,\"ticks\":\"\"}}],\"histogram2d\":[{\"type\":\"histogram2d\",\"colorbar\":{\"outlinewidth\":0,\"ticks\":\"\"},\"colorscale\":[[0.0,\"#0d0887\"],[0.1111111111111111,\"#46039f\"],[0.2222222222222222,\"#7201a8\"],[0.3333333333333333,\"#9c179e\"],[0.4444444444444444,\"#bd3786\"],[0.5555555555555556,\"#d8576b\"],[0.6666666666666666,\"#ed7953\"],[0.7777777777777778,\"#fb9f3a\"],[0.8888888888888888,\"#fdca26\"],[1.0,\"#f0f921\"]]}],\"heatmap\":[{\"type\":\"heatmap\",\"colorbar\":{\"outlinewidth\":0,\"ticks\":\"\"},\"colorscale\":[[0.0,\"#0d0887\"],[0.1111111111111111,\"#46039f\"],[0.2222222222222222,\"#7201a8\"],[0.3333333333333333,\"#9c179e\"],[0.4444444444444444,\"#bd3786\"],[0.5555555555555556,\"#d8576b\"],[0.6666666666666666,\"#ed7953\"],[0.7777777777777778,\"#fb9f3a\"],[0.8888888888888888,\"#fdca26\"],[1.0,\"#f0f921\"]]}],\"heatmapgl\":[{\"type\":\"heatmapgl\",\"colorbar\":{\"outlinewidth\":0,\"ticks\":\"\"},\"colorscale\":[[0.0,\"#0d0887\"],[0.1111111111111111,\"#46039f\"],[0.2222222222222222,\"#7201a8\"],[0.3333333333333333,\"#9c179e\"],[0.4444444444444444,\"#bd3786\"],[0.5555555555555556,\"#d8576b\"],[0.6666666666666666,\"#ed7953\"],[0.7777777777777778,\"#fb9f3a\"],[0.8888888888888888,\"#fdca26\"],[1.0,\"#f0f921\"]]}],\"contourcarpet\":[{\"type\":\"contourcarpet\",\"colorbar\":{\"outlinewidth\":0,\"ticks\":\"\"}}],\"contour\":[{\"type\":\"contour\",\"colorbar\":{\"outlinewidth\":0,\"ticks\":\"\"},\"colorscale\":[[0.0,\"#0d0887\"],[0.1111111111111111,\"#46039f\"],[0.2222222222222222,\"#7201a8\"],[0.3333333333333333,\"#9c179e\"],[0.4444444444444444,\"#bd3786\"],[0.5555555555555556,\"#d8576b\"],[0.6666666666666666,\"#ed7953\"],[0.7777777777777778,\"#fb9f3a\"],[0.8888888888888888,\"#fdca26\"],[1.0,\"#f0f921\"]]}],\"surface\":[{\"type\":\"surface\",\"colorbar\":{\"outlinewidth\":0,\"ticks\":\"\"},\"colorscale\":[[0.0,\"#0d0887\"],[0.1111111111111111,\"#46039f\"],[0.2222222222222222,\"#7201a8\"],[0.3333333333333333,\"#9c179e\"],[0.4444444444444444,\"#bd3786\"],[0.5555555555555556,\"#d8576b\"],[0.6666666666666666,\"#ed7953\"],[0.7777777777777778,\"#fb9f3a\"],[0.8888888888888888,\"#fdca26\"],[1.0,\"#f0f921\"]]}],\"mesh3d\":[{\"type\":\"mesh3d\",\"colorbar\":{\"outlinewidth\":0,\"ticks\":\"\"}}],\"scatter\":[{\"fillpattern\":{\"fillmode\":\"overlay\",\"size\":10,\"solidity\":0.2},\"type\":\"scatter\"}],\"parcoords\":[{\"type\":\"parcoords\",\"line\":{\"colorbar\":{\"outlinewidth\":0,\"ticks\":\"\"}}}],\"scatterpolargl\":[{\"type\":\"scatterpolargl\",\"marker\":{\"colorbar\":{\"outlinewidth\":0,\"ticks\":\"\"}}}],\"bar\":[{\"error_x\":{\"color\":\"#2a3f5f\"},\"error_y\":{\"color\":\"#2a3f5f\"},\"marker\":{\"line\":{\"color\":\"#E5ECF6\",\"width\":0.5},\"pattern\":{\"fillmode\":\"overlay\",\"size\":10,\"solidity\":0.2}},\"type\":\"bar\"}],\"scattergeo\":[{\"type\":\"scattergeo\",\"marker\":{\"colorbar\":{\"outlinewidth\":0,\"ticks\":\"\"}}}],\"scatterpolar\":[{\"type\":\"scatterpolar\",\"marker\":{\"colorbar\":{\"outlinewidth\":0,\"ticks\":\"\"}}}],\"histogram\":[{\"marker\":{\"pattern\":{\"fillmode\":\"overlay\",\"size\":10,\"solidity\":0.2}},\"type\":\"histogram\"}],\"scattergl\":[{\"type\":\"scattergl\",\"marker\":{\"colorbar\":{\"outlinewidth\":0,\"ticks\":\"\"}}}],\"scatter3d\":[{\"type\":\"scatter3d\",\"line\":{\"colorbar\":{\"outlinewidth\":0,\"ticks\":\"\"}},\"marker\":{\"colorbar\":{\"outlinewidth\":0,\"ticks\":\"\"}}}],\"scattermapbox\":[{\"type\":\"scattermapbox\",\"marker\":{\"colorbar\":{\"outlinewidth\":0,\"ticks\":\"\"}}}],\"scatterternary\":[{\"type\":\"scatterternary\",\"marker\":{\"colorbar\":{\"outlinewidth\":0,\"ticks\":\"\"}}}],\"scattercarpet\":[{\"type\":\"scattercarpet\",\"marker\":{\"colorbar\":{\"outlinewidth\":0,\"ticks\":\"\"}}}],\"carpet\":[{\"aaxis\":{\"endlinecolor\":\"#2a3f5f\",\"gridcolor\":\"white\",\"linecolor\":\"white\",\"minorgridcolor\":\"white\",\"startlinecolor\":\"#2a3f5f\"},\"baxis\":{\"endlinecolor\":\"#2a3f5f\",\"gridcolor\":\"white\",\"linecolor\":\"white\",\"minorgridcolor\":\"white\",\"startlinecolor\":\"#2a3f5f\"},\"type\":\"carpet\"}],\"table\":[{\"cells\":{\"fill\":{\"color\":\"#EBF0F8\"},\"line\":{\"color\":\"white\"}},\"header\":{\"fill\":{\"color\":\"#C8D4E3\"},\"line\":{\"color\":\"white\"}},\"type\":\"table\"}],\"barpolar\":[{\"marker\":{\"line\":{\"color\":\"#E5ECF6\",\"width\":0.5},\"pattern\":{\"fillmode\":\"overlay\",\"size\":10,\"solidity\":0.2}},\"type\":\"barpolar\"}],\"pie\":[{\"automargin\":true,\"type\":\"pie\"}]},\"layout\":{\"autotypenumbers\":\"strict\",\"colorway\":[\"#636efa\",\"#EF553B\",\"#00cc96\",\"#ab63fa\",\"#FFA15A\",\"#19d3f3\",\"#FF6692\",\"#B6E880\",\"#FF97FF\",\"#FECB52\"],\"font\":{\"color\":\"#2a3f5f\"},\"hovermode\":\"closest\",\"hoverlabel\":{\"align\":\"left\"},\"paper_bgcolor\":\"white\",\"plot_bgcolor\":\"#E5ECF6\",\"polar\":{\"bgcolor\":\"#E5ECF6\",\"angularaxis\":{\"gridcolor\":\"white\",\"linecolor\":\"white\",\"ticks\":\"\"},\"radialaxis\":{\"gridcolor\":\"white\",\"linecolor\":\"white\",\"ticks\":\"\"}},\"ternary\":{\"bgcolor\":\"#E5ECF6\",\"aaxis\":{\"gridcolor\":\"white\",\"linecolor\":\"white\",\"ticks\":\"\"},\"baxis\":{\"gridcolor\":\"white\",\"linecolor\":\"white\",\"ticks\":\"\"},\"caxis\":{\"gridcolor\":\"white\",\"linecolor\":\"white\",\"ticks\":\"\"}},\"coloraxis\":{\"colorbar\":{\"outlinewidth\":0,\"ticks\":\"\"}},\"colorscale\":{\"sequential\":[[0.0,\"#0d0887\"],[0.1111111111111111,\"#46039f\"],[0.2222222222222222,\"#7201a8\"],[0.3333333333333333,\"#9c179e\"],[0.4444444444444444,\"#bd3786\"],[0.5555555555555556,\"#d8576b\"],[0.6666666666666666,\"#ed7953\"],[0.7777777777777778,\"#fb9f3a\"],[0.8888888888888888,\"#fdca26\"],[1.0,\"#f0f921\"]],\"sequentialminus\":[[0.0,\"#0d0887\"],[0.1111111111111111,\"#46039f\"],[0.2222222222222222,\"#7201a8\"],[0.3333333333333333,\"#9c179e\"],[0.4444444444444444,\"#bd3786\"],[0.5555555555555556,\"#d8576b\"],[0.6666666666666666,\"#ed7953\"],[0.7777777777777778,\"#fb9f3a\"],[0.8888888888888888,\"#fdca26\"],[1.0,\"#f0f921\"]],\"diverging\":[[0,\"#8e0152\"],[0.1,\"#c51b7d\"],[0.2,\"#de77ae\"],[0.3,\"#f1b6da\"],[0.4,\"#fde0ef\"],[0.5,\"#f7f7f7\"],[0.6,\"#e6f5d0\"],[0.7,\"#b8e186\"],[0.8,\"#7fbc41\"],[0.9,\"#4d9221\"],[1,\"#276419\"]]},\"xaxis\":{\"gridcolor\":\"white\",\"linecolor\":\"white\",\"ticks\":\"\",\"title\":{\"standoff\":15},\"zerolinecolor\":\"white\",\"automargin\":true,\"zerolinewidth\":2},\"yaxis\":{\"gridcolor\":\"white\",\"linecolor\":\"white\",\"ticks\":\"\",\"title\":{\"standoff\":15},\"zerolinecolor\":\"white\",\"automargin\":true,\"zerolinewidth\":2},\"scene\":{\"xaxis\":{\"backgroundcolor\":\"#E5ECF6\",\"gridcolor\":\"white\",\"linecolor\":\"white\",\"showbackground\":true,\"ticks\":\"\",\"zerolinecolor\":\"white\",\"gridwidth\":2},\"yaxis\":{\"backgroundcolor\":\"#E5ECF6\",\"gridcolor\":\"white\",\"linecolor\":\"white\",\"showbackground\":true,\"ticks\":\"\",\"zerolinecolor\":\"white\",\"gridwidth\":2},\"zaxis\":{\"backgroundcolor\":\"#E5ECF6\",\"gridcolor\":\"white\",\"linecolor\":\"white\",\"showbackground\":true,\"ticks\":\"\",\"zerolinecolor\":\"white\",\"gridwidth\":2}},\"shapedefaults\":{\"line\":{\"color\":\"#2a3f5f\"}},\"annotationdefaults\":{\"arrowcolor\":\"#2a3f5f\",\"arrowhead\":0,\"arrowwidth\":1},\"geo\":{\"bgcolor\":\"white\",\"landcolor\":\"#E5ECF6\",\"subunitcolor\":\"white\",\"showland\":true,\"showlakes\":true,\"lakecolor\":\"white\"},\"title\":{\"x\":0.05},\"mapbox\":{\"style\":\"light\"}}},\"xaxis\":{\"anchor\":\"y\",\"domain\":[0.0,1.0],\"scaleanchor\":\"y\",\"constrain\":\"domain\"},\"yaxis\":{\"anchor\":\"x\",\"domain\":[0.0,1.0],\"autorange\":\"reversed\",\"constrain\":\"domain\"},\"coloraxis\":{\"colorscale\":[[0.0,\"rgb(75, 41, 145)\"],[0.16666666666666666,\"rgb(135, 44, 162)\"],[0.3333333333333333,\"rgb(192, 54, 157)\"],[0.5,\"rgb(234, 79, 136)\"],[0.6666666666666666,\"rgb(250, 120, 118)\"],[0.8333333333333334,\"rgb(246, 169, 122)\"],[1.0,\"rgb(237, 217, 163)\"]]},\"title\":{\"text\":\"Correlation heatmap for price and variables\"}},                        {\"responsive\": true}                    )                };                            </script>        </div>"
      ],
      "text/plain": [
       "Figure({\n",
       "    'data': [{'coloraxis': 'coloraxis',\n",
       "              'hovertemplate': 'x: %{x}<br>y: %{y}<br>color: %{z}<extra></extra>',\n",
       "              'name': '0',\n",
       "              'texttemplate': '%{z}',\n",
       "              'type': 'heatmap',\n",
       "              'x': array(['carat', 'xdimension', 'ydimension', 'zdimension', 'depth', 'table',\n",
       "                          'price'], dtype=object),\n",
       "              'xaxis': 'x',\n",
       "              'y': array(['carat', 'xdimension', 'ydimension', 'zdimension', 'depth', 'table',\n",
       "                          'price'], dtype=object),\n",
       "              'yaxis': 'y',\n",
       "              'z': array([[1.        , 0.87057705, 0.66395792, 0.74047779, 0.38479363,\n",
       "                           0.22489361, 0.75285863],\n",
       "                          [0.87057705, 1.        , 0.80342034, 0.83220531, 0.40826832,\n",
       "                           0.2448782 , 0.79443547],\n",
       "                          [0.66395792, 0.80342034, 1.        , 0.56534508, 0.29497343,\n",
       "                           0.16744099, 0.59228412],\n",
       "                          [0.74047779, 0.83220531, 0.56534508, 1.        , 0.36486887,\n",
       "                           0.17942679, 0.69755282],\n",
       "                          [0.38479363, 0.40826832, 0.29497343, 0.36486887, 1.        ,\n",
       "                           0.03232745, 0.35349484],\n",
       "                          [0.22489361, 0.2448782 , 0.16744099, 0.17942679, 0.03232745,\n",
       "                           1.        , 0.33605562],\n",
       "                          [0.75285863, 0.79443547, 0.59228412, 0.69755282, 0.35349484,\n",
       "                           0.33605562, 1.        ]])}],\n",
       "    'layout': {'coloraxis': {'colorscale': [[0.0, 'rgb(75, 41, 145)'],\n",
       "                                            [0.16666666666666666, 'rgb(135, 44,\n",
       "                                            162)'], [0.3333333333333333, 'rgb(192,\n",
       "                                            54, 157)'], [0.5, 'rgb(234, 79, 136)'],\n",
       "                                            [0.6666666666666666, 'rgb(250, 120,\n",
       "                                            118)'], [0.8333333333333334, 'rgb(246,\n",
       "                                            169, 122)'], [1.0, 'rgb(237, 217,\n",
       "                                            163)']]},\n",
       "               'template': '...',\n",
       "               'title': {'text': 'Correlation heatmap for price and variables'},\n",
       "               'xaxis': {'anchor': 'y', 'constrain': 'domain', 'domain': [0.0, 1.0], 'scaleanchor': 'y'},\n",
       "               'yaxis': {'anchor': 'x', 'autorange': 'reversed', 'constrain': 'domain', 'domain': [0.0, 1.0]}}\n",
       "})"
      ]
     },
     "execution_count": 379,
     "metadata": {},
     "output_type": "execute_result"
    }
   ],
   "source": [
    "px.imshow(normalized_df[['carat', 'xdimension', 'ydimension', 'zdimension', 'depth', 'table', 'price']].corr(), color_continuous_scale='Agsunset', title=\"Correlation heatmap for price and variables\",text_auto=True)"
   ]
  },
  {
   "cell_type": "code",
   "execution_count": 380,
   "metadata": {},
   "outputs": [
    {
     "data": {
      "text/html": [
       "<table class=\"simpletable\">\n",
       "<caption>OLS Regression Results</caption>\n",
       "<tr>\n",
       "  <th>Dep. Variable:</th>          <td>price</td>      <th>  R-squared:         </th> <td>   0.720</td>\n",
       "</tr>\n",
       "<tr>\n",
       "  <th>Model:</th>                   <td>OLS</td>       <th>  Adj. R-squared:    </th> <td>   0.686</td>\n",
       "</tr>\n",
       "<tr>\n",
       "  <th>Method:</th>             <td>Least Squares</td>  <th>  F-statistic:       </th> <td>   20.72</td>\n",
       "</tr>\n",
       "<tr>\n",
       "  <th>Date:</th>             <td>Sun, 04 Feb 2024</td> <th>  Prob (F-statistic):</th> <td>6.22e-38</td>\n",
       "</tr>\n",
       "<tr>\n",
       "  <th>Time:</th>                 <td>00:29:10</td>     <th>  Log-Likelihood:    </th> <td> -1786.5</td>\n",
       "</tr>\n",
       "<tr>\n",
       "  <th>No. Observations:</th>      <td>   200</td>      <th>  AIC:               </th> <td>   3619.</td>\n",
       "</tr>\n",
       "<tr>\n",
       "  <th>Df Residuals:</th>          <td>   177</td>      <th>  BIC:               </th> <td>   3695.</td>\n",
       "</tr>\n",
       "<tr>\n",
       "  <th>Df Model:</th>              <td>    22</td>      <th>                     </th>     <td> </td>   \n",
       "</tr>\n",
       "<tr>\n",
       "  <th>Covariance Type:</th>      <td>nonrobust</td>    <th>                     </th>     <td> </td>   \n",
       "</tr>\n",
       "</table>\n",
       "<table class=\"simpletable\">\n",
       "<tr>\n",
       "           <td></td>              <th>coef</th>     <th>std err</th>      <th>t</th>      <th>P>|t|</th>  <th>[0.025</th>    <th>0.975]</th>  \n",
       "</tr>\n",
       "<tr>\n",
       "  <th>Intercept</th>           <td>-3812.7667</td> <td> 1212.340</td> <td>   -3.145</td> <td> 0.002</td> <td>-6205.268</td> <td>-1420.265</td>\n",
       "</tr>\n",
       "<tr>\n",
       "  <th>C(clarity)[T.IF]</th>    <td> 1400.8085</td> <td>  584.515</td> <td>    2.397</td> <td> 0.018</td> <td>  247.294</td> <td> 2554.323</td>\n",
       "</tr>\n",
       "<tr>\n",
       "  <th>C(clarity)[T.SI1]</th>   <td>  380.1398</td> <td>  534.816</td> <td>    0.711</td> <td> 0.478</td> <td> -675.297</td> <td> 1435.577</td>\n",
       "</tr>\n",
       "<tr>\n",
       "  <th>C(clarity)[T.SI2]</th>   <td>  587.3026</td> <td>  488.614</td> <td>    1.202</td> <td> 0.231</td> <td> -376.957</td> <td> 1551.562</td>\n",
       "</tr>\n",
       "<tr>\n",
       "  <th>C(clarity)[T.VVS1]</th>  <td> 1195.3675</td> <td>  540.906</td> <td>    2.210</td> <td> 0.028</td> <td>  127.913</td> <td> 2262.822</td>\n",
       "</tr>\n",
       "<tr>\n",
       "  <th>C(clarity)[T.VVS2]</th>  <td> 1525.8692</td> <td>  523.224</td> <td>    2.916</td> <td> 0.004</td> <td>  493.308</td> <td> 2558.430</td>\n",
       "</tr>\n",
       "<tr>\n",
       "  <th>C(color)[T.D]</th>       <td> 1392.5052</td> <td>  892.379</td> <td>    1.560</td> <td> 0.120</td> <td> -368.566</td> <td> 3153.576</td>\n",
       "</tr>\n",
       "<tr>\n",
       "  <th>C(color)[T.E]</th>       <td>  174.0423</td> <td>  857.093</td> <td>    0.203</td> <td> 0.839</td> <td>-1517.395</td> <td> 1865.479</td>\n",
       "</tr>\n",
       "<tr>\n",
       "  <th>C(color)[T.F]</th>       <td>  597.0206</td> <td>  823.697</td> <td>    0.725</td> <td> 0.470</td> <td>-1028.510</td> <td> 2222.552</td>\n",
       "</tr>\n",
       "<tr>\n",
       "  <th>C(color)[T.G]</th>       <td> 1059.1997</td> <td>  803.925</td> <td>    1.318</td> <td> 0.189</td> <td> -527.311</td> <td> 2645.710</td>\n",
       "</tr>\n",
       "<tr>\n",
       "  <th>C(color)[T.H]</th>       <td>  432.2786</td> <td>  842.943</td> <td>    0.513</td> <td> 0.609</td> <td>-1231.234</td> <td> 2095.791</td>\n",
       "</tr>\n",
       "<tr>\n",
       "  <th>C(color)[T.I]</th>       <td> 1198.9180</td> <td>  826.796</td> <td>    1.450</td> <td> 0.149</td> <td> -432.729</td> <td> 2830.565</td>\n",
       "</tr>\n",
       "<tr>\n",
       "  <th>C(color)[T.J]</th>       <td> -168.3531</td> <td> 1010.631</td> <td>   -0.167</td> <td> 0.868</td> <td>-2162.789</td> <td> 1826.083</td>\n",
       "</tr>\n",
       "<tr>\n",
       "  <th>C(cut)[T.GOOD]</th>      <td> -304.8715</td> <td>  468.597</td> <td>   -0.651</td> <td> 0.516</td> <td>-1229.627</td> <td>  619.884</td>\n",
       "</tr>\n",
       "<tr>\n",
       "  <th>C(cut)[T.IDEAL]</th>     <td>  415.4134</td> <td>  520.516</td> <td>    0.798</td> <td> 0.426</td> <td> -611.803</td> <td> 1442.630</td>\n",
       "</tr>\n",
       "<tr>\n",
       "  <th>C(cut)[T.PREMIUM]</th>   <td>  831.3945</td> <td>  514.827</td> <td>    1.615</td> <td> 0.108</td> <td> -184.594</td> <td> 1847.383</td>\n",
       "</tr>\n",
       "<tr>\n",
       "  <th>C(cut)[T.VERY GOOD]</th> <td>  325.8713</td> <td>  490.523</td> <td>    0.664</td> <td> 0.507</td> <td> -642.155</td> <td> 1293.897</td>\n",
       "</tr>\n",
       "<tr>\n",
       "  <th>carat</th>               <td> 5199.7001</td> <td> 1534.194</td> <td>    3.389</td> <td> 0.001</td> <td> 2172.033</td> <td> 8227.367</td>\n",
       "</tr>\n",
       "<tr>\n",
       "  <th>xdimension</th>          <td> 8311.9939</td> <td> 2150.125</td> <td>    3.866</td> <td> 0.000</td> <td> 4068.815</td> <td> 1.26e+04</td>\n",
       "</tr>\n",
       "<tr>\n",
       "  <th>ydimension</th>          <td>-2236.6409</td> <td> 1456.648</td> <td>   -1.535</td> <td> 0.126</td> <td>-5111.274</td> <td>  637.992</td>\n",
       "</tr>\n",
       "<tr>\n",
       "  <th>zdimension</th>          <td>  201.8851</td> <td> 1486.610</td> <td>    0.136</td> <td> 0.892</td> <td>-2731.876</td> <td> 3135.647</td>\n",
       "</tr>\n",
       "<tr>\n",
       "  <th>depth</th>               <td> 1426.1330</td> <td> 1391.529</td> <td>    1.025</td> <td> 0.307</td> <td>-1319.989</td> <td> 4172.255</td>\n",
       "</tr>\n",
       "<tr>\n",
       "  <th>table</th>               <td> 1577.1265</td> <td>  747.841</td> <td>    2.109</td> <td> 0.036</td> <td>  101.295</td> <td> 3052.958</td>\n",
       "</tr>\n",
       "</table>\n",
       "<table class=\"simpletable\">\n",
       "<tr>\n",
       "  <th>Omnibus:</th>       <td>182.878</td> <th>  Durbin-Watson:     </th> <td>   1.915</td>\n",
       "</tr>\n",
       "<tr>\n",
       "  <th>Prob(Omnibus):</th> <td> 0.000</td>  <th>  Jarque-Bera (JB):  </th> <td>4075.027</td>\n",
       "</tr>\n",
       "<tr>\n",
       "  <th>Skew:</th>          <td> 3.399</td>  <th>  Prob(JB):          </th> <td>    0.00</td>\n",
       "</tr>\n",
       "<tr>\n",
       "  <th>Kurtosis:</th>      <td>24.043</td>  <th>  Cond. No.          </th> <td>    36.5</td>\n",
       "</tr>\n",
       "</table><br/><br/>Notes:<br/>[1] Standard Errors assume that the covariance matrix of the errors is correctly specified."
      ],
      "text/latex": [
       "\\begin{center}\n",
       "\\begin{tabular}{lclc}\n",
       "\\toprule\n",
       "\\textbf{Dep. Variable:}      &      price       & \\textbf{  R-squared:         } &     0.720   \\\\\n",
       "\\textbf{Model:}              &       OLS        & \\textbf{  Adj. R-squared:    } &     0.686   \\\\\n",
       "\\textbf{Method:}             &  Least Squares   & \\textbf{  F-statistic:       } &     20.72   \\\\\n",
       "\\textbf{Date:}               & Sun, 04 Feb 2024 & \\textbf{  Prob (F-statistic):} &  6.22e-38   \\\\\n",
       "\\textbf{Time:}               &     00:29:10     & \\textbf{  Log-Likelihood:    } &   -1786.5   \\\\\n",
       "\\textbf{No. Observations:}   &         200      & \\textbf{  AIC:               } &     3619.   \\\\\n",
       "\\textbf{Df Residuals:}       &         177      & \\textbf{  BIC:               } &     3695.   \\\\\n",
       "\\textbf{Df Model:}           &          22      & \\textbf{                     } &             \\\\\n",
       "\\textbf{Covariance Type:}    &    nonrobust     & \\textbf{                     } &             \\\\\n",
       "\\bottomrule\n",
       "\\end{tabular}\n",
       "\\begin{tabular}{lcccccc}\n",
       "                             & \\textbf{coef} & \\textbf{std err} & \\textbf{t} & \\textbf{P$> |$t$|$} & \\textbf{[0.025} & \\textbf{0.975]}  \\\\\n",
       "\\midrule\n",
       "\\textbf{Intercept}           &   -3812.7667  &     1212.340     &    -3.145  &         0.002        &    -6205.268    &    -1420.265     \\\\\n",
       "\\textbf{C(clarity)[T.IF]}    &    1400.8085  &      584.515     &     2.397  &         0.018        &      247.294    &     2554.323     \\\\\n",
       "\\textbf{C(clarity)[T.SI1]}   &     380.1398  &      534.816     &     0.711  &         0.478        &     -675.297    &     1435.577     \\\\\n",
       "\\textbf{C(clarity)[T.SI2]}   &     587.3026  &      488.614     &     1.202  &         0.231        &     -376.957    &     1551.562     \\\\\n",
       "\\textbf{C(clarity)[T.VVS1]}  &    1195.3675  &      540.906     &     2.210  &         0.028        &      127.913    &     2262.822     \\\\\n",
       "\\textbf{C(clarity)[T.VVS2]}  &    1525.8692  &      523.224     &     2.916  &         0.004        &      493.308    &     2558.430     \\\\\n",
       "\\textbf{C(color)[T.D]}       &    1392.5052  &      892.379     &     1.560  &         0.120        &     -368.566    &     3153.576     \\\\\n",
       "\\textbf{C(color)[T.E]}       &     174.0423  &      857.093     &     0.203  &         0.839        &    -1517.395    &     1865.479     \\\\\n",
       "\\textbf{C(color)[T.F]}       &     597.0206  &      823.697     &     0.725  &         0.470        &    -1028.510    &     2222.552     \\\\\n",
       "\\textbf{C(color)[T.G]}       &    1059.1997  &      803.925     &     1.318  &         0.189        &     -527.311    &     2645.710     \\\\\n",
       "\\textbf{C(color)[T.H]}       &     432.2786  &      842.943     &     0.513  &         0.609        &    -1231.234    &     2095.791     \\\\\n",
       "\\textbf{C(color)[T.I]}       &    1198.9180  &      826.796     &     1.450  &         0.149        &     -432.729    &     2830.565     \\\\\n",
       "\\textbf{C(color)[T.J]}       &    -168.3531  &     1010.631     &    -0.167  &         0.868        &    -2162.789    &     1826.083     \\\\\n",
       "\\textbf{C(cut)[T.GOOD]}      &    -304.8715  &      468.597     &    -0.651  &         0.516        &    -1229.627    &      619.884     \\\\\n",
       "\\textbf{C(cut)[T.IDEAL]}     &     415.4134  &      520.516     &     0.798  &         0.426        &     -611.803    &     1442.630     \\\\\n",
       "\\textbf{C(cut)[T.PREMIUM]}   &     831.3945  &      514.827     &     1.615  &         0.108        &     -184.594    &     1847.383     \\\\\n",
       "\\textbf{C(cut)[T.VERY GOOD]} &     325.8713  &      490.523     &     0.664  &         0.507        &     -642.155    &     1293.897     \\\\\n",
       "\\textbf{carat}               &    5199.7001  &     1534.194     &     3.389  &         0.001        &     2172.033    &     8227.367     \\\\\n",
       "\\textbf{xdimension}          &    8311.9939  &     2150.125     &     3.866  &         0.000        &     4068.815    &     1.26e+04     \\\\\n",
       "\\textbf{ydimension}          &   -2236.6409  &     1456.648     &    -1.535  &         0.126        &    -5111.274    &      637.992     \\\\\n",
       "\\textbf{zdimension}          &     201.8851  &     1486.610     &     0.136  &         0.892        &    -2731.876    &     3135.647     \\\\\n",
       "\\textbf{depth}               &    1426.1330  &     1391.529     &     1.025  &         0.307        &    -1319.989    &     4172.255     \\\\\n",
       "\\textbf{table}               &    1577.1265  &      747.841     &     2.109  &         0.036        &      101.295    &     3052.958     \\\\\n",
       "\\bottomrule\n",
       "\\end{tabular}\n",
       "\\begin{tabular}{lclc}\n",
       "\\textbf{Omnibus:}       & 182.878 & \\textbf{  Durbin-Watson:     } &    1.915  \\\\\n",
       "\\textbf{Prob(Omnibus):} &   0.000 & \\textbf{  Jarque-Bera (JB):  } & 4075.027  \\\\\n",
       "\\textbf{Skew:}          &   3.399 & \\textbf{  Prob(JB):          } &     0.00  \\\\\n",
       "\\textbf{Kurtosis:}      &  24.043 & \\textbf{  Cond. No.          } &     36.5  \\\\\n",
       "\\bottomrule\n",
       "\\end{tabular}\n",
       "%\\caption{OLS Regression Results}\n",
       "\\end{center}\n",
       "\n",
       "Notes: \\newline\n",
       " [1] Standard Errors assume that the covariance matrix of the errors is correctly specified."
      ],
      "text/plain": [
       "<class 'statsmodels.iolib.summary.Summary'>\n",
       "\"\"\"\n",
       "                            OLS Regression Results                            \n",
       "==============================================================================\n",
       "Dep. Variable:                  price   R-squared:                       0.720\n",
       "Model:                            OLS   Adj. R-squared:                  0.686\n",
       "Method:                 Least Squares   F-statistic:                     20.72\n",
       "Date:                Sun, 04 Feb 2024   Prob (F-statistic):           6.22e-38\n",
       "Time:                        00:29:10   Log-Likelihood:                -1786.5\n",
       "No. Observations:                 200   AIC:                             3619.\n",
       "Df Residuals:                     177   BIC:                             3695.\n",
       "Df Model:                          22                                         \n",
       "Covariance Type:            nonrobust                                         \n",
       "=======================================================================================\n",
       "                          coef    std err          t      P>|t|      [0.025      0.975]\n",
       "---------------------------------------------------------------------------------------\n",
       "Intercept           -3812.7667   1212.340     -3.145      0.002   -6205.268   -1420.265\n",
       "C(clarity)[T.IF]     1400.8085    584.515      2.397      0.018     247.294    2554.323\n",
       "C(clarity)[T.SI1]     380.1398    534.816      0.711      0.478    -675.297    1435.577\n",
       "C(clarity)[T.SI2]     587.3026    488.614      1.202      0.231    -376.957    1551.562\n",
       "C(clarity)[T.VVS1]   1195.3675    540.906      2.210      0.028     127.913    2262.822\n",
       "C(clarity)[T.VVS2]   1525.8692    523.224      2.916      0.004     493.308    2558.430\n",
       "C(color)[T.D]        1392.5052    892.379      1.560      0.120    -368.566    3153.576\n",
       "C(color)[T.E]         174.0423    857.093      0.203      0.839   -1517.395    1865.479\n",
       "C(color)[T.F]         597.0206    823.697      0.725      0.470   -1028.510    2222.552\n",
       "C(color)[T.G]        1059.1997    803.925      1.318      0.189    -527.311    2645.710\n",
       "C(color)[T.H]         432.2786    842.943      0.513      0.609   -1231.234    2095.791\n",
       "C(color)[T.I]        1198.9180    826.796      1.450      0.149    -432.729    2830.565\n",
       "C(color)[T.J]        -168.3531   1010.631     -0.167      0.868   -2162.789    1826.083\n",
       "C(cut)[T.GOOD]       -304.8715    468.597     -0.651      0.516   -1229.627     619.884\n",
       "C(cut)[T.IDEAL]       415.4134    520.516      0.798      0.426    -611.803    1442.630\n",
       "C(cut)[T.PREMIUM]     831.3945    514.827      1.615      0.108    -184.594    1847.383\n",
       "C(cut)[T.VERY GOOD]   325.8713    490.523      0.664      0.507    -642.155    1293.897\n",
       "carat                5199.7001   1534.194      3.389      0.001    2172.033    8227.367\n",
       "xdimension           8311.9939   2150.125      3.866      0.000    4068.815    1.26e+04\n",
       "ydimension          -2236.6409   1456.648     -1.535      0.126   -5111.274     637.992\n",
       "zdimension            201.8851   1486.610      0.136      0.892   -2731.876    3135.647\n",
       "depth                1426.1330   1391.529      1.025      0.307   -1319.989    4172.255\n",
       "table                1577.1265    747.841      2.109      0.036     101.295    3052.958\n",
       "==============================================================================\n",
       "Omnibus:                      182.878   Durbin-Watson:                   1.915\n",
       "Prob(Omnibus):                  0.000   Jarque-Bera (JB):             4075.027\n",
       "Skew:                           3.399   Prob(JB):                         0.00\n",
       "Kurtosis:                      24.043   Cond. No.                         36.5\n",
       "==============================================================================\n",
       "\n",
       "Notes:\n",
       "[1] Standard Errors assume that the covariance matrix of the errors is correctly specified.\n",
       "\"\"\""
      ]
     },
     "metadata": {},
     "output_type": "display_data"
    }
   ],
   "source": [
    "model = smf.ols(formula=\"price ~ carat + xdimension + ydimension + zdimension + depth + table + C(clarity) + C(color) + C(cut)\", data=normalized_df).fit()\n",
    "display(model.summary())"
   ]
  },
  {
   "cell_type": "code",
   "execution_count": 381,
   "metadata": {},
   "outputs": [
    {
     "data": {
      "text/html": [
       "<div>\n",
       "<style scoped>\n",
       "    .dataframe tbody tr th:only-of-type {\n",
       "        vertical-align: middle;\n",
       "    }\n",
       "\n",
       "    .dataframe tbody tr th {\n",
       "        vertical-align: top;\n",
       "    }\n",
       "\n",
       "    .dataframe thead th {\n",
       "        text-align: right;\n",
       "    }\n",
       "</style>\n",
       "<table border=\"1\" class=\"dataframe\">\n",
       "  <thead>\n",
       "    <tr style=\"text-align: right;\">\n",
       "      <th></th>\n",
       "      <th>carat</th>\n",
       "      <th>xdimension</th>\n",
       "      <th>ydimension</th>\n",
       "      <th>zdimension</th>\n",
       "      <th>depth</th>\n",
       "      <th>table</th>\n",
       "      <th>price</th>\n",
       "      <th>clarity_IF</th>\n",
       "      <th>clarity_SI1</th>\n",
       "      <th>clarity_SI2</th>\n",
       "      <th>...</th>\n",
       "      <th>color_E</th>\n",
       "      <th>color_F</th>\n",
       "      <th>color_G</th>\n",
       "      <th>color_H</th>\n",
       "      <th>color_I</th>\n",
       "      <th>color_J</th>\n",
       "      <th>cut_GOOD</th>\n",
       "      <th>cut_IDEAL</th>\n",
       "      <th>cut_PREMIUM</th>\n",
       "      <th>cut_VERY GOOD</th>\n",
       "    </tr>\n",
       "  </thead>\n",
       "  <tbody>\n",
       "    <tr>\n",
       "      <th>0</th>\n",
       "      <td>0.214286</td>\n",
       "      <td>0.352941</td>\n",
       "      <td>0.371681</td>\n",
       "      <td>0.377990</td>\n",
       "      <td>0.388889</td>\n",
       "      <td>0.500000</td>\n",
       "      <td>3000.0</td>\n",
       "      <td>1</td>\n",
       "      <td>0</td>\n",
       "      <td>0</td>\n",
       "      <td>...</td>\n",
       "      <td>0</td>\n",
       "      <td>0</td>\n",
       "      <td>0</td>\n",
       "      <td>0</td>\n",
       "      <td>0</td>\n",
       "      <td>0</td>\n",
       "      <td>0</td>\n",
       "      <td>1</td>\n",
       "      <td>0</td>\n",
       "      <td>0</td>\n",
       "    </tr>\n",
       "    <tr>\n",
       "      <th>1</th>\n",
       "      <td>0.357143</td>\n",
       "      <td>0.529412</td>\n",
       "      <td>0.578171</td>\n",
       "      <td>0.531100</td>\n",
       "      <td>0.444444</td>\n",
       "      <td>0.833333</td>\n",
       "      <td>4500.0</td>\n",
       "      <td>0</td>\n",
       "      <td>0</td>\n",
       "      <td>0</td>\n",
       "      <td>...</td>\n",
       "      <td>1</td>\n",
       "      <td>0</td>\n",
       "      <td>0</td>\n",
       "      <td>0</td>\n",
       "      <td>0</td>\n",
       "      <td>0</td>\n",
       "      <td>0</td>\n",
       "      <td>0</td>\n",
       "      <td>1</td>\n",
       "      <td>0</td>\n",
       "    </tr>\n",
       "    <tr>\n",
       "      <th>2</th>\n",
       "      <td>0.392857</td>\n",
       "      <td>0.117647</td>\n",
       "      <td>0.239676</td>\n",
       "      <td>0.624402</td>\n",
       "      <td>0.611111</td>\n",
       "      <td>0.333333</td>\n",
       "      <td>700.0</td>\n",
       "      <td>0</td>\n",
       "      <td>0</td>\n",
       "      <td>1</td>\n",
       "      <td>...</td>\n",
       "      <td>0</td>\n",
       "      <td>0</td>\n",
       "      <td>0</td>\n",
       "      <td>1</td>\n",
       "      <td>0</td>\n",
       "      <td>0</td>\n",
       "      <td>1</td>\n",
       "      <td>0</td>\n",
       "      <td>0</td>\n",
       "      <td>0</td>\n",
       "    </tr>\n",
       "    <tr>\n",
       "      <th>3</th>\n",
       "      <td>0.714286</td>\n",
       "      <td>0.588235</td>\n",
       "      <td>0.864307</td>\n",
       "      <td>0.856459</td>\n",
       "      <td>0.388889</td>\n",
       "      <td>0.666667</td>\n",
       "      <td>10000.0</td>\n",
       "      <td>1</td>\n",
       "      <td>0</td>\n",
       "      <td>0</td>\n",
       "      <td>...</td>\n",
       "      <td>0</td>\n",
       "      <td>0</td>\n",
       "      <td>0</td>\n",
       "      <td>0</td>\n",
       "      <td>0</td>\n",
       "      <td>0</td>\n",
       "      <td>0</td>\n",
       "      <td>1</td>\n",
       "      <td>0</td>\n",
       "      <td>0</td>\n",
       "    </tr>\n",
       "    <tr>\n",
       "      <th>4</th>\n",
       "      <td>0.500000</td>\n",
       "      <td>0.617647</td>\n",
       "      <td>0.578171</td>\n",
       "      <td>0.617225</td>\n",
       "      <td>0.388889</td>\n",
       "      <td>0.500000</td>\n",
       "      <td>2400.0</td>\n",
       "      <td>0</td>\n",
       "      <td>0</td>\n",
       "      <td>0</td>\n",
       "      <td>...</td>\n",
       "      <td>0</td>\n",
       "      <td>0</td>\n",
       "      <td>0</td>\n",
       "      <td>0</td>\n",
       "      <td>0</td>\n",
       "      <td>1</td>\n",
       "      <td>0</td>\n",
       "      <td>0</td>\n",
       "      <td>0</td>\n",
       "      <td>0</td>\n",
       "    </tr>\n",
       "  </tbody>\n",
       "</table>\n",
       "<p>5 rows × 23 columns</p>\n",
       "</div>"
      ],
      "text/plain": [
       "      carat  xdimension  ydimension  zdimension     depth     table    price  \\\n",
       "0  0.214286    0.352941    0.371681    0.377990  0.388889  0.500000   3000.0   \n",
       "1  0.357143    0.529412    0.578171    0.531100  0.444444  0.833333   4500.0   \n",
       "2  0.392857    0.117647    0.239676    0.624402  0.611111  0.333333    700.0   \n",
       "3  0.714286    0.588235    0.864307    0.856459  0.388889  0.666667  10000.0   \n",
       "4  0.500000    0.617647    0.578171    0.617225  0.388889  0.500000   2400.0   \n",
       "\n",
       "   clarity_IF  clarity_SI1  clarity_SI2  ...  color_E  color_F  color_G  \\\n",
       "0           1            0            0  ...        0        0        0   \n",
       "1           0            0            0  ...        1        0        0   \n",
       "2           0            0            1  ...        0        0        0   \n",
       "3           1            0            0  ...        0        0        0   \n",
       "4           0            0            0  ...        0        0        0   \n",
       "\n",
       "   color_H  color_I  color_J  cut_GOOD  cut_IDEAL  cut_PREMIUM  cut_VERY GOOD  \n",
       "0        0        0        0         0          1            0              0  \n",
       "1        0        0        0         0          0            1              0  \n",
       "2        1        0        0         1          0            0              0  \n",
       "3        0        0        0         0          1            0              0  \n",
       "4        0        0        1         0          0            0              0  \n",
       "\n",
       "[5 rows x 23 columns]"
      ]
     },
     "execution_count": 381,
     "metadata": {},
     "output_type": "execute_result"
    }
   ],
   "source": [
    "normalized_df = pd.get_dummies(normalized_df, columns=['clarity', 'color', 'cut'], drop_first=True)\n",
    "normalized_df = normalized_df.astype({col: int for col in normalized_df.columns[7:]})\n",
    "normalized_df.head()"
   ]
  },
  {
   "cell_type": "code",
   "execution_count": 382,
   "metadata": {},
   "outputs": [],
   "source": [
    "def forward_selection(X, initial_list=[],\n",
    "                      threshold_in=0.01,\n",
    "                      verbose=True):\n",
    "    included = list(initial_list)\n",
    "    formula = \"price ~\"\n",
    "    while True:\n",
    "        changed=False\n",
    "        excluded = list(set(X.columns)-set(included))\n",
    "        new_pval = pd.Series(index=excluded)\n",
    "        print(formula)\n",
    "        for new_column in excluded:\n",
    "            model = smf.ols(formula=formula + \" \" + new_column if formula == \"price ~\" else formula + \" + \" + new_column, data=X).fit()\n",
    "            new_pval[new_column] = model.pvalues[new_column]\n",
    "        best_pval = new_pval.min()\n",
    "        if best_pval < threshold_in:\n",
    "            best_feature = excluded[new_pval.argmin()]\n",
    "            included.append(best_feature)\n",
    "            changed=True\n",
    "            if verbose:\n",
    "                print('Add {} with p-value {}'.format(best_feature, best_pval))\n",
    "            formula=formula + \" \" + best_feature if formula == \"price ~\" else formula + \" + \" + best_feature\n",
    "        if not changed:\n",
    "            break\n",
    "    return included"
   ]
  },
  {
   "cell_type": "code",
   "execution_count": 383,
   "metadata": {},
   "outputs": [
    {
     "name": "stdout",
     "output_type": "stream",
     "text": [
      "price ~\n",
      "Add xdimension with p-value 9.385686313009106e-45\n",
      "price ~ xdimension\n",
      "Add table with p-value 0.0006283848512421541\n",
      "price ~ xdimension + table\n",
      "Add carat with p-value 0.003746992838645761\n",
      "price ~ xdimension + table + carat\n"
     ]
    },
    {
     "data": {
      "text/plain": [
       "['price', 'xdimension', 'table', 'carat']"
      ]
     },
     "execution_count": 383,
     "metadata": {},
     "output_type": "execute_result"
    }
   ],
   "source": [
    "forward_selection(normalized_df.rename(columns={\"cut_VERY GOOD\" : \"cut_VERY_GOOD\"}), initial_list=['price'], verbose=True)"
   ]
  },
  {
   "cell_type": "code",
   "execution_count": 384,
   "metadata": {},
   "outputs": [
    {
     "data": {
      "text/html": [
       "<table class=\"simpletable\">\n",
       "<caption>OLS Regression Results</caption>\n",
       "<tr>\n",
       "  <th>Dep. Variable:</th>          <td>price</td>      <th>  R-squared:         </th> <td>   0.667</td>\n",
       "</tr>\n",
       "<tr>\n",
       "  <th>Model:</th>                   <td>OLS</td>       <th>  Adj. R-squared:    </th> <td>   0.662</td>\n",
       "</tr>\n",
       "<tr>\n",
       "  <th>Method:</th>             <td>Least Squares</td>  <th>  F-statistic:       </th> <td>   130.9</td>\n",
       "</tr>\n",
       "<tr>\n",
       "  <th>Date:</th>             <td>Sun, 04 Feb 2024</td> <th>  Prob (F-statistic):</th> <td>1.43e-46</td>\n",
       "</tr>\n",
       "<tr>\n",
       "  <th>Time:</th>                 <td>00:29:19</td>     <th>  Log-Likelihood:    </th> <td> -1803.9</td>\n",
       "</tr>\n",
       "<tr>\n",
       "  <th>No. Observations:</th>      <td>   200</td>      <th>  AIC:               </th> <td>   3616.</td>\n",
       "</tr>\n",
       "<tr>\n",
       "  <th>Df Residuals:</th>          <td>   196</td>      <th>  BIC:               </th> <td>   3629.</td>\n",
       "</tr>\n",
       "<tr>\n",
       "  <th>Df Model:</th>              <td>     3</td>      <th>                     </th>     <td> </td>   \n",
       "</tr>\n",
       "<tr>\n",
       "  <th>Covariance Type:</th>      <td>nonrobust</td>    <th>                     </th>     <td> </td>   \n",
       "</tr>\n",
       "</table>\n",
       "<table class=\"simpletable\">\n",
       "<tr>\n",
       "       <td></td>         <th>coef</th>     <th>std err</th>      <th>t</th>      <th>P>|t|</th>  <th>[0.025</th>    <th>0.975]</th>  \n",
       "</tr>\n",
       "<tr>\n",
       "  <th>Intercept</th>  <td>-2353.6137</td> <td>  467.132</td> <td>   -5.038</td> <td> 0.000</td> <td>-3274.865</td> <td>-1432.363</td>\n",
       "</tr>\n",
       "<tr>\n",
       "  <th>xdimension</th> <td> 8411.5607</td> <td> 1301.332</td> <td>    6.464</td> <td> 0.000</td> <td> 5845.151</td> <td>  1.1e+04</td>\n",
       "</tr>\n",
       "<tr>\n",
       "  <th>table</th>      <td> 2366.3035</td> <td>  682.263</td> <td>    3.468</td> <td> 0.001</td> <td> 1020.785</td> <td> 3711.822</td>\n",
       "</tr>\n",
       "<tr>\n",
       "  <th>carat</th>      <td> 4304.8164</td> <td> 1467.285</td> <td>    2.934</td> <td> 0.004</td> <td> 1411.123</td> <td> 7198.510</td>\n",
       "</tr>\n",
       "</table>\n",
       "<table class=\"simpletable\">\n",
       "<tr>\n",
       "  <th>Omnibus:</th>       <td>151.072</td> <th>  Durbin-Watson:     </th> <td>   2.007</td>\n",
       "</tr>\n",
       "<tr>\n",
       "  <th>Prob(Omnibus):</th> <td> 0.000</td>  <th>  Jarque-Bera (JB):  </th> <td>2273.300</td>\n",
       "</tr>\n",
       "<tr>\n",
       "  <th>Skew:</th>          <td> 2.690</td>  <th>  Prob(JB):          </th> <td>    0.00</td>\n",
       "</tr>\n",
       "<tr>\n",
       "  <th>Kurtosis:</th>      <td>18.616</td>  <th>  Cond. No.          </th> <td>    17.8</td>\n",
       "</tr>\n",
       "</table><br/><br/>Notes:<br/>[1] Standard Errors assume that the covariance matrix of the errors is correctly specified."
      ],
      "text/latex": [
       "\\begin{center}\n",
       "\\begin{tabular}{lclc}\n",
       "\\toprule\n",
       "\\textbf{Dep. Variable:}    &      price       & \\textbf{  R-squared:         } &     0.667   \\\\\n",
       "\\textbf{Model:}            &       OLS        & \\textbf{  Adj. R-squared:    } &     0.662   \\\\\n",
       "\\textbf{Method:}           &  Least Squares   & \\textbf{  F-statistic:       } &     130.9   \\\\\n",
       "\\textbf{Date:}             & Sun, 04 Feb 2024 & \\textbf{  Prob (F-statistic):} &  1.43e-46   \\\\\n",
       "\\textbf{Time:}             &     00:29:19     & \\textbf{  Log-Likelihood:    } &   -1803.9   \\\\\n",
       "\\textbf{No. Observations:} &         200      & \\textbf{  AIC:               } &     3616.   \\\\\n",
       "\\textbf{Df Residuals:}     &         196      & \\textbf{  BIC:               } &     3629.   \\\\\n",
       "\\textbf{Df Model:}         &           3      & \\textbf{                     } &             \\\\\n",
       "\\textbf{Covariance Type:}  &    nonrobust     & \\textbf{                     } &             \\\\\n",
       "\\bottomrule\n",
       "\\end{tabular}\n",
       "\\begin{tabular}{lcccccc}\n",
       "                    & \\textbf{coef} & \\textbf{std err} & \\textbf{t} & \\textbf{P$> |$t$|$} & \\textbf{[0.025} & \\textbf{0.975]}  \\\\\n",
       "\\midrule\n",
       "\\textbf{Intercept}  &   -2353.6137  &      467.132     &    -5.038  &         0.000        &    -3274.865    &    -1432.363     \\\\\n",
       "\\textbf{xdimension} &    8411.5607  &     1301.332     &     6.464  &         0.000        &     5845.151    &      1.1e+04     \\\\\n",
       "\\textbf{table}      &    2366.3035  &      682.263     &     3.468  &         0.001        &     1020.785    &     3711.822     \\\\\n",
       "\\textbf{carat}      &    4304.8164  &     1467.285     &     2.934  &         0.004        &     1411.123    &     7198.510     \\\\\n",
       "\\bottomrule\n",
       "\\end{tabular}\n",
       "\\begin{tabular}{lclc}\n",
       "\\textbf{Omnibus:}       & 151.072 & \\textbf{  Durbin-Watson:     } &    2.007  \\\\\n",
       "\\textbf{Prob(Omnibus):} &   0.000 & \\textbf{  Jarque-Bera (JB):  } & 2273.300  \\\\\n",
       "\\textbf{Skew:}          &   2.690 & \\textbf{  Prob(JB):          } &     0.00  \\\\\n",
       "\\textbf{Kurtosis:}      &  18.616 & \\textbf{  Cond. No.          } &     17.8  \\\\\n",
       "\\bottomrule\n",
       "\\end{tabular}\n",
       "%\\caption{OLS Regression Results}\n",
       "\\end{center}\n",
       "\n",
       "Notes: \\newline\n",
       " [1] Standard Errors assume that the covariance matrix of the errors is correctly specified."
      ],
      "text/plain": [
       "<class 'statsmodels.iolib.summary.Summary'>\n",
       "\"\"\"\n",
       "                            OLS Regression Results                            \n",
       "==============================================================================\n",
       "Dep. Variable:                  price   R-squared:                       0.667\n",
       "Model:                            OLS   Adj. R-squared:                  0.662\n",
       "Method:                 Least Squares   F-statistic:                     130.9\n",
       "Date:                Sun, 04 Feb 2024   Prob (F-statistic):           1.43e-46\n",
       "Time:                        00:29:19   Log-Likelihood:                -1803.9\n",
       "No. Observations:                 200   AIC:                             3616.\n",
       "Df Residuals:                     196   BIC:                             3629.\n",
       "Df Model:                           3                                         \n",
       "Covariance Type:            nonrobust                                         \n",
       "==============================================================================\n",
       "                 coef    std err          t      P>|t|      [0.025      0.975]\n",
       "------------------------------------------------------------------------------\n",
       "Intercept  -2353.6137    467.132     -5.038      0.000   -3274.865   -1432.363\n",
       "xdimension  8411.5607   1301.332      6.464      0.000    5845.151     1.1e+04\n",
       "table       2366.3035    682.263      3.468      0.001    1020.785    3711.822\n",
       "carat       4304.8164   1467.285      2.934      0.004    1411.123    7198.510\n",
       "==============================================================================\n",
       "Omnibus:                      151.072   Durbin-Watson:                   2.007\n",
       "Prob(Omnibus):                  0.000   Jarque-Bera (JB):             2273.300\n",
       "Skew:                           2.690   Prob(JB):                         0.00\n",
       "Kurtosis:                      18.616   Cond. No.                         17.8\n",
       "==============================================================================\n",
       "\n",
       "Notes:\n",
       "[1] Standard Errors assume that the covariance matrix of the errors is correctly specified.\n",
       "\"\"\""
      ]
     },
     "metadata": {},
     "output_type": "display_data"
    }
   ],
   "source": [
    "model = smf.ols(formula=\"price ~ xdimension + table + carat\", data=normalized_df).fit()\n",
    "display(model.summary())"
   ]
  },
  {
   "cell_type": "code",
   "execution_count": 385,
   "metadata": {},
   "outputs": [
    {
     "data": {
      "text/html": [
       "<table class=\"simpletable\">\n",
       "<caption>OLS Regression Results</caption>\n",
       "<tr>\n",
       "  <th>Dep. Variable:</th>          <td>price</td>      <th>  R-squared:         </th> <td>   0.669</td>\n",
       "</tr>\n",
       "<tr>\n",
       "  <th>Model:</th>                   <td>OLS</td>       <th>  Adj. R-squared:    </th> <td>   0.667</td>\n",
       "</tr>\n",
       "<tr>\n",
       "  <th>Method:</th>             <td>Least Squares</td>  <th>  F-statistic:       </th> <td>   399.4</td>\n",
       "</tr>\n",
       "<tr>\n",
       "  <th>Date:</th>             <td>Sun, 04 Feb 2024</td> <th>  Prob (F-statistic):</th> <td>2.30e-49</td>\n",
       "</tr>\n",
       "<tr>\n",
       "  <th>Time:</th>                 <td>00:29:22</td>     <th>  Log-Likelihood:    </th> <td> -1803.5</td>\n",
       "</tr>\n",
       "<tr>\n",
       "  <th>No. Observations:</th>      <td>   200</td>      <th>  AIC:               </th> <td>   3611.</td>\n",
       "</tr>\n",
       "<tr>\n",
       "  <th>Df Residuals:</th>          <td>   198</td>      <th>  BIC:               </th> <td>   3618.</td>\n",
       "</tr>\n",
       "<tr>\n",
       "  <th>Df Model:</th>              <td>     1</td>      <th>                     </th>     <td> </td>   \n",
       "</tr>\n",
       "<tr>\n",
       "  <th>Covariance Type:</th>      <td>nonrobust</td>    <th>                     </th>     <td> </td>   \n",
       "</tr>\n",
       "</table>\n",
       "<table class=\"simpletable\">\n",
       "<tr>\n",
       "           <td></td>             <th>coef</th>     <th>std err</th>      <th>t</th>      <th>P>|t|</th>  <th>[0.025</th>    <th>0.975]</th>  \n",
       "</tr>\n",
       "<tr>\n",
       "  <th>Intercept</th>          <td> 1215.6503</td> <td>  257.688</td> <td>    4.718</td> <td> 0.000</td> <td>  707.486</td> <td> 1723.815</td>\n",
       "</tr>\n",
       "<tr>\n",
       "  <th>I(xdimension ** 2)</th> <td> 1.098e+04</td> <td>  549.643</td> <td>   19.984</td> <td> 0.000</td> <td> 9900.330</td> <td> 1.21e+04</td>\n",
       "</tr>\n",
       "</table>\n",
       "<table class=\"simpletable\">\n",
       "<tr>\n",
       "  <th>Omnibus:</th>       <td>167.058</td> <th>  Durbin-Watson:     </th> <td>   2.015</td>\n",
       "</tr>\n",
       "<tr>\n",
       "  <th>Prob(Omnibus):</th> <td> 0.000</td>  <th>  Jarque-Bera (JB):  </th> <td>3641.921</td>\n",
       "</tr>\n",
       "<tr>\n",
       "  <th>Skew:</th>          <td> 2.953</td>  <th>  Prob(JB):          </th> <td>    0.00</td>\n",
       "</tr>\n",
       "<tr>\n",
       "  <th>Kurtosis:</th>      <td>23.054</td>  <th>  Cond. No.          </th> <td>    4.51</td>\n",
       "</tr>\n",
       "</table><br/><br/>Notes:<br/>[1] Standard Errors assume that the covariance matrix of the errors is correctly specified."
      ],
      "text/latex": [
       "\\begin{center}\n",
       "\\begin{tabular}{lclc}\n",
       "\\toprule\n",
       "\\textbf{Dep. Variable:}     &      price       & \\textbf{  R-squared:         } &     0.669   \\\\\n",
       "\\textbf{Model:}             &       OLS        & \\textbf{  Adj. R-squared:    } &     0.667   \\\\\n",
       "\\textbf{Method:}            &  Least Squares   & \\textbf{  F-statistic:       } &     399.4   \\\\\n",
       "\\textbf{Date:}              & Sun, 04 Feb 2024 & \\textbf{  Prob (F-statistic):} &  2.30e-49   \\\\\n",
       "\\textbf{Time:}              &     00:29:22     & \\textbf{  Log-Likelihood:    } &   -1803.5   \\\\\n",
       "\\textbf{No. Observations:}  &         200      & \\textbf{  AIC:               } &     3611.   \\\\\n",
       "\\textbf{Df Residuals:}      &         198      & \\textbf{  BIC:               } &     3618.   \\\\\n",
       "\\textbf{Df Model:}          &           1      & \\textbf{                     } &             \\\\\n",
       "\\textbf{Covariance Type:}   &    nonrobust     & \\textbf{                     } &             \\\\\n",
       "\\bottomrule\n",
       "\\end{tabular}\n",
       "\\begin{tabular}{lcccccc}\n",
       "                            & \\textbf{coef} & \\textbf{std err} & \\textbf{t} & \\textbf{P$> |$t$|$} & \\textbf{[0.025} & \\textbf{0.975]}  \\\\\n",
       "\\midrule\n",
       "\\textbf{Intercept}          &    1215.6503  &      257.688     &     4.718  &         0.000        &      707.486    &     1723.815     \\\\\n",
       "\\textbf{I(xdimension ** 2)} &    1.098e+04  &      549.643     &    19.984  &         0.000        &     9900.330    &     1.21e+04     \\\\\n",
       "\\bottomrule\n",
       "\\end{tabular}\n",
       "\\begin{tabular}{lclc}\n",
       "\\textbf{Omnibus:}       & 167.058 & \\textbf{  Durbin-Watson:     } &    2.015  \\\\\n",
       "\\textbf{Prob(Omnibus):} &   0.000 & \\textbf{  Jarque-Bera (JB):  } & 3641.921  \\\\\n",
       "\\textbf{Skew:}          &   2.953 & \\textbf{  Prob(JB):          } &     0.00  \\\\\n",
       "\\textbf{Kurtosis:}      &  23.054 & \\textbf{  Cond. No.          } &     4.51  \\\\\n",
       "\\bottomrule\n",
       "\\end{tabular}\n",
       "%\\caption{OLS Regression Results}\n",
       "\\end{center}\n",
       "\n",
       "Notes: \\newline\n",
       " [1] Standard Errors assume that the covariance matrix of the errors is correctly specified."
      ],
      "text/plain": [
       "<class 'statsmodels.iolib.summary.Summary'>\n",
       "\"\"\"\n",
       "                            OLS Regression Results                            \n",
       "==============================================================================\n",
       "Dep. Variable:                  price   R-squared:                       0.669\n",
       "Model:                            OLS   Adj. R-squared:                  0.667\n",
       "Method:                 Least Squares   F-statistic:                     399.4\n",
       "Date:                Sun, 04 Feb 2024   Prob (F-statistic):           2.30e-49\n",
       "Time:                        00:29:22   Log-Likelihood:                -1803.5\n",
       "No. Observations:                 200   AIC:                             3611.\n",
       "Df Residuals:                     198   BIC:                             3618.\n",
       "Df Model:                           1                                         \n",
       "Covariance Type:            nonrobust                                         \n",
       "======================================================================================\n",
       "                         coef    std err          t      P>|t|      [0.025      0.975]\n",
       "--------------------------------------------------------------------------------------\n",
       "Intercept           1215.6503    257.688      4.718      0.000     707.486    1723.815\n",
       "I(xdimension ** 2)  1.098e+04    549.643     19.984      0.000    9900.330    1.21e+04\n",
       "==============================================================================\n",
       "Omnibus:                      167.058   Durbin-Watson:                   2.015\n",
       "Prob(Omnibus):                  0.000   Jarque-Bera (JB):             3641.921\n",
       "Skew:                           2.953   Prob(JB):                         0.00\n",
       "Kurtosis:                      23.054   Cond. No.                         4.51\n",
       "==============================================================================\n",
       "\n",
       "Notes:\n",
       "[1] Standard Errors assume that the covariance matrix of the errors is correctly specified.\n",
       "\"\"\""
      ]
     },
     "metadata": {},
     "output_type": "display_data"
    }
   ],
   "source": [
    "model = smf.ols(formula=\"price ~ I(xdimension**2)\", data=normalized_df).fit()\n",
    "display(model.summary())"
   ]
  },
  {
   "cell_type": "code",
   "execution_count": 386,
   "metadata": {},
   "outputs": [],
   "source": [
    "normalized_df.rename(columns={\"cut_VERY GOOD\" : \"cut_VERY_GOOD\"}).to_csv('regression_data.csv', index=False)"
   ]
  }
 ],
 "metadata": {
  "kernelspec": {
   "display_name": "Python 3",
   "language": "python",
   "name": "python3"
  },
  "language_info": {
   "codemirror_mode": {
    "name": "ipython",
    "version": 3
   },
   "file_extension": ".py",
   "mimetype": "text/x-python",
   "name": "python",
   "nbconvert_exporter": "python",
   "pygments_lexer": "ipython3",
   "version": "3.11.7"
  }
 },
 "nbformat": 4,
 "nbformat_minor": 2
}
